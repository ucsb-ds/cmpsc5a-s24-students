{
 "cells": [
  {
   "cell_type": "code",
   "execution_count": 1,
   "id": "d6eba674-c4eb-4adc-a242-3e0f557f20bd",
   "metadata": {
    "tags": []
   },
   "outputs": [],
   "source": [
    "from datascience import *\n",
    "import numpy as np\n",
    "\n",
    "%matplotlib inline\n",
    "import matplotlib.pyplot as plots\n",
    "plots.style.use('fivethirtyeight')"
   ]
  },
  {
   "cell_type": "markdown",
   "id": "68566a37-fe56-4d1c-beda-b00a7114132d",
   "metadata": {},
   "source": [
    "# Markdown\n",
    "- Create bullet list\n",
    "- Create a numbered list\n",
    "  1. Here is my numbered\n",
    "  2. list\n",
    "- Create a table\n",
    "\n",
    "|column 1 | column2|\n",
    "|--|--|\n",
    "| a| b|"
   ]
  },
  {
   "cell_type": "code",
   "execution_count": null,
   "id": "d1e45896-3619-458c-8934-106f91a55cc8",
   "metadata": {},
   "outputs": [],
   "source": [
    "# i can also write comments in a code cell\n",
    "# using pound/hashtag symbols\n",
    "# to accompany my code in a code cell\n",
    "# it appears green like this\n",
    "# and tells python to not execute these comments\n",
    "# it provides some context/explanation for my code\n",
    "\n",
    "# really important so when i revisit this notebook, it is clear what i'm doing with my code\n",
    "\n"
   ]
  },
  {
   "cell_type": "code",
   "execution_count": null,
   "id": "b93754b0-d3d3-4cf4-b7eb-635cc1474aa0",
   "metadata": {},
   "outputs": [],
   "source": []
  },
  {
   "cell_type": "markdown",
   "id": "b0126bb6-5eb8-4c9e-8213-99cf13905570",
   "metadata": {},
   "source": [
    "# Python\n",
    "\n",
    "let's do some basic math operation: add, divide, multiply, raise"
   ]
  },
  {
   "cell_type": "code",
   "execution_count": 2,
   "id": "d1f1abf0-6720-4dd9-9b6d-983e6e25172d",
   "metadata": {},
   "outputs": [
    {
     "data": {
      "text/plain": [
       "4"
      ]
     },
     "execution_count": 2,
     "metadata": {},
     "output_type": "execute_result"
    }
   ],
   "source": [
    "2 + 2"
   ]
  },
  {
   "cell_type": "code",
   "execution_count": 3,
   "id": "ac25b56d-abe0-49d0-9492-4ecc55770e45",
   "metadata": {},
   "outputs": [
    {
     "data": {
      "text/plain": [
       "1.0"
      ]
     },
     "execution_count": 3,
     "metadata": {},
     "output_type": "execute_result"
    }
   ],
   "source": [
    "2 / 2 # with division, the output is always going to be a float data type (decimal value)"
   ]
  },
  {
   "cell_type": "code",
   "execution_count": 4,
   "id": "4fee271d-b7dd-4ca5-8ccf-10ce4e2057b1",
   "metadata": {},
   "outputs": [
    {
     "data": {
      "text/plain": [
       "4"
      ]
     },
     "execution_count": 4,
     "metadata": {},
     "output_type": "execute_result"
    }
   ],
   "source": [
    "2 * 2"
   ]
  },
  {
   "cell_type": "code",
   "execution_count": 5,
   "id": "18e84ed7-f51f-49d1-8f71-e67b0771af89",
   "metadata": {},
   "outputs": [
    {
     "data": {
      "text/plain": [
       "4"
      ]
     },
     "execution_count": 5,
     "metadata": {},
     "output_type": "execute_result"
    }
   ],
   "source": [
    "2 ** 2 # 2^2"
   ]
  },
  {
   "cell_type": "code",
   "execution_count": 6,
   "id": "042c5342-666a-400d-aa18-9afd85038033",
   "metadata": {},
   "outputs": [
    {
     "data": {
      "text/plain": [
       "8"
      ]
     },
     "execution_count": 6,
     "metadata": {},
     "output_type": "execute_result"
    }
   ],
   "source": [
    "2 ** 3 # 2^3"
   ]
  },
  {
   "cell_type": "markdown",
   "id": "1df6584d-33c5-4fbd-9514-3bb45a8d1d32",
   "metadata": {},
   "source": [
    "# Names/Variables\n",
    "- let's assign some values variables/names\n",
    "- let's use the variables\n",
    "- let's overwrite variables"
   ]
  },
  {
   "cell_type": "code",
   "execution_count": 7,
   "id": "e8f13286-f982-45ef-a711-d4971ee81783",
   "metadata": {},
   "outputs": [
    {
     "data": {
      "text/plain": [
       "2"
      ]
     },
     "execution_count": 7,
     "metadata": {},
     "output_type": "execute_result"
    }
   ],
   "source": [
    "x = 2 # assigning value of 2 to variable name x\n",
    "x # call on x, to display it below"
   ]
  },
  {
   "cell_type": "code",
   "execution_count": 9,
   "id": "31c23f52-4cfc-4d26-8f1f-2d04bbd40e3f",
   "metadata": {},
   "outputs": [
    {
     "data": {
      "text/plain": [
       "3"
      ]
     },
     "execution_count": 9,
     "metadata": {},
     "output_type": "execute_result"
    }
   ],
   "source": [
    "y = 3 # by default, python will not display a variable when a value is being assigned\n",
    "# to display or check the assignment was done properly, we \"call\" on a variable\n",
    "# by typing the variable name, like so\n",
    "y"
   ]
  },
  {
   "cell_type": "code",
   "execution_count": 10,
   "id": "890bb2bc-be5e-4d4e-a927-2af4b17c6c10",
   "metadata": {},
   "outputs": [
    {
     "data": {
      "text/plain": [
       "3"
      ]
     },
     "execution_count": 10,
     "metadata": {},
     "output_type": "execute_result"
    }
   ],
   "source": [
    "x = 3\n",
    "x"
   ]
  },
  {
   "cell_type": "code",
   "execution_count": 12,
   "id": "60e83998-c059-4ceb-b7af-d1a16122dc10",
   "metadata": {},
   "outputs": [
    {
     "data": {
      "text/plain": [
       "9"
      ]
     },
     "execution_count": 12,
     "metadata": {},
     "output_type": "execute_result"
    }
   ],
   "source": [
    "x * y # 3 * 3\n",
    "# python interprets here what x is and y is \n",
    "# 3 * 3 = 9"
   ]
  },
  {
   "cell_type": "code",
   "execution_count": 13,
   "id": "381c1bed-e6a6-46a3-8ef1-a5dcdaeaabd1",
   "metadata": {},
   "outputs": [
    {
     "data": {
      "text/plain": [
       "27"
      ]
     },
     "execution_count": 13,
     "metadata": {},
     "output_type": "execute_result"
    }
   ],
   "source": [
    "x ** y"
   ]
  },
  {
   "cell_type": "code",
   "execution_count": 14,
   "id": "8c449a8e-282d-41d2-bd51-bee185e415c5",
   "metadata": {},
   "outputs": [
    {
     "data": {
      "text/plain": [
       "1.0"
      ]
     },
     "execution_count": 14,
     "metadata": {},
     "output_type": "execute_result"
    }
   ],
   "source": [
    "x / y"
   ]
  },
  {
   "cell_type": "code",
   "execution_count": 15,
   "id": "29860f51-52fa-4bbe-8085-aa99d6b968d3",
   "metadata": {},
   "outputs": [
    {
     "data": {
      "text/plain": [
       "0"
      ]
     },
     "execution_count": 15,
     "metadata": {},
     "output_type": "execute_result"
    }
   ],
   "source": [
    "x - y"
   ]
  },
  {
   "cell_type": "code",
   "execution_count": 16,
   "id": "5434fac4-e8d8-4461-805a-2c7fe9c6d758",
   "metadata": {},
   "outputs": [
    {
     "data": {
      "text/plain": [
       "3"
      ]
     },
     "execution_count": 16,
     "metadata": {},
     "output_type": "execute_result"
    }
   ],
   "source": [
    "x"
   ]
  },
  {
   "cell_type": "code",
   "execution_count": 17,
   "id": "7b95d09a-6009-4cf7-95d9-0620b7eba643",
   "metadata": {},
   "outputs": [],
   "source": [
    "x = x - y\n"
   ]
  },
  {
   "cell_type": "code",
   "execution_count": 18,
   "id": "e092bb47-5475-44bb-86fa-ce410c7fb5c3",
   "metadata": {},
   "outputs": [
    {
     "data": {
      "text/plain": [
       "0"
      ]
     },
     "execution_count": 18,
     "metadata": {},
     "output_type": "execute_result"
    }
   ],
   "source": [
    "x"
   ]
  },
  {
   "cell_type": "markdown",
   "id": "e88ea74c-7af5-42fd-b90c-a11dc373773e",
   "metadata": {},
   "source": [
    "## Why names?\n",
    "- Calculate the annual salary for a person working full-time under California minimum wage of 15 USD/hour. \n",
    "- on 2023-01-01, the minimum wage was raised to 15.50 USD/hour. Recalculate the minimum wage."
   ]
  },
  {
   "cell_type": "code",
   "execution_count": 19,
   "id": "2af61ac8-22ab-4433-90d5-448a23223932",
   "metadata": {},
   "outputs": [
    {
     "data": {
      "text/plain": [
       "2080"
      ]
     },
     "execution_count": 19,
     "metadata": {},
     "output_type": "execute_result"
    }
   ],
   "source": [
    "hours_yearly = 40 * 52\n",
    "hours_yearly"
   ]
  },
  {
   "cell_type": "code",
   "execution_count": 20,
   "id": "c2f6e1cf-6e25-40c1-84fd-ccd6c7d2e3a9",
   "metadata": {},
   "outputs": [],
   "source": [
    "minimum_wage = 15"
   ]
  },
  {
   "cell_type": "code",
   "execution_count": 23,
   "id": "926c4638-bb8b-48bc-8ca1-4c6ed9145a69",
   "metadata": {},
   "outputs": [
    {
     "data": {
      "text/plain": [
       "31200"
      ]
     },
     "execution_count": 23,
     "metadata": {},
     "output_type": "execute_result"
    }
   ],
   "source": [
    "annual_salary = hours_yearly * minimum_wage\n",
    "annual_salary # value is saved to variable name annual_salary, not the expression above"
   ]
  },
  {
   "cell_type": "code",
   "execution_count": 26,
   "id": "1e39340b-767b-40ca-8fbf-88bb2648e9c5",
   "metadata": {},
   "outputs": [
    {
     "data": {
      "text/plain": [
       "32240.0"
      ]
     },
     "execution_count": 26,
     "metadata": {},
     "output_type": "execute_result"
    }
   ],
   "source": [
    "minimum_wage = 15.50\n",
    "annual_salary = annual_salary = hours_yearly * minimum_wage # when minimum_wage changes, we re-run the assignment here\n",
    "annual_salary # now annual_salary is recalculated"
   ]
  },
  {
   "cell_type": "markdown",
   "id": "2c9e3aa7-2d5b-44ee-b795-6a6b86832b2d",
   "metadata": {
    "tags": []
   },
   "source": [
    "## Strings\n",
    "lets create some strings"
   ]
  },
  {
   "cell_type": "code",
   "execution_count": null,
   "id": "c26403af-103c-4b62-9f65-b44556c8aa22",
   "metadata": {},
   "outputs": [],
   "source": []
  },
  {
   "cell_type": "code",
   "execution_count": null,
   "id": "48350871-cb69-43b6-a5a9-1ffc4f1dc493",
   "metadata": {},
   "outputs": [],
   "source": []
  },
  {
   "cell_type": "markdown",
   "id": "a1bbc7ec-ca1e-4077-b59b-4f1d75474a9c",
   "metadata": {},
   "source": [
    "# Functions\n",
    "- let's use some built-in functions. E.g:\n",
    "    - absolute value\n",
    "    - round\n",
    "    - the lower of two values\n",
    "- lets use the `help()` function to learn about the usage of functions\n",
    "- let's define our own function"
   ]
  },
  {
   "cell_type": "code",
   "execution_count": null,
   "id": "795144d4-3e8b-4edf-a7f2-3e0db2f030eb",
   "metadata": {},
   "outputs": [],
   "source": []
  },
  {
   "cell_type": "code",
   "execution_count": null,
   "id": "f3e52656-3c52-45c3-9d48-e7572b731d1d",
   "metadata": {},
   "outputs": [],
   "source": []
  },
  {
   "cell_type": "markdown",
   "id": "39c883d7-9dea-4a29-bf85-90f925f2e57c",
   "metadata": {
    "tags": []
   },
   "source": [
    "# Collections/Lists\n",
    "Lets define collections of values"
   ]
  },
  {
   "cell_type": "code",
   "execution_count": null,
   "id": "dfd6c130-db4e-4769-92ee-f43305073b4e",
   "metadata": {},
   "outputs": [],
   "source": []
  },
  {
   "cell_type": "code",
   "execution_count": null,
   "id": "6df0fb72-b022-49e5-9abe-3154624f1414",
   "metadata": {},
   "outputs": [],
   "source": []
  },
  {
   "cell_type": "markdown",
   "id": "c059d6a6-f73a-4c5a-b8e8-27438423c4b4",
   "metadata": {
    "tags": []
   },
   "source": [
    "# Tables\n",
    "usage: \n",
    "```python\n",
    "Table().with_columns([column1_name, column1_values,\n",
    "                      column2_name, column2_values,\n",
    "                      ...])\n",
    "```                      "
   ]
  },
  {
   "cell_type": "code",
   "execution_count": null,
   "id": "b9f2d7e9-a997-4412-8aa1-1f42c2774433",
   "metadata": {},
   "outputs": [],
   "source": []
  },
  {
   "cell_type": "code",
   "execution_count": null,
   "id": "974bbf6f-133c-4243-9958-98a28be186e6",
   "metadata": {},
   "outputs": [],
   "source": []
  }
 ],
 "metadata": {
  "kernelspec": {
   "display_name": "Python 3 (ipykernel)",
   "language": "python",
   "name": "python3"
  },
  "language_info": {
   "codemirror_mode": {
    "name": "ipython",
    "version": 3
   },
   "file_extension": ".py",
   "mimetype": "text/x-python",
   "name": "python",
   "nbconvert_exporter": "python",
   "pygments_lexer": "ipython3",
   "version": "3.11.5"
  }
 },
 "nbformat": 4,
 "nbformat_minor": 5
}
