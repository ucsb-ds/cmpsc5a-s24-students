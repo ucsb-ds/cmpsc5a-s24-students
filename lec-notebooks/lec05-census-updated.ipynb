{
 "cells": [
  {
   "cell_type": "code",
   "execution_count": 4,
   "metadata": {
    "tags": []
   },
   "outputs": [],
   "source": [
    "from datascience import *\n",
    "import numpy as np\n",
    "\n",
    "%matplotlib inline\n",
    "import matplotlib.pyplot as plots\n",
    "plots.style.use('fivethirtyeight')"
   ]
  },
  {
   "cell_type": "markdown",
   "metadata": {},
   "source": [
    "# Lecture 05: Census"
   ]
  },
  {
   "cell_type": "markdown",
   "metadata": {},
   "source": [
    "## Table Review: Welcome Survey\n",
    "\n",
    "Complete this [Class Data Survey](https://forms.gle/zesL78YAzUJZUzS68) UPDATED LINK. Individuals will not be identified. You may leave any answers blank. We'll use this Class Data to use the rest of the quarter. Thank you in advance!"
   ]
  },
  {
   "cell_type": "markdown",
   "metadata": {},
   "source": [
    "## Common Bugs"
   ]
  },
  {
   "cell_type": "markdown",
   "metadata": {},
   "source": [
    "**Exercise:** What happens if we run the following:\n",
    "\n",
    "```python\n",
    "a = make_array(0,1,2,3)\n",
    "bigger_array = make_array(1,2,3,4,5)\n",
    "a * bigger_array\n",
    "```"
   ]
  },
  {
   "cell_type": "code",
   "execution_count": null,
   "metadata": {},
   "outputs": [],
   "source": []
  },
  {
   "cell_type": "markdown",
   "metadata": {},
   "source": [
    "**Exercise:** What happens if I run the following:\n",
    "\n",
    "```python\n",
    "uhoh = make_array(0,1,2,3)\n",
    "a / uhoh\n",
    "```"
   ]
  },
  {
   "cell_type": "code",
   "execution_count": null,
   "metadata": {},
   "outputs": [],
   "source": []
  },
  {
   "cell_type": "markdown",
   "metadata": {},
   "source": [
    "**Exercise:** What happens if I run the following:\n",
    "\n",
    "```python\n",
    "a.item(4)\n",
    "```"
   ]
  },
  {
   "cell_type": "code",
   "execution_count": null,
   "metadata": {},
   "outputs": [],
   "source": []
  },
  {
   "cell_type": "markdown",
   "metadata": {},
   "source": [
    "**Exercise:** What happens if I run the following:\n",
    "\n",
    "```python\n",
    "a.item(-1)\n",
    "```"
   ]
  },
  {
   "cell_type": "code",
   "execution_count": null,
   "metadata": {},
   "outputs": [],
   "source": []
  },
  {
   "cell_type": "code",
   "execution_count": null,
   "metadata": {},
   "outputs": [],
   "source": []
  },
  {
   "cell_type": "code",
   "execution_count": null,
   "metadata": {},
   "outputs": [],
   "source": []
  },
  {
   "cell_type": "markdown",
   "metadata": {},
   "source": [
    "## Discussion Question: NBA Salaries\n",
    "\n",
    "The table nba has columns PLAYER, POSITION, and SALARY\n",
    "\n",
    "**Tasks:**\n",
    "- Rename \"'15-'16 SALARY\" to \"SALARY\" using `relabeled()`\n",
    "- Subset the table to only contain the player name, the position and the salary"
   ]
  },
  {
   "cell_type": "code",
   "execution_count": 5,
   "metadata": {
    "tags": []
   },
   "outputs": [],
   "source": [
    "nba = Table.read_table('data/nba_salaries.csv')"
   ]
  },
  {
   "cell_type": "markdown",
   "metadata": {
    "tags": []
   },
   "source": [
    "**Tasks:**\n",
    "- Create an array containing the **names** of all point guards (PG) who make more than 15 MUSD/year. Salaries are given in MUSD"
   ]
  },
  {
   "cell_type": "code",
   "execution_count": null,
   "metadata": {
    "tags": []
   },
   "outputs": [],
   "source": []
  },
  {
   "cell_type": "markdown",
   "metadata": {
    "tags": []
   },
   "source": [
    "**Question**:\n",
    "\n",
    "What does the following return\n",
    "\n",
    "```python\n",
    "nba.drop('POSITION')\n",
    "nba.num_columns\n",
    "```"
   ]
  },
  {
   "cell_type": "code",
   "execution_count": null,
   "metadata": {},
   "outputs": [],
   "source": []
  },
  {
   "cell_type": "markdown",
   "metadata": {},
   "source": [
    "# Tables\n",
    "Tables are Made of Arrays\n",
    "\n",
    "We are covering arrays because this is the mathematical object that is returned when we work on specific columns of a table. Here we load a table of NBA salaries from a local file `nba_salaries.csv`."
   ]
  },
  {
   "cell_type": "code",
   "execution_count": 6,
   "metadata": {},
   "outputs": [
    {
     "data": {
      "text/html": [
       "<table border=\"1\" class=\"dataframe\">\n",
       "    <thead>\n",
       "        <tr>\n",
       "            <th>PLAYER</th> <th>POSITION</th> <th>TEAM</th> <th>'15-'16 SALARY</th>\n",
       "        </tr>\n",
       "    </thead>\n",
       "    <tbody>\n",
       "        <tr>\n",
       "            <td>Paul Millsap    </td> <td>PF      </td> <td>Atlanta Hawks</td> <td>18.6717       </td>\n",
       "        </tr>\n",
       "        <tr>\n",
       "            <td>Al Horford      </td> <td>C       </td> <td>Atlanta Hawks</td> <td>12            </td>\n",
       "        </tr>\n",
       "        <tr>\n",
       "            <td>Tiago Splitter  </td> <td>C       </td> <td>Atlanta Hawks</td> <td>9.75625       </td>\n",
       "        </tr>\n",
       "        <tr>\n",
       "            <td>Jeff Teague     </td> <td>PG      </td> <td>Atlanta Hawks</td> <td>8             </td>\n",
       "        </tr>\n",
       "        <tr>\n",
       "            <td>Kyle Korver     </td> <td>SG      </td> <td>Atlanta Hawks</td> <td>5.74648       </td>\n",
       "        </tr>\n",
       "        <tr>\n",
       "            <td>Thabo Sefolosha </td> <td>SF      </td> <td>Atlanta Hawks</td> <td>4             </td>\n",
       "        </tr>\n",
       "        <tr>\n",
       "            <td>Mike Scott      </td> <td>PF      </td> <td>Atlanta Hawks</td> <td>3.33333       </td>\n",
       "        </tr>\n",
       "        <tr>\n",
       "            <td>Kent Bazemore   </td> <td>SF      </td> <td>Atlanta Hawks</td> <td>2             </td>\n",
       "        </tr>\n",
       "        <tr>\n",
       "            <td>Dennis Schroder </td> <td>PG      </td> <td>Atlanta Hawks</td> <td>1.7634        </td>\n",
       "        </tr>\n",
       "        <tr>\n",
       "            <td>Tim Hardaway Jr.</td> <td>SG      </td> <td>Atlanta Hawks</td> <td>1.30452       </td>\n",
       "        </tr>\n",
       "    </tbody>\n",
       "</table>\n",
       "<p>... (407 rows omitted)</p>"
      ],
      "text/plain": [
       "PLAYER           | POSITION | TEAM          | '15-'16 SALARY\n",
       "Paul Millsap     | PF       | Atlanta Hawks | 18.6717\n",
       "Al Horford       | C        | Atlanta Hawks | 12\n",
       "Tiago Splitter   | C        | Atlanta Hawks | 9.75625\n",
       "Jeff Teague      | PG       | Atlanta Hawks | 8\n",
       "Kyle Korver      | SG       | Atlanta Hawks | 5.74648\n",
       "Thabo Sefolosha  | SF       | Atlanta Hawks | 4\n",
       "Mike Scott       | PF       | Atlanta Hawks | 3.33333\n",
       "Kent Bazemore    | SF       | Atlanta Hawks | 2\n",
       "Dennis Schroder  | PG       | Atlanta Hawks | 1.7634\n",
       "Tim Hardaway Jr. | SG       | Atlanta Hawks | 1.30452\n",
       "... (407 rows omitted)"
      ]
     },
     "execution_count": 6,
     "metadata": {},
     "output_type": "execute_result"
    }
   ],
   "source": [
    "nba = Table.read_table('data/nba_salaries.csv')\n",
    "nba"
   ]
  },
  {
   "cell_type": "markdown",
   "metadata": {},
   "source": [
    "Let's focus on the **Lakers**.\n",
    "\n",
    "**Exercise:** Use the `my_table.where` function to select the rows where team is the `\"Lakers\"`."
   ]
  },
  {
   "cell_type": "code",
   "execution_count": null,
   "metadata": {},
   "outputs": [],
   "source": []
  },
  {
   "cell_type": "markdown",
   "metadata": {},
   "source": [
    "We can also select columns by name. \n",
    "\n",
    "**Exercise**: Make a table with just the `\"name\"` and `\"salary\"` columns. \n"
   ]
  },
  {
   "cell_type": "code",
   "execution_count": null,
   "metadata": {},
   "outputs": [],
   "source": []
  },
  {
   "cell_type": "markdown",
   "metadata": {},
   "source": [
    "**Exercise:** Compute the average average salary of the lakers.  Which of the following works?\n",
    "\n",
    "*Option (A):*\n",
    "```python\n",
    "lakers.mean()\n",
    "```\n",
    "\n",
    "*Option (B):*\n",
    "```python\n",
    "lakers.select(\"salary\").mean()\n",
    "```\n",
    "\n",
    "*Option (C):*\n",
    "```python\n",
    "lakers.column(\"salary\").mean()\n",
    "```"
   ]
  },
  {
   "cell_type": "code",
   "execution_count": null,
   "metadata": {},
   "outputs": [],
   "source": []
  },
  {
   "cell_type": "markdown",
   "metadata": {},
   "source": [
    "**Exercise:** Would the following work?\n",
    "\n",
    "```python\n",
    "np.average(lakers.select(\"salary\"))\n",
    "```"
   ]
  },
  {
   "cell_type": "code",
   "execution_count": null,
   "metadata": {},
   "outputs": [],
   "source": []
  },
  {
   "cell_type": "markdown",
   "metadata": {},
   "source": [
    "Why?"
   ]
  },
  {
   "cell_type": "code",
   "execution_count": null,
   "metadata": {},
   "outputs": [],
   "source": []
  },
  {
   "cell_type": "markdown",
   "metadata": {},
   "source": [
    "**Exercise:** Use `np.average` to compute the average salary of the Warriors:"
   ]
  },
  {
   "cell_type": "code",
   "execution_count": null,
   "metadata": {},
   "outputs": [],
   "source": []
  },
  {
   "cell_type": "markdown",
   "metadata": {},
   "source": [
    "**Exercise:** Compute the difference in the average salaries of the warriors and the `\"Los Angeles Lakers\"`.b"
   ]
  },
  {
   "cell_type": "code",
   "execution_count": null,
   "metadata": {},
   "outputs": [],
   "source": []
  },
  {
   "cell_type": "code",
   "execution_count": null,
   "metadata": {},
   "outputs": [],
   "source": []
  },
  {
   "cell_type": "markdown",
   "metadata": {},
   "source": [
    "---\n",
    "Back to slides\n",
    "\n",
    "---"
   ]
  },
  {
   "cell_type": "markdown",
   "metadata": {},
   "source": [
    "## Census: Population Trends"
   ]
  },
  {
   "cell_type": "markdown",
   "metadata": {},
   "source": [
    "[A description of the table appears online.](https://www2.census.gov/programs-surveys/popest/technical-documentation/file-layouts/2010-2019/nc-est2019-agesex-res.pdf)\n",
    "\n",
    "The Census dataset contain estimates of the US population in each category of sex and age in the years 2020 through 2022. The Census is decennial: it takes place every 10 years. The most recent Census was held in 2020 and the one before that in 2010. The Census Bureau also estimates population changes each year. As explained in the Bureau’s description of its methodology, it “adds the estimated changes to the last decennial census to produce updated population estimates every year.”"
   ]
  },
  {
   "cell_type": "code",
   "execution_count": 7,
   "metadata": {
    "tags": []
   },
   "outputs": [
    {
     "data": {
      "text/html": [
       "<table border=\"1\" class=\"dataframe\">\n",
       "    <thead>\n",
       "        <tr>\n",
       "            <th>SEX</th> <th>AGE</th> <th>ESTIMATESBASE2020</th> <th>POPESTIMATE2020</th> <th>POPESTIMATE2021</th> <th>POPESTIMATE2022</th>\n",
       "        </tr>\n",
       "    </thead>\n",
       "    <tbody>\n",
       "        <tr>\n",
       "            <td>0   </td> <td>0   </td> <td>3690644          </td> <td>3669863        </td> <td>3570131        </td> <td>3683113        </td>\n",
       "        </tr>\n",
       "        <tr>\n",
       "            <td>1   </td> <td>0   </td> <td>1886273          </td> <td>1876349        </td> <td>1825237        </td> <td>1882867        </td>\n",
       "        </tr>\n",
       "        <tr>\n",
       "            <td>2   </td> <td>0   </td> <td>1804371          </td> <td>1793514        </td> <td>1744894        </td> <td>1800246        </td>\n",
       "        </tr>\n",
       "        <tr>\n",
       "            <td>0   </td> <td>1   </td> <td>3731823          </td> <td>3719267        </td> <td>3675382        </td> <td>3588817        </td>\n",
       "        </tr>\n",
       "        <tr>\n",
       "            <td>1   </td> <td>1   </td> <td>1906537          </td> <td>1899515        </td> <td>1879051        </td> <td>1834594        </td>\n",
       "        </tr>\n",
       "        <tr>\n",
       "            <td>2   </td> <td>1   </td> <td>1825286          </td> <td>1819752        </td> <td>1796331        </td> <td>1754223        </td>\n",
       "        </tr>\n",
       "        <tr>\n",
       "            <td>0   </td> <td>2   </td> <td>3826588          </td> <td>3807454        </td> <td>3725597        </td> <td>3693362        </td>\n",
       "        </tr>\n",
       "        <tr>\n",
       "            <td>1   </td> <td>2   </td> <td>1957418          </td> <td>1946596        </td> <td>1902665        </td> <td>1888149        </td>\n",
       "        </tr>\n",
       "        <tr>\n",
       "            <td>2   </td> <td>2   </td> <td>1869170          </td> <td>1860858        </td> <td>1822932        </td> <td>1805213        </td>\n",
       "        </tr>\n",
       "        <tr>\n",
       "            <td>0   </td> <td>3   </td> <td>3918009          </td> <td>3885476        </td> <td>3813656        </td> <td>3742836        </td>\n",
       "        </tr>\n",
       "    </tbody>\n",
       "</table>\n",
       "<p>... (296 rows omitted)</p>"
      ],
      "text/plain": [
       "SEX  | AGE  | ESTIMATESBASE2020 | POPESTIMATE2020 | POPESTIMATE2021 | POPESTIMATE2022\n",
       "0    | 0    | 3690644           | 3669863         | 3570131         | 3683113\n",
       "1    | 0    | 1886273           | 1876349         | 1825237         | 1882867\n",
       "2    | 0    | 1804371           | 1793514         | 1744894         | 1800246\n",
       "0    | 1    | 3731823           | 3719267         | 3675382         | 3588817\n",
       "1    | 1    | 1906537           | 1899515         | 1879051         | 1834594\n",
       "2    | 1    | 1825286           | 1819752         | 1796331         | 1754223\n",
       "0    | 2    | 3826588           | 3807454         | 3725597         | 3693362\n",
       "1    | 2    | 1957418           | 1946596         | 1902665         | 1888149\n",
       "2    | 2    | 1869170           | 1860858         | 1822932         | 1805213\n",
       "0    | 3    | 3918009           | 3885476         | 3813656         | 3742836\n",
       "... (296 rows omitted)"
      ]
     },
     "execution_count": 7,
     "metadata": {},
     "output_type": "execute_result"
    }
   ],
   "source": [
    "data_location = 'http://www2.census.gov/programs-surveys/popest/technical-documentation/file-layouts/2010-2019/nc-est2019-agesex-res.csv'\n",
    "data_location = 'https://www2.census.gov/programs-surveys/popest/datasets/2020-2022/national/asrh/nc-est2022-agesex-res.csv'\n",
    "data_location = 'data/nc-est2019-agesex-res.csv'\n",
    "data_location = 'data/nc-est2022-agesex-res.csv'\n",
    "\n",
    "census = Table.read_table(data_location)\n",
    "census.sort('AGE')"
   ]
  },
  {
   "cell_type": "markdown",
   "metadata": {},
   "source": [
    "### Subset the table\n",
    "for now, we are only interested in the population size by sex (`SEX`), age (`AGE`) in 2020 and 2022 (`POPESTIMATE2020`, and `POPESTIMATE2022|`).\n",
    "\n",
    "**Tasks**:\n",
    "- `POPESTIMATE2020` and `POPESTIMATE2022` are cumbersome. Lets rename them to `2020` and `2022`\n",
    "- Create a new table containing only the columns we are interested in"
   ]
  },
  {
   "cell_type": "code",
   "execution_count": null,
   "metadata": {},
   "outputs": [],
   "source": []
  },
  {
   "cell_type": "markdown",
   "metadata": {},
   "source": [
    "**Tasks:**\n",
    "- How many people above the age of 100 were there in the US in 2014 and 2019?\n",
    "- How about an age of above 99\n",
    "\n",
    "**Question:**\n",
    "- Why don't we see the number of people at age of 101+?\n"
   ]
  },
  {
   "cell_type": "code",
   "execution_count": null,
   "metadata": {},
   "outputs": [],
   "source": []
  },
  {
   "cell_type": "markdown",
   "metadata": {},
   "source": [
    "---\n",
    "Back to slides\n",
    "\n",
    "---"
   ]
  },
  {
   "cell_type": "markdown",
   "metadata": {
    "tags": []
   },
   "source": [
    "### Sex ratio\n",
    "The Census form asks respondents to provide the sex of each household member by checking one of two boxes labeled Male and Female. The SEX column contains numeric codes: 1 for male, 2 for female, and 0 for the total.\n",
    "\n",
    "**Task**:Find ratio of females to males in the US population in 2022\n",
    "- Remember that `999` contains all ages"
   ]
  },
  {
   "cell_type": "code",
   "execution_count": null,
   "metadata": {},
   "outputs": [],
   "source": []
  },
  {
   "cell_type": "markdown",
   "metadata": {
    "tags": []
   },
   "source": [
    "**Task**\n",
    "- Now lets check the ratio for different age groups"
   ]
  },
  {
   "cell_type": "code",
   "execution_count": null,
   "metadata": {},
   "outputs": [],
   "source": []
  },
  {
   "cell_type": "markdown",
   "metadata": {},
   "source": [
    "**Task:**\n",
    "- Create a new table with columns for age and ratios\n",
    "    - Create a table with only females\n",
    "    - Create a table with only males\n",
    "    - Get the age column from either\n",
    "- plot"
   ]
  },
  {
   "cell_type": "code",
   "execution_count": null,
   "metadata": {
    "tags": []
   },
   "outputs": [],
   "source": []
  },
  {
   "cell_type": "markdown",
   "metadata": {
    "tags": []
   },
   "source": [
    "### Age change\n",
    "**Tasks**\n",
    "- let's load the 2019 census data\n",
    "- Lets compare the change of population per age group.\n",
    "- Calculate the absolute change\n",
    "- Calcluate the relative change"
   ]
  },
  {
   "cell_type": "code",
   "execution_count": 8,
   "metadata": {
    "tags": []
   },
   "outputs": [
    {
     "data": {
      "text/html": [
       "<table border=\"1\" class=\"dataframe\">\n",
       "    <thead>\n",
       "        <tr>\n",
       "            <th>SEX</th> <th>AGE</th> <th>CENSUS2010POP</th> <th>ESTIMATESBASE2010</th> <th>POPESTIMATE2010</th> <th>POPESTIMATE2011</th> <th>POPESTIMATE2012</th> <th>POPESTIMATE2013</th> <th>POPESTIMATE2014</th> <th>POPESTIMATE2015</th> <th>POPESTIMATE2016</th> <th>POPESTIMATE2017</th> <th>POPESTIMATE2018</th> <th>POPESTIMATE2019</th>\n",
       "        </tr>\n",
       "    </thead>\n",
       "    <tbody>\n",
       "        <tr>\n",
       "            <td>0   </td> <td>0   </td> <td>3944153      </td> <td>3944160          </td> <td>3951430        </td> <td>3963092        </td> <td>3926570        </td> <td>3931258        </td> <td>3954787        </td> <td>3983981        </td> <td>3954773        </td> <td>3893990        </td> <td>3815343        </td> <td>3783052        </td>\n",
       "        </tr>\n",
       "        <tr>\n",
       "            <td>1   </td> <td>0   </td> <td>2014276      </td> <td>2014278          </td> <td>2018474        </td> <td>2028430        </td> <td>2007742        </td> <td>2009723        </td> <td>2024511        </td> <td>2037646        </td> <td>2021375        </td> <td>1991761        </td> <td>1951663        </td> <td>1935117        </td>\n",
       "        </tr>\n",
       "        <tr>\n",
       "            <td>2   </td> <td>0   </td> <td>1929877      </td> <td>1929882          </td> <td>1932956        </td> <td>1934662        </td> <td>1918828        </td> <td>1921535        </td> <td>1930276        </td> <td>1946335        </td> <td>1933398        </td> <td>1902229        </td> <td>1863680        </td> <td>1847935        </td>\n",
       "        </tr>\n",
       "        <tr>\n",
       "            <td>0   </td> <td>1   </td> <td>3978070      </td> <td>3978090          </td> <td>3957730        </td> <td>3966225        </td> <td>3977549        </td> <td>3942698        </td> <td>3948891        </td> <td>3973133        </td> <td>4002903        </td> <td>3972711        </td> <td>3908830        </td> <td>3829599        </td>\n",
       "        </tr>\n",
       "        <tr>\n",
       "            <td>1   </td> <td>1   </td> <td>2030853      </td> <td>2030861          </td> <td>2020235        </td> <td>2025272        </td> <td>2035213        </td> <td>2015723        </td> <td>2018511        </td> <td>2033686        </td> <td>2046917        </td> <td>2030158        </td> <td>1999022        </td> <td>1958585        </td>\n",
       "        </tr>\n",
       "        <tr>\n",
       "            <td>2   </td> <td>1   </td> <td>1947217      </td> <td>1947229          </td> <td>1937495        </td> <td>1940953        </td> <td>1942336        </td> <td>1926975        </td> <td>1930380        </td> <td>1939447        </td> <td>1955986        </td> <td>1942553        </td> <td>1909808        </td> <td>1871014        </td>\n",
       "        </tr>\n",
       "        <tr>\n",
       "            <td>0   </td> <td>2   </td> <td>4096929      </td> <td>4096939          </td> <td>4090621        </td> <td>3970654        </td> <td>3978925        </td> <td>3991740        </td> <td>3958711        </td> <td>3966321        </td> <td>3991349        </td> <td>4020045        </td> <td>3987032        </td> <td>3922044        </td>\n",
       "        </tr>\n",
       "        <tr>\n",
       "            <td>1   </td> <td>2   </td> <td>2092198      </td> <td>2092202          </td> <td>2088545        </td> <td>2026392        </td> <td>2031333        </td> <td>2042266        </td> <td>2023752        </td> <td>2027455        </td> <td>2042821        </td> <td>2055454        </td> <td>2037249        </td> <td>2005544        </td>\n",
       "        </tr>\n",
       "        <tr>\n",
       "            <td>2   </td> <td>2   </td> <td>2004731      </td> <td>2004737          </td> <td>2002076        </td> <td>1944262        </td> <td>1947592        </td> <td>1949474        </td> <td>1934959        </td> <td>1938866        </td> <td>1948528        </td> <td>1964591        </td> <td>1949783        </td> <td>1916500        </td>\n",
       "        </tr>\n",
       "        <tr>\n",
       "            <td>0   </td> <td>3   </td> <td>4119040      </td> <td>4119051          </td> <td>4111688        </td> <td>4101644        </td> <td>3981531        </td> <td>3991017        </td> <td>4005928        </td> <td>3974351        </td> <td>3982984        </td> <td>4006946        </td> <td>4033038        </td> <td>3998665        </td>\n",
       "        </tr>\n",
       "    </tbody>\n",
       "</table>\n",
       "<p>... (296 rows omitted)</p>"
      ],
      "text/plain": [
       "SEX  | AGE  | CENSUS2010POP | ESTIMATESBASE2010 | POPESTIMATE2010 | POPESTIMATE2011 | POPESTIMATE2012 | POPESTIMATE2013 | POPESTIMATE2014 | POPESTIMATE2015 | POPESTIMATE2016 | POPESTIMATE2017 | POPESTIMATE2018 | POPESTIMATE2019\n",
       "0    | 0    | 3944153       | 3944160           | 3951430         | 3963092         | 3926570         | 3931258         | 3954787         | 3983981         | 3954773         | 3893990         | 3815343         | 3783052\n",
       "1    | 0    | 2014276       | 2014278           | 2018474         | 2028430         | 2007742         | 2009723         | 2024511         | 2037646         | 2021375         | 1991761         | 1951663         | 1935117\n",
       "2    | 0    | 1929877       | 1929882           | 1932956         | 1934662         | 1918828         | 1921535         | 1930276         | 1946335         | 1933398         | 1902229         | 1863680         | 1847935\n",
       "0    | 1    | 3978070       | 3978090           | 3957730         | 3966225         | 3977549         | 3942698         | 3948891         | 3973133         | 4002903         | 3972711         | 3908830         | 3829599\n",
       "1    | 1    | 2030853       | 2030861           | 2020235         | 2025272         | 2035213         | 2015723         | 2018511         | 2033686         | 2046917         | 2030158         | 1999022         | 1958585\n",
       "2    | 1    | 1947217       | 1947229           | 1937495         | 1940953         | 1942336         | 1926975         | 1930380         | 1939447         | 1955986         | 1942553         | 1909808         | 1871014\n",
       "0    | 2    | 4096929       | 4096939           | 4090621         | 3970654         | 3978925         | 3991740         | 3958711         | 3966321         | 3991349         | 4020045         | 3987032         | 3922044\n",
       "1    | 2    | 2092198       | 2092202           | 2088545         | 2026392         | 2031333         | 2042266         | 2023752         | 2027455         | 2042821         | 2055454         | 2037249         | 2005544\n",
       "2    | 2    | 2004731       | 2004737           | 2002076         | 1944262         | 1947592         | 1949474         | 1934959         | 1938866         | 1948528         | 1964591         | 1949783         | 1916500\n",
       "0    | 3    | 4119040       | 4119051           | 4111688         | 4101644         | 3981531         | 3991017         | 4005928         | 3974351         | 3982984         | 4006946         | 4033038         | 3998665\n",
       "... (296 rows omitted)"
      ]
     },
     "execution_count": 8,
     "metadata": {},
     "output_type": "execute_result"
    }
   ],
   "source": [
    "data_location = 'data/nc-est2019-agesex-res.csv'\n",
    "\n",
    "census = Table.read_table(data_location)\n",
    "census.sort('AGE')"
   ]
  },
  {
   "cell_type": "markdown",
   "metadata": {
    "tags": []
   },
   "source": [
    "**Tasks**\n",
    "- Create a new table with the ages and the age changes\n",
    "- Don't include the *all age row**\n",
    "- Plot the population change vs the age"
   ]
  },
  {
   "cell_type": "code",
   "execution_count": null,
   "metadata": {},
   "outputs": [],
   "source": []
  },
  {
   "cell_type": "markdown",
   "metadata": {},
   "source": [
    "Take a look at the top few rows. While the percent change is about 3% for the overall population, it jumps to well over 20% for the people in their late sixties and early seventies. This stunning change contributes to what is known as the greying of America.\n",
    "\n",
    "What could explain this large increase? \n",
    "\n",
    "<details><summary>Answer</summary>\n",
    "We can explore this question by examining the years in which the relevant groups were born.\n",
    "\n",
    "Those who were in the age group 69 to 72 in 2014 were born in the years 1942 to 1945. The attack on Pearl Harbor was in late 1941, and by 1942 U.S. forces were heavily engaged in a massive war that ended in 1945.\n",
    "\n",
    "Those who were 69 to 72 years old in 2019 were born in the years 1947 to 1950, at the height of the post-WWII baby boom in the United States.\n",
    "\n",
    "The post-war jump in births is a major reason for the large changes that we have observed.\n",
    "</details>"
   ]
  },
  {
   "cell_type": "markdown",
   "metadata": {},
   "source": []
  }
 ],
 "metadata": {
  "anaconda-cloud": {},
  "kernelspec": {
   "display_name": "Python 3 (ipykernel)",
   "language": "python",
   "name": "python3"
  },
  "language_info": {
   "codemirror_mode": {
    "name": "ipython",
    "version": 3
   },
   "file_extension": ".py",
   "mimetype": "text/x-python",
   "name": "python",
   "nbconvert_exporter": "python",
   "pygments_lexer": "ipython3",
   "version": "3.11.5"
  },
  "toc": {
   "base_numbering": 1,
   "nav_menu": {},
   "number_sections": false,
   "sideBar": true,
   "skip_h1_title": false,
   "title_cell": "Table of Contents",
   "title_sidebar": "Contents",
   "toc_cell": false,
   "toc_position": {},
   "toc_section_display": true,
   "toc_window_display": false
  }
 },
 "nbformat": 4,
 "nbformat_minor": 4
}
