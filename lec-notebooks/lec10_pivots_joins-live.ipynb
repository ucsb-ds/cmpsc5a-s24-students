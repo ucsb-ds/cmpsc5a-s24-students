{
 "cells": [
  {
   "cell_type": "code",
   "execution_count": 1,
   "metadata": {
    "tags": []
   },
   "outputs": [],
   "source": [
    "from datascience import *\n",
    "import numpy as np\n",
    "\n",
    "%matplotlib inline\n",
    "import matplotlib.pyplot as plots\n",
    "plots.style.use('fivethirtyeight')\n",
    "import warnings\n",
    "warnings.simplefilter(action='ignore',category=np.VisibleDeprecationWarning)"
   ]
  },
  {
   "cell_type": "markdown",
   "metadata": {},
   "source": [
    "# Lecture 10\n",
    "\n",
    "In this lecture, we will:\n",
    "1. Introduce python Lists\n",
    "2. Show how to build tables from rows instead of columns\n",
    "3. finish our discussion on grouping\n",
    "4. Introduce pivots -- a special kind of grouping\n",
    "5. Introduce joins"
   ]
  },
  {
   "cell_type": "markdown",
   "metadata": {},
   "source": [
    "---\n",
    "\n",
    "## Lists\n",
    "\n",
    "Lists in python are like arrays but they can contain things of different types and you make them by using square brackets:"
   ]
  },
  {
   "cell_type": "code",
   "execution_count": 2,
   "metadata": {},
   "outputs": [
    {
     "data": {
      "text/plain": [
       "[1, 5, 'hello', 5.0]"
      ]
     },
     "execution_count": 2,
     "metadata": {},
     "output_type": "execute_result"
    }
   ],
   "source": [
    "[1, 5, 'hello', 5.0]"
   ]
  },
  {
   "cell_type": "code",
   "execution_count": 3,
   "metadata": {},
   "outputs": [
    {
     "data": {
      "text/plain": [
       "[1, 5, 'hello', 5.0, array([1, 2, 3])]"
      ]
     },
     "execution_count": 3,
     "metadata": {},
     "output_type": "execute_result"
    }
   ],
   "source": [
    "another_list = [1, 5, 'hello', 5.0, make_array(1,2,3)]\n",
    "another_list"
   ]
  },
  {
   "cell_type": "markdown",
   "metadata": {},
   "source": [
    "You have to use square brakets when accessing elements from a list (you can't use item)."
   ]
  },
  {
   "cell_type": "code",
   "execution_count": 4,
   "metadata": {},
   "outputs": [
    {
     "data": {
      "text/plain": [
       "1"
      ]
     },
     "execution_count": 4,
     "metadata": {},
     "output_type": "execute_result"
    }
   ],
   "source": [
    "a = make_array(1,2,3)\n",
    "a.item(0) # .item() is specific to an array data type"
   ]
  },
  {
   "cell_type": "code",
   "execution_count": 5,
   "metadata": {},
   "outputs": [
    {
     "data": {
      "text/plain": [
       "'hello'"
      ]
     },
     "execution_count": 5,
     "metadata": {},
     "output_type": "execute_result"
    }
   ],
   "source": [
    "#another_list.item(0) # we can't use.item with a list data type\n",
    "another_list[2] # to access an individual element in a list, we use square brackets instead"
   ]
  },
  {
   "cell_type": "markdown",
   "metadata": {},
   "source": [
    "Recall that for arrays you could do either. (In the real world, most people would probably use square brackets)."
   ]
  },
  {
   "cell_type": "code",
   "execution_count": 6,
   "metadata": {},
   "outputs": [
    {
     "data": {
      "text/plain": [
       "'Banana'"
      ]
     },
     "execution_count": 6,
     "metadata": {},
     "output_type": "execute_result"
    }
   ],
   "source": [
    "my_array = make_array(\"Apple\", \"Banana\", \"Corn\")\n",
    "my_array[1]"
   ]
  },
  {
   "cell_type": "markdown",
   "metadata": {},
   "source": [
    "Same thing as:"
   ]
  },
  {
   "cell_type": "code",
   "execution_count": 7,
   "metadata": {},
   "outputs": [
    {
     "data": {
      "text/plain": [
       "'Banana'"
      ]
     },
     "execution_count": 7,
     "metadata": {},
     "output_type": "execute_result"
    }
   ],
   "source": [
    "my_array.item(1)"
   ]
  },
  {
   "cell_type": "markdown",
   "metadata": {},
   "source": [
    "### Rows from lists\n",
    "\n",
    "We need lists to be able to add a row to our table.  Why?"
   ]
  },
  {
   "cell_type": "markdown",
   "metadata": {},
   "source": [
    "Here we make a table with a column (we have been doing this all semester)."
   ]
  },
  {
   "cell_type": "code",
   "execution_count": 8,
   "metadata": {
    "tags": []
   },
   "outputs": [
    {
     "data": {
      "text/html": [
       "<table border=\"1\" class=\"dataframe\">\n",
       "    <thead>\n",
       "        <tr>\n",
       "            <th>Numbers</th>\n",
       "        </tr>\n",
       "    </thead>\n",
       "    <tbody>\n",
       "        <tr>\n",
       "            <td>1      </td>\n",
       "        </tr>\n",
       "        <tr>\n",
       "            <td>2      </td>\n",
       "        </tr>\n",
       "        <tr>\n",
       "            <td>3      </td>\n",
       "        </tr>\n",
       "    </tbody>\n",
       "</table>"
      ],
      "text/plain": [
       "Numbers\n",
       "1\n",
       "2\n",
       "3"
      ]
     },
     "execution_count": 8,
     "metadata": {},
     "output_type": "execute_result"
    }
   ],
   "source": [
    "Table().with_columns('Numbers', [1, 2, 3])\n",
    "# we are adding a new column, with a list\n",
    "# python converts the list to an array\n",
    "# and then adds that array as a new column\n",
    "# no error! yay!"
   ]
  },
  {
   "cell_type": "markdown",
   "metadata": {},
   "source": [
    "Here we make an empty table with just column labels. (This is new!)"
   ]
  },
  {
   "cell_type": "code",
   "execution_count": 9,
   "metadata": {
    "tags": []
   },
   "outputs": [
    {
     "data": {
      "text/html": [
       "<table border=\"1\" class=\"dataframe\">\n",
       "    <thead>\n",
       "        <tr>\n",
       "            <th>Drink</th> <th>Cafe</th> <th>Price</th>\n",
       "        </tr>\n",
       "    </thead>\n",
       "    <tbody>\n",
       "    </tbody>\n",
       "</table>"
      ],
      "text/plain": [
       "Drink | Cafe | Price"
      ]
     },
     "execution_count": 9,
     "metadata": {},
     "output_type": "execute_result"
    }
   ],
   "source": [
    "drinks = Table(['Drink', 'Cafe', 'Price'])\n",
    "drinks"
   ]
  },
  {
   "cell_type": "markdown",
   "metadata": {},
   "source": [
    "Here we add rows to our table.  Each row is a `List` of elements -- one for each column."
   ]
  },
  {
   "cell_type": "code",
   "execution_count": 10,
   "metadata": {
    "tags": []
   },
   "outputs": [
    {
     "data": {
      "text/html": [
       "<table border=\"1\" class=\"dataframe\">\n",
       "    <thead>\n",
       "        <tr>\n",
       "            <th>Drink</th> <th>Cafe</th> <th>Price</th>\n",
       "        </tr>\n",
       "    </thead>\n",
       "    <tbody>\n",
       "        <tr>\n",
       "            <td>Milk Tea</td> <td>Asha  </td> <td>5.5  </td>\n",
       "        </tr>\n",
       "        <tr>\n",
       "            <td>Espresso</td> <td>Strada</td> <td>1.75 </td>\n",
       "        </tr>\n",
       "        <tr>\n",
       "            <td>Latte   </td> <td>Strada</td> <td>3.25 </td>\n",
       "        </tr>\n",
       "        <tr>\n",
       "            <td>Espresso</td> <td>FSM   </td> <td>2    </td>\n",
       "        </tr>\n",
       "    </tbody>\n",
       "</table>"
      ],
      "text/plain": [
       "Drink    | Cafe   | Price\n",
       "Milk Tea | Asha   | 5.5\n",
       "Espresso | Strada | 1.75\n",
       "Latte    | Strada | 3.25\n",
       "Espresso | FSM    | 2"
      ]
     },
     "execution_count": 10,
     "metadata": {},
     "output_type": "execute_result"
    }
   ],
   "source": [
    "drinks = drinks.with_rows([\n",
    "    ['Milk Tea', 'Asha', 5.5],\n",
    "    ['Espresso', 'Strada',  1.75],\n",
    "    ['Latte',    'Strada',  3.25],\n",
    "    ['Espresso', \"FSM\",   2]\n",
    "])\n",
    "drinks"
   ]
  },
  {
   "cell_type": "markdown",
   "metadata": {},
   "source": [
    "---\n",
    "\n",
    "<center> Return to Slides </center>\n",
    "\n",
    "---"
   ]
  },
  {
   "cell_type": "markdown",
   "metadata": {},
   "source": [
    "## Grouping\n",
    "\n",
    "For this part of the notebook we will use the following toy data:"
   ]
  },
  {
   "cell_type": "code",
   "execution_count": 11,
   "metadata": {},
   "outputs": [
    {
     "data": {
      "text/html": [
       "<table border=\"1\" class=\"dataframe\">\n",
       "    <thead>\n",
       "        <tr>\n",
       "            <th>Drink</th> <th>count</th>\n",
       "        </tr>\n",
       "    </thead>\n",
       "    <tbody>\n",
       "        <tr>\n",
       "            <td>Espresso</td> <td>2    </td>\n",
       "        </tr>\n",
       "        <tr>\n",
       "            <td>Latte   </td> <td>1    </td>\n",
       "        </tr>\n",
       "        <tr>\n",
       "            <td>Milk Tea</td> <td>1    </td>\n",
       "        </tr>\n",
       "    </tbody>\n",
       "</table>"
      ],
      "text/plain": [
       "Drink    | count\n",
       "Espresso | 2\n",
       "Latte    | 1\n",
       "Milk Tea | 1"
      ]
     },
     "execution_count": 11,
     "metadata": {},
     "output_type": "execute_result"
    }
   ],
   "source": [
    "drinks.group('Drink')\n",
    "# grouped by the unique elements in the Drink column\n",
    "# 2 espressos\n",
    "# 1 latte\n",
    "# 1 milk tea"
   ]
  },
  {
   "cell_type": "code",
   "execution_count": 12,
   "metadata": {},
   "outputs": [
    {
     "data": {
      "text/html": [
       "<table border=\"1\" class=\"dataframe\">\n",
       "    <thead>\n",
       "        <tr>\n",
       "            <th>Cafe</th> <th>count</th>\n",
       "        </tr>\n",
       "    </thead>\n",
       "    <tbody>\n",
       "        <tr>\n",
       "            <td>Asha  </td> <td>1    </td>\n",
       "        </tr>\n",
       "        <tr>\n",
       "            <td>FSM   </td> <td>1    </td>\n",
       "        </tr>\n",
       "        <tr>\n",
       "            <td>Strada</td> <td>2    </td>\n",
       "        </tr>\n",
       "    </tbody>\n",
       "</table>"
      ],
      "text/plain": [
       "Cafe   | count\n",
       "Asha   | 1\n",
       "FSM    | 1\n",
       "Strada | 2"
      ]
     },
     "execution_count": 12,
     "metadata": {},
     "output_type": "execute_result"
    }
   ],
   "source": [
    "drinks.group('Cafe')\n",
    "# Strada has 2 drinks in this table\n",
    "# Asha and FSM each have 1"
   ]
  },
  {
   "cell_type": "code",
   "execution_count": 13,
   "metadata": {},
   "outputs": [
    {
     "data": {
      "text/html": [
       "<table border=\"1\" class=\"dataframe\">\n",
       "    <thead>\n",
       "        <tr>\n",
       "            <th>Price</th> <th>count</th>\n",
       "        </tr>\n",
       "    </thead>\n",
       "    <tbody>\n",
       "        <tr>\n",
       "            <td>1.75 </td> <td>1    </td>\n",
       "        </tr>\n",
       "        <tr>\n",
       "            <td>2    </td> <td>1    </td>\n",
       "        </tr>\n",
       "        <tr>\n",
       "            <td>3.25 </td> <td>1    </td>\n",
       "        </tr>\n",
       "        <tr>\n",
       "            <td>5.5  </td> <td>1    </td>\n",
       "        </tr>\n",
       "    </tbody>\n",
       "</table>"
      ],
      "text/plain": [
       "Price | count\n",
       "1.75  | 1\n",
       "2     | 1\n",
       "3.25  | 1\n",
       "5.5   | 1"
      ]
     },
     "execution_count": 13,
     "metadata": {},
     "output_type": "execute_result"
    }
   ],
   "source": [
    "drinks.group('Price')\n",
    "# 4 unique prices"
   ]
  },
  {
   "cell_type": "code",
   "execution_count": 14,
   "metadata": {},
   "outputs": [
    {
     "data": {
      "text/html": [
       "<table border=\"1\" class=\"dataframe\">\n",
       "    <thead>\n",
       "        <tr>\n",
       "            <th>Flavor</th> <th>Color</th> <th>Price</th> <th>Rating</th>\n",
       "        </tr>\n",
       "    </thead>\n",
       "    <tbody>\n",
       "        <tr>\n",
       "            <td>strawberry</td> <td>pink       </td> <td>3.55 </td> <td>1     </td>\n",
       "        </tr>\n",
       "        <tr>\n",
       "            <td>chocolate </td> <td>light brown</td> <td>4.75 </td> <td>4     </td>\n",
       "        </tr>\n",
       "        <tr>\n",
       "            <td>chocolate </td> <td>dark brown </td> <td>5.25 </td> <td>3     </td>\n",
       "        </tr>\n",
       "        <tr>\n",
       "            <td>strawberry</td> <td>pink       </td> <td>5.25 </td> <td>2     </td>\n",
       "        </tr>\n",
       "        <tr>\n",
       "            <td>chocolate </td> <td>dark brown </td> <td>5.25 </td> <td>5     </td>\n",
       "        </tr>\n",
       "        <tr>\n",
       "            <td>bubblegum </td> <td>pink       </td> <td>4.75 </td> <td>1     </td>\n",
       "        </tr>\n",
       "    </tbody>\n",
       "</table>"
      ],
      "text/plain": [
       "Flavor     | Color       | Price | Rating\n",
       "strawberry | pink        | 3.55  | 1\n",
       "chocolate  | light brown | 4.75  | 4\n",
       "chocolate  | dark brown  | 5.25  | 3\n",
       "strawberry | pink        | 5.25  | 2\n",
       "chocolate  | dark brown  | 5.25  | 5\n",
       "bubblegum  | pink        | 4.75  | 1"
      ]
     },
     "execution_count": 14,
     "metadata": {},
     "output_type": "execute_result"
    }
   ],
   "source": [
    "cones = Table.read_table('data/cones.csv')\n",
    "cones"
   ]
  },
  {
   "cell_type": "markdown",
   "metadata": {},
   "source": [
    "**Exercise:** Use the `group` function to determine the number of cones with each flavor."
   ]
  },
  {
   "cell_type": "code",
   "execution_count": 15,
   "metadata": {},
   "outputs": [
    {
     "data": {
      "text/html": [
       "<table border=\"1\" class=\"dataframe\">\n",
       "    <thead>\n",
       "        <tr>\n",
       "            <th>Flavor</th> <th>count</th>\n",
       "        </tr>\n",
       "    </thead>\n",
       "    <tbody>\n",
       "        <tr>\n",
       "            <td>bubblegum </td> <td>1    </td>\n",
       "        </tr>\n",
       "        <tr>\n",
       "            <td>chocolate </td> <td>3    </td>\n",
       "        </tr>\n",
       "        <tr>\n",
       "            <td>strawberry</td> <td>2    </td>\n",
       "        </tr>\n",
       "    </tbody>\n",
       "</table>"
      ],
      "text/plain": [
       "Flavor     | count\n",
       "bubblegum  | 1\n",
       "chocolate  | 3\n",
       "strawberry | 2"
      ]
     },
     "execution_count": 15,
     "metadata": {},
     "output_type": "execute_result"
    }
   ],
   "source": [
    "cones.group('Flavor')"
   ]
  },
  {
   "cell_type": "markdown",
   "metadata": {},
   "source": [
    "<details> <summary>Click for Solution</summary>\n",
    "\n",
    "```python\n",
    "cones.group('Flavor')\n",
    "```\n",
    "</details>"
   ]
  },
  {
   "cell_type": "markdown",
   "metadata": {},
   "source": [
    "**Exercise:** Use the `group` function to compute the average price of cones for each flavor."
   ]
  },
  {
   "cell_type": "code",
   "execution_count": 16,
   "metadata": {
    "scrolled": true
   },
   "outputs": [
    {
     "data": {
      "text/html": [
       "<table border=\"1\" class=\"dataframe\">\n",
       "    <thead>\n",
       "        <tr>\n",
       "            <th>Flavor</th> <th>Price average</th>\n",
       "        </tr>\n",
       "    </thead>\n",
       "    <tbody>\n",
       "        <tr>\n",
       "            <td>bubblegum </td> <td>4.75         </td>\n",
       "        </tr>\n",
       "        <tr>\n",
       "            <td>chocolate </td> <td>5.08333      </td>\n",
       "        </tr>\n",
       "        <tr>\n",
       "            <td>strawberry</td> <td>4.4          </td>\n",
       "        </tr>\n",
       "    </tbody>\n",
       "</table>"
      ],
      "text/plain": [
       "Flavor     | Price average\n",
       "bubblegum  | 4.75\n",
       "chocolate  | 5.08333\n",
       "strawberry | 4.4"
      ]
     },
     "execution_count": 16,
     "metadata": {},
     "output_type": "execute_result"
    }
   ],
   "source": [
    "cones.group('Flavor', np.average).select('Flavor', 'Price average')\n",
    "\n",
    "# we grouped by Flavor\n",
    "# then applied np.average to the rest of the table: Price and Rating columns\n",
    "# selected the columns we wanted\n",
    "# note the change in column labels: previously 'Price' and now 'Price average'"
   ]
  },
  {
   "cell_type": "code",
   "execution_count": 17,
   "metadata": {},
   "outputs": [
    {
     "data": {
      "text/html": [
       "<table border=\"1\" class=\"dataframe\">\n",
       "    <thead>\n",
       "        <tr>\n",
       "            <th>Flavor</th> <th>Color</th> <th>Price</th> <th>Rating</th>\n",
       "        </tr>\n",
       "    </thead>\n",
       "    <tbody>\n",
       "        <tr>\n",
       "            <td>strawberry</td> <td>pink       </td> <td>3.55 </td> <td>1     </td>\n",
       "        </tr>\n",
       "        <tr>\n",
       "            <td>chocolate </td> <td>light brown</td> <td>4.75 </td> <td>4     </td>\n",
       "        </tr>\n",
       "        <tr>\n",
       "            <td>chocolate </td> <td>dark brown </td> <td>5.25 </td> <td>3     </td>\n",
       "        </tr>\n",
       "        <tr>\n",
       "            <td>strawberry</td> <td>pink       </td> <td>5.25 </td> <td>2     </td>\n",
       "        </tr>\n",
       "        <tr>\n",
       "            <td>chocolate </td> <td>dark brown </td> <td>5.25 </td> <td>5     </td>\n",
       "        </tr>\n",
       "        <tr>\n",
       "            <td>bubblegum </td> <td>pink       </td> <td>4.75 </td> <td>1     </td>\n",
       "        </tr>\n",
       "    </tbody>\n",
       "</table>"
      ],
      "text/plain": [
       "Flavor     | Color       | Price | Rating\n",
       "strawberry | pink        | 3.55  | 1\n",
       "chocolate  | light brown | 4.75  | 4\n",
       "chocolate  | dark brown  | 5.25  | 3\n",
       "strawberry | pink        | 5.25  | 2\n",
       "chocolate  | dark brown  | 5.25  | 5\n",
       "bubblegum  | pink        | 4.75  | 1"
      ]
     },
     "execution_count": 17,
     "metadata": {},
     "output_type": "execute_result"
    }
   ],
   "source": [
    "cones"
   ]
  },
  {
   "cell_type": "code",
   "execution_count": 18,
   "metadata": {},
   "outputs": [
    {
     "data": {
      "text/plain": [
       "5.083333333333333"
      ]
     },
     "execution_count": 18,
     "metadata": {},
     "output_type": "execute_result"
    }
   ],
   "source": [
    "(4.75 + 5.25 + 5.25)/3 # chocolate"
   ]
  },
  {
   "cell_type": "code",
   "execution_count": 19,
   "metadata": {},
   "outputs": [
    {
     "data": {
      "text/plain": [
       "4.4"
      ]
     },
     "execution_count": 19,
     "metadata": {},
     "output_type": "execute_result"
    }
   ],
   "source": [
    "(5.25 + 3.55)/2 # strawberry"
   ]
  },
  {
   "cell_type": "markdown",
   "metadata": {},
   "source": [
    "<details> <summary>Click for Solution</summary> \n",
    "\n",
    "```python\n",
    "cones.group('Flavor', np.average)\n",
    " ```\n",
    "</details>"
   ]
  },
  {
   "cell_type": "markdown",
   "metadata": {},
   "source": [
    "**Exercise:** Use the `group` function to compute min price of cones for each flavor."
   ]
  },
  {
   "cell_type": "code",
   "execution_count": 20,
   "metadata": {},
   "outputs": [
    {
     "data": {
      "text/html": [
       "<table border=\"1\" class=\"dataframe\">\n",
       "    <thead>\n",
       "        <tr>\n",
       "            <th>Flavor</th> <th>Color min</th> <th>Price min</th> <th>Rating min</th>\n",
       "        </tr>\n",
       "    </thead>\n",
       "    <tbody>\n",
       "        <tr>\n",
       "            <td>bubblegum </td> <td>pink      </td> <td>4.75     </td> <td>1         </td>\n",
       "        </tr>\n",
       "        <tr>\n",
       "            <td>chocolate </td> <td>dark brown</td> <td>4.75     </td> <td>3         </td>\n",
       "        </tr>\n",
       "        <tr>\n",
       "            <td>strawberry</td> <td>pink      </td> <td>3.55     </td> <td>1         </td>\n",
       "        </tr>\n",
       "    </tbody>\n",
       "</table>"
      ],
      "text/plain": [
       "Flavor     | Color min  | Price min | Rating min\n",
       "bubblegum  | pink       | 4.75      | 1\n",
       "chocolate  | dark brown | 4.75      | 3\n",
       "strawberry | pink       | 3.55      | 1"
      ]
     },
     "execution_count": 20,
     "metadata": {},
     "output_type": "execute_result"
    }
   ],
   "source": [
    "cones.group('Flavor', min)#.select('Flavor', 'Price min')"
   ]
  },
  {
   "cell_type": "markdown",
   "metadata": {},
   "source": [
    "**Question**:\n",
    "Why does color have a min?"
   ]
  },
  {
   "cell_type": "code",
   "execution_count": 21,
   "metadata": {},
   "outputs": [
    {
     "data": {
      "text/plain": [
       "True"
      ]
     },
     "execution_count": 21,
     "metadata": {},
     "output_type": "execute_result"
    }
   ],
   "source": [
    "'dark brown' < 'light brown'"
   ]
  },
  {
   "cell_type": "code",
   "execution_count": 22,
   "metadata": {},
   "outputs": [
    {
     "data": {
      "text/plain": [
       "True"
      ]
     },
     "execution_count": 22,
     "metadata": {},
     "output_type": "execute_result"
    }
   ],
   "source": [
    "'d' < 'l'"
   ]
  },
  {
   "cell_type": "code",
   "execution_count": 23,
   "metadata": {},
   "outputs": [
    {
     "data": {
      "text/plain": [
       "False"
      ]
     },
     "execution_count": 23,
     "metadata": {},
     "output_type": "execute_result"
    }
   ],
   "source": [
    "'pink' < 'light pink'"
   ]
  },
  {
   "cell_type": "code",
   "execution_count": 24,
   "metadata": {},
   "outputs": [
    {
     "data": {
      "text/plain": [
       "False"
      ]
     },
     "execution_count": 24,
     "metadata": {},
     "output_type": "execute_result"
    }
   ],
   "source": [
    "'p' < 'l'"
   ]
  },
  {
   "cell_type": "code",
   "execution_count": 25,
   "metadata": {},
   "outputs": [
    {
     "data": {
      "text/plain": [
       "True"
      ]
     },
     "execution_count": 25,
     "metadata": {},
     "output_type": "execute_result"
    }
   ],
   "source": [
    "1 < 2"
   ]
  },
  {
   "cell_type": "code",
   "execution_count": 26,
   "metadata": {},
   "outputs": [
    {
     "data": {
      "text/plain": [
       "True"
      ]
     },
     "execution_count": 26,
     "metadata": {},
     "output_type": "execute_result"
    }
   ],
   "source": [
    "# lexicographical ordering\n",
    "'a' < 'b'"
   ]
  },
  {
   "cell_type": "code",
   "execution_count": 27,
   "metadata": {},
   "outputs": [
    {
     "data": {
      "text/plain": [
       "True"
      ]
     },
     "execution_count": 27,
     "metadata": {},
     "output_type": "execute_result"
    }
   ],
   "source": [
    " 'A' < 'a'"
   ]
  },
  {
   "cell_type": "code",
   "execution_count": 28,
   "metadata": {},
   "outputs": [
    {
     "data": {
      "text/html": [
       "<table border=\"1\" class=\"dataframe\">\n",
       "    <thead>\n",
       "        <tr>\n",
       "            <th>Flavor</th> <th>Color list</th> <th>Price list</th> <th>Rating list</th>\n",
       "        </tr>\n",
       "    </thead>\n",
       "    <tbody>\n",
       "        <tr>\n",
       "            <td>bubblegum </td> <td>['pink']                                   </td> <td>[4.75]                    </td> <td>[1]        </td>\n",
       "        </tr>\n",
       "        <tr>\n",
       "            <td>chocolate </td> <td>['light brown', 'dark brown', 'dark brown']</td> <td>[4.75, 5.25, 5.25]        </td> <td>[4, 3, 5]  </td>\n",
       "        </tr>\n",
       "        <tr>\n",
       "            <td>strawberry</td> <td>['pink', 'pink']                           </td> <td>[3.5499999999999998, 5.25]</td> <td>[1, 2]     </td>\n",
       "        </tr>\n",
       "    </tbody>\n",
       "</table>"
      ],
      "text/plain": [
       "Flavor     | Color list                                  | Price list                 | Rating list\n",
       "bubblegum  | ['pink']                                    | [4.75]                     | [1]\n",
       "chocolate  | ['light brown', 'dark brown', 'dark brown'] | [4.75, 5.25, 5.25]         | [4, 3, 5]\n",
       "strawberry | ['pink', 'pink']                            | [3.5499999999999998, 5.25] | [1, 2]"
      ]
     },
     "execution_count": 28,
     "metadata": {},
     "output_type": "execute_result"
    }
   ],
   "source": [
    "# use list\n",
    "cones.group('Flavor', list)"
   ]
  },
  {
   "cell_type": "code",
   "execution_count": 29,
   "metadata": {},
   "outputs": [
    {
     "data": {
      "text/html": [
       "<table border=\"1\" class=\"dataframe\">\n",
       "    <thead>\n",
       "        <tr>\n",
       "            <th>Flavor</th> <th>Color len</th> <th>Price len</th> <th>Rating len</th>\n",
       "        </tr>\n",
       "    </thead>\n",
       "    <tbody>\n",
       "        <tr>\n",
       "            <td>bubblegum </td> <td>1        </td> <td>1        </td> <td>1         </td>\n",
       "        </tr>\n",
       "        <tr>\n",
       "            <td>chocolate </td> <td>3        </td> <td>3        </td> <td>3         </td>\n",
       "        </tr>\n",
       "        <tr>\n",
       "            <td>strawberry</td> <td>2        </td> <td>2        </td> <td>2         </td>\n",
       "        </tr>\n",
       "    </tbody>\n",
       "</table>"
      ],
      "text/plain": [
       "Flavor     | Color len | Price len | Rating len\n",
       "bubblegum  | 1         | 1         | 1\n",
       "chocolate  | 3         | 3         | 3\n",
       "strawberry | 2         | 2         | 2"
      ]
     },
     "execution_count": 29,
     "metadata": {},
     "output_type": "execute_result"
    }
   ],
   "source": [
    "# use len\n",
    "cones.group('Flavor', len)\n",
    "# len or length counts the number of unique colors, prices, and ratings in their respective columns\n",
    "# or, it counts the length of the list (that we calculated above)"
   ]
  },
  {
   "cell_type": "code",
   "execution_count": 30,
   "metadata": {},
   "outputs": [
    {
     "data": {
      "text/html": [
       "<table border=\"1\" class=\"dataframe\">\n",
       "    <thead>\n",
       "        <tr>\n",
       "            <th>Flavor</th> <th>count</th>\n",
       "        </tr>\n",
       "    </thead>\n",
       "    <tbody>\n",
       "        <tr>\n",
       "            <td>bubblegum </td> <td>1    </td>\n",
       "        </tr>\n",
       "        <tr>\n",
       "            <td>chocolate </td> <td>3    </td>\n",
       "        </tr>\n",
       "        <tr>\n",
       "            <td>strawberry</td> <td>2    </td>\n",
       "        </tr>\n",
       "    </tbody>\n",
       "</table>"
      ],
      "text/plain": [
       "Flavor     | count\n",
       "bubblegum  | 1\n",
       "chocolate  | 3\n",
       "strawberry | 2"
      ]
     },
     "execution_count": 30,
     "metadata": {},
     "output_type": "execute_result"
    }
   ],
   "source": [
    "cones.group('Flavor') # count column, counts the number of unique flavors"
   ]
  },
  {
   "cell_type": "markdown",
   "metadata": {},
   "source": [
    "<details> <summary>Click for Solution</summary>\n",
    "\n",
    "```python\n",
    "cones.group('Flavor', np.min)\n",
    "```"
   ]
  },
  {
   "cell_type": "markdown",
   "metadata": {},
   "source": [
    "---\n",
    "\n",
    "<center> Return to Slides </center>\n",
    "\n",
    "---"
   ]
  },
  {
   "cell_type": "markdown",
   "metadata": {},
   "source": [
    "## Review Grouping Using the Welcome Survey\n",
    "\n",
    "Now let's use the group function to study you:"
   ]
  },
  {
   "cell_type": "code",
   "execution_count": 31,
   "metadata": {
    "tags": []
   },
   "outputs": [
    {
     "data": {
      "text/html": [
       "<table border=\"1\" class=\"dataframe\">\n",
       "    <thead>\n",
       "        <tr>\n",
       "            <th>Timestamp</th> <th>What year are you in?</th> <th>How would you rate yourself on a scale of 10 from 1 (introvert) to 10 (extrovert)</th> <th>How many texts (on average) do you send per day?</th> <th>Are you left-handed, right-handed or both?</th> <th>What position do you sleep in?</th> <th>How many hours of sleep do you get?</th> <th>How many siblings do you have?</th> <th>What pets do you have? If more than one, separate with commas.</th> <th>Make up a very random 4-digit number</th> <th>Do you have tattoo(s)?</th> <th>How do you get to work or school?</th>\n",
       "        </tr>\n",
       "    </thead>\n",
       "    <tbody>\n",
       "        <tr>\n",
       "            <td>4/23/2024 9:31:24</td> <td>First                </td> <td>1                                                                                </td> <td>12                                              </td> <td>Both                                      </td> <td>Stomach                       </td> <td>4                                  </td> <td>0                             </td> <td>0                                                             </td> <td>1122                                </td> <td>No                    </td> <td>Car                              </td>\n",
       "        </tr>\n",
       "        <tr>\n",
       "            <td>4/23/2024 9:31:52</td> <td>First                </td> <td>2                                                                                </td> <td>200                                             </td> <td>Right                                     </td> <td>Right side                    </td> <td>7                                  </td> <td>1                             </td> <td>0                                                             </td> <td>1417                                </td> <td>No                    </td> <td>Bus                              </td>\n",
       "        </tr>\n",
       "        <tr>\n",
       "            <td>4/23/2024 9:32:06</td> <td>Second               </td> <td>5                                                                                </td> <td>30                                              </td> <td>Right                                     </td> <td>Left side                     </td> <td>6                                  </td> <td>4                             </td> <td>0                                                             </td> <td>1234                                </td> <td>No                    </td> <td>walk                             </td>\n",
       "        </tr>\n",
       "    </tbody>\n",
       "</table>\n",
       "<p>... (76 rows omitted)</p>"
      ],
      "text/plain": [
       "<IPython.core.display.HTML object>"
      ]
     },
     "metadata": {},
     "output_type": "display_data"
    }
   ],
   "source": [
    "survey = Table.read_table(\"data/classdatasurvey_s24.csv\") # removed extra \".csv\"\n",
    "survey.show(3)"
   ]
  },
  {
   "cell_type": "code",
   "execution_count": 32,
   "metadata": {},
   "outputs": [
    {
     "data": {
      "text/html": [
       "<table border=\"1\" class=\"dataframe\">\n",
       "    <thead>\n",
       "        <tr>\n",
       "            <th>Timestamp</th> <th>Year</th> <th>Extroversion</th> <th>Texts</th> <th>Handedness</th> <th>Sleep Position</th> <th>Hours of Sleep</th> <th>Siblings</th> <th>Pets</th> <th>Random Number</th> <th>Tattoos</th> <th>Commute</th>\n",
       "        </tr>\n",
       "    </thead>\n",
       "    <tbody>\n",
       "        <tr>\n",
       "            <td>4/23/2024 9:31:24</td> <td>First </td> <td>1           </td> <td>12   </td> <td>Both      </td> <td>Stomach       </td> <td>4             </td> <td>0       </td> <td>0               </td> <td>1122         </td> <td>No     </td> <td>Car       </td>\n",
       "        </tr>\n",
       "        <tr>\n",
       "            <td>4/23/2024 9:31:52</td> <td>First </td> <td>2           </td> <td>200  </td> <td>Right     </td> <td>Right side    </td> <td>7             </td> <td>1       </td> <td>0               </td> <td>1417         </td> <td>No     </td> <td>Bus       </td>\n",
       "        </tr>\n",
       "        <tr>\n",
       "            <td>4/23/2024 9:32:06</td> <td>Second</td> <td>5           </td> <td>30   </td> <td>Right     </td> <td>Left side     </td> <td>6             </td> <td>4       </td> <td>0               </td> <td>1234         </td> <td>No     </td> <td>walk      </td>\n",
       "        </tr>\n",
       "        <tr>\n",
       "            <td>4/23/2024 9:33:01</td> <td>Second</td> <td>5           </td> <td>30   </td> <td>Right     </td> <td>Left side     </td> <td>6             </td> <td>4       </td> <td>0               </td> <td>1234         </td> <td>No     </td> <td>walk      </td>\n",
       "        </tr>\n",
       "        <tr>\n",
       "            <td>4/23/2024 9:33:02</td> <td>First </td> <td>7           </td> <td>15   </td> <td>Right     </td> <td>Left side     </td> <td>9             </td> <td>2       </td> <td>nan             </td> <td>1475         </td> <td>No     </td> <td>Skateboard</td>\n",
       "        </tr>\n",
       "        <tr>\n",
       "            <td>4/23/2024 9:37:21</td> <td>Second</td> <td>3           </td> <td>15   </td> <td>Right     </td> <td>Right side    </td> <td>7             </td> <td>2       </td> <td>cats, dogs, fish</td> <td>8457         </td> <td>No     </td> <td>Car       </td>\n",
       "        </tr>\n",
       "        <tr>\n",
       "            <td>4/23/2024 9:38:27</td> <td>First </td> <td>7           </td> <td>100  </td> <td>Right     </td> <td>Right side    </td> <td>8             </td> <td>7       </td> <td>4 black cats    </td> <td>6969         </td> <td>Yes    </td> <td>walk      </td>\n",
       "        </tr>\n",
       "        <tr>\n",
       "            <td>4/23/2024 9:38:53</td> <td>First </td> <td>1           </td> <td>16   </td> <td>Right     </td> <td>Stomach       </td> <td>9             </td> <td>1       </td> <td>1               </td> <td>3246         </td> <td>No     </td> <td>walk      </td>\n",
       "        </tr>\n",
       "        <tr>\n",
       "            <td>4/23/2024 9:39:14</td> <td>First </td> <td>7           </td> <td>100  </td> <td>Right     </td> <td>Right side    </td> <td>8             </td> <td>7       </td> <td>4 black cats    </td> <td>6902         </td> <td>Yes    </td> <td>walk      </td>\n",
       "        </tr>\n",
       "        <tr>\n",
       "            <td>4/23/2024 9:39:48</td> <td>First </td> <td>5           </td> <td>100  </td> <td>Right     </td> <td>Right side    </td> <td>8             </td> <td>2       </td> <td>2 cats          </td> <td>3497         </td> <td>No     </td> <td>Bike      </td>\n",
       "        </tr>\n",
       "    </tbody>\n",
       "</table>\n",
       "<p>... (70 rows omitted)</p>"
      ],
      "text/plain": [
       "Timestamp         | Year   | Extroversion | Texts | Handedness | Sleep Position | Hours of Sleep | Siblings | Pets             | Random Number | Tattoos | Commute\n",
       "4/23/2024 9:31:24 | First  | 1            | 12    | Both       | Stomach        | 4              | 0        | 0                | 1122          | No      | Car\n",
       "4/23/2024 9:31:52 | First  | 2            | 200   | Right      | Right side     | 7              | 1        | 0                | 1417          | No      | Bus\n",
       "4/23/2024 9:32:06 | Second | 5            | 30    | Right      | Left side      | 6              | 4        | 0                | 1234          | No      | walk\n",
       "4/23/2024 9:33:01 | Second | 5            | 30    | Right      | Left side      | 6              | 4        | 0                | 1234          | No      | walk\n",
       "4/23/2024 9:33:02 | First  | 7            | 15    | Right      | Left side      | 9              | 2        | nan              | 1475          | No      | Skateboard\n",
       "4/23/2024 9:37:21 | Second | 3            | 15    | Right      | Right side     | 7              | 2        | cats, dogs, fish | 8457          | No      | Car\n",
       "4/23/2024 9:38:27 | First  | 7            | 100   | Right      | Right side     | 8              | 7        | 4 black cats     | 6969          | Yes     | walk\n",
       "4/23/2024 9:38:53 | First  | 1            | 16    | Right      | Stomach        | 9              | 1        | 1                | 3246          | No      | walk\n",
       "4/23/2024 9:39:14 | First  | 7            | 100   | Right      | Right side     | 8              | 7        | 4 black cats     | 6902          | Yes     | walk\n",
       "4/23/2024 9:39:48 | First  | 5            | 100   | Right      | Right side     | 8              | 2        | 2 cats           | 3497          | No      | Bike\n",
       "... (70 rows omitted)"
      ]
     },
     "execution_count": 32,
     "metadata": {},
     "output_type": "execute_result"
    }
   ],
   "source": [
    "survey = Table.read_table(\"data/classdatasurvey_s24_relabeled.csv\") # replaced with \"data/classdatasurvey_s24_relabeled.csv\"\n",
    "survey"
   ]
  },
  {
   "cell_type": "markdown",
   "metadata": {},
   "source": [
    "**Exercise:** What happens if we group by `\"Year\"` with no additional arguments?"
   ]
  },
  {
   "cell_type": "code",
   "execution_count": 33,
   "metadata": {
    "tags": []
   },
   "outputs": [
    {
     "data": {
      "text/html": [
       "<table border=\"1\" class=\"dataframe\">\n",
       "    <thead>\n",
       "        <tr>\n",
       "            <th>Year</th> <th>count</th>\n",
       "        </tr>\n",
       "    </thead>\n",
       "    <tbody>\n",
       "        <tr>\n",
       "            <td>First  </td> <td>40   </td>\n",
       "        </tr>\n",
       "        <tr>\n",
       "            <td>Fourth </td> <td>9    </td>\n",
       "        </tr>\n",
       "        <tr>\n",
       "            <td>Fourth+</td> <td>2    </td>\n",
       "        </tr>\n",
       "        <tr>\n",
       "            <td>Second </td> <td>17   </td>\n",
       "        </tr>\n",
       "        <tr>\n",
       "            <td>Third  </td> <td>12   </td>\n",
       "        </tr>\n",
       "    </tbody>\n",
       "</table>"
      ],
      "text/plain": [
       "Year    | count\n",
       "First   | 40\n",
       "Fourth  | 9\n",
       "Fourth+ | 2\n",
       "Second  | 17\n",
       "Third   | 12"
      ]
     },
     "execution_count": 33,
     "metadata": {},
     "output_type": "execute_result"
    }
   ],
   "source": [
    "survey.group(\"Year\") # the second column 'count' is created, and it counts the number of unique elements in the Year column\n",
    "# 40 first years or freshmen\n",
    "# 9 fourth years\n",
    "# 2 fourth + years\n",
    "# 17 second years\n",
    "# 12 third years"
   ]
  },
  {
   "cell_type": "markdown",
   "metadata": {},
   "source": [
    "What is the relationship between year and the average amount of sleep?\n",
    "\n",
    "**Exercise:** Computer the average `\"Hours of sleep\"` for each `\"Year\"` and display the result as bar chart with the bars in a meaningful order."
   ]
  },
  {
   "cell_type": "code",
   "execution_count": 34,
   "metadata": {},
   "outputs": [
    {
     "data": {
      "text/html": [
       "<table border=\"1\" class=\"dataframe\">\n",
       "    <thead>\n",
       "        <tr>\n",
       "            <th>Year</th> <th>Hours of Sleep average</th>\n",
       "        </tr>\n",
       "    </thead>\n",
       "    <tbody>\n",
       "        <tr>\n",
       "            <td>First  </td> <td>7.075                 </td>\n",
       "        </tr>\n",
       "        <tr>\n",
       "            <td>Fourth </td> <td>6.66667               </td>\n",
       "        </tr>\n",
       "        <tr>\n",
       "            <td>Fourth+</td> <td>8                     </td>\n",
       "        </tr>\n",
       "        <tr>\n",
       "            <td>Second </td> <td>6.85294               </td>\n",
       "        </tr>\n",
       "        <tr>\n",
       "            <td>Third  </td> <td>7.08333               </td>\n",
       "        </tr>\n",
       "    </tbody>\n",
       "</table>"
      ],
      "text/plain": [
       "Year    | Hours of Sleep average\n",
       "First   | 7.075\n",
       "Fourth  | 6.66667\n",
       "Fourth+ | 8\n",
       "Second  | 6.85294\n",
       "Third   | 7.08333"
      ]
     },
     "execution_count": 34,
     "metadata": {},
     "output_type": "execute_result"
    }
   ],
   "source": [
    "# first way\n",
    "survey.group(\"Year\", np.average).select('Year', 'Hours of Sleep average')\n",
    "# second way\n",
    "survey.select('Year', 'Hours of Sleep').group('Year', np.average)"
   ]
  },
  {
   "cell_type": "markdown",
   "metadata": {},
   "source": [
    "**Excercise**: Use the function below to convert the values in the 'year' column to strings that sort meaninfully. (use apply)"
   ]
  },
  {
   "cell_type": "code",
   "execution_count": 35,
   "metadata": {
    "tags": []
   },
   "outputs": [],
   "source": [
    "def convert_year_string(y):\n",
    "    if y == 'First':\n",
    "        return 'Freshman'\n",
    "    elif y == 'Second':\n",
    "        return 'Sophomore'\n",
    "    elif y == 'Third':\n",
    "        return 'Junior'\n",
    "    elif y == 'Fourth' or y == 'Fourth+':\n",
    "        return 'Senior'\n",
    "    else: \n",
    "        return"
   ]
  },
  {
   "cell_type": "code",
   "execution_count": 36,
   "metadata": {},
   "outputs": [
    {
     "data": {
      "text/html": [
       "<table border=\"1\" class=\"dataframe\">\n",
       "    <thead>\n",
       "        <tr>\n",
       "            <th>Timestamp</th> <th>Year</th> <th>Extroversion</th> <th>Texts</th> <th>Handedness</th> <th>Sleep Position</th> <th>Hours of Sleep</th> <th>Siblings</th> <th>Pets</th> <th>Random Number</th> <th>Tattoos</th> <th>Commute</th>\n",
       "        </tr>\n",
       "    </thead>\n",
       "    <tbody>\n",
       "        <tr>\n",
       "            <td>4/23/2024 9:31:24</td> <td>Freshman </td> <td>1           </td> <td>12   </td> <td>Both      </td> <td>Stomach       </td> <td>4             </td> <td>0       </td> <td>0               </td> <td>1122         </td> <td>No     </td> <td>Car       </td>\n",
       "        </tr>\n",
       "        <tr>\n",
       "            <td>4/23/2024 9:31:52</td> <td>Freshman </td> <td>2           </td> <td>200  </td> <td>Right     </td> <td>Right side    </td> <td>7             </td> <td>1       </td> <td>0               </td> <td>1417         </td> <td>No     </td> <td>Bus       </td>\n",
       "        </tr>\n",
       "        <tr>\n",
       "            <td>4/23/2024 9:32:06</td> <td>Sophomore</td> <td>5           </td> <td>30   </td> <td>Right     </td> <td>Left side     </td> <td>6             </td> <td>4       </td> <td>0               </td> <td>1234         </td> <td>No     </td> <td>walk      </td>\n",
       "        </tr>\n",
       "        <tr>\n",
       "            <td>4/23/2024 9:33:01</td> <td>Sophomore</td> <td>5           </td> <td>30   </td> <td>Right     </td> <td>Left side     </td> <td>6             </td> <td>4       </td> <td>0               </td> <td>1234         </td> <td>No     </td> <td>walk      </td>\n",
       "        </tr>\n",
       "        <tr>\n",
       "            <td>4/23/2024 9:33:02</td> <td>Freshman </td> <td>7           </td> <td>15   </td> <td>Right     </td> <td>Left side     </td> <td>9             </td> <td>2       </td> <td>nan             </td> <td>1475         </td> <td>No     </td> <td>Skateboard</td>\n",
       "        </tr>\n",
       "        <tr>\n",
       "            <td>4/23/2024 9:37:21</td> <td>Sophomore</td> <td>3           </td> <td>15   </td> <td>Right     </td> <td>Right side    </td> <td>7             </td> <td>2       </td> <td>cats, dogs, fish</td> <td>8457         </td> <td>No     </td> <td>Car       </td>\n",
       "        </tr>\n",
       "        <tr>\n",
       "            <td>4/23/2024 9:38:27</td> <td>Freshman </td> <td>7           </td> <td>100  </td> <td>Right     </td> <td>Right side    </td> <td>8             </td> <td>7       </td> <td>4 black cats    </td> <td>6969         </td> <td>Yes    </td> <td>walk      </td>\n",
       "        </tr>\n",
       "        <tr>\n",
       "            <td>4/23/2024 9:38:53</td> <td>Freshman </td> <td>1           </td> <td>16   </td> <td>Right     </td> <td>Stomach       </td> <td>9             </td> <td>1       </td> <td>1               </td> <td>3246         </td> <td>No     </td> <td>walk      </td>\n",
       "        </tr>\n",
       "        <tr>\n",
       "            <td>4/23/2024 9:39:14</td> <td>Freshman </td> <td>7           </td> <td>100  </td> <td>Right     </td> <td>Right side    </td> <td>8             </td> <td>7       </td> <td>4 black cats    </td> <td>6902         </td> <td>Yes    </td> <td>walk      </td>\n",
       "        </tr>\n",
       "        <tr>\n",
       "            <td>4/23/2024 9:39:48</td> <td>Freshman </td> <td>5           </td> <td>100  </td> <td>Right     </td> <td>Right side    </td> <td>8             </td> <td>2       </td> <td>2 cats          </td> <td>3497         </td> <td>No     </td> <td>Bike      </td>\n",
       "        </tr>\n",
       "    </tbody>\n",
       "</table>\n",
       "<p>... (70 rows omitted)</p>"
      ],
      "text/plain": [
       "Timestamp         | Year      | Extroversion | Texts | Handedness | Sleep Position | Hours of Sleep | Siblings | Pets             | Random Number | Tattoos | Commute\n",
       "4/23/2024 9:31:24 | Freshman  | 1            | 12    | Both       | Stomach        | 4              | 0        | 0                | 1122          | No      | Car\n",
       "4/23/2024 9:31:52 | Freshman  | 2            | 200   | Right      | Right side     | 7              | 1        | 0                | 1417          | No      | Bus\n",
       "4/23/2024 9:32:06 | Sophomore | 5            | 30    | Right      | Left side      | 6              | 4        | 0                | 1234          | No      | walk\n",
       "4/23/2024 9:33:01 | Sophomore | 5            | 30    | Right      | Left side      | 6              | 4        | 0                | 1234          | No      | walk\n",
       "4/23/2024 9:33:02 | Freshman  | 7            | 15    | Right      | Left side      | 9              | 2        | nan              | 1475          | No      | Skateboard\n",
       "4/23/2024 9:37:21 | Sophomore | 3            | 15    | Right      | Right side     | 7              | 2        | cats, dogs, fish | 8457          | No      | Car\n",
       "4/23/2024 9:38:27 | Freshman  | 7            | 100   | Right      | Right side     | 8              | 7        | 4 black cats     | 6969          | Yes     | walk\n",
       "4/23/2024 9:38:53 | Freshman  | 1            | 16    | Right      | Stomach        | 9              | 1        | 1                | 3246          | No      | walk\n",
       "4/23/2024 9:39:14 | Freshman  | 7            | 100   | Right      | Right side     | 8              | 7        | 4 black cats     | 6902          | Yes     | walk\n",
       "4/23/2024 9:39:48 | Freshman  | 5            | 100   | Right      | Right side     | 8              | 2        | 2 cats           | 3497          | No      | Bike\n",
       "... (70 rows omitted)"
      ]
     },
     "execution_count": 36,
     "metadata": {},
     "output_type": "execute_result"
    }
   ],
   "source": [
    "Year_converted = survey.apply(convert_year_string, 'Year')\n",
    "Year_converted\n",
    "survey = survey.with_column('Year', Year_converted)\n",
    "survey"
   ]
  },
  {
   "cell_type": "code",
   "execution_count": 37,
   "metadata": {},
   "outputs": [
    {
     "data": {
      "text/html": [
       "<table border=\"1\" class=\"dataframe\">\n",
       "    <thead>\n",
       "        <tr>\n",
       "            <th>Year</th> <th>count</th>\n",
       "        </tr>\n",
       "    </thead>\n",
       "    <tbody>\n",
       "        <tr>\n",
       "            <td>Freshman </td> <td>40   </td>\n",
       "        </tr>\n",
       "        <tr>\n",
       "            <td>Junior   </td> <td>12   </td>\n",
       "        </tr>\n",
       "        <tr>\n",
       "            <td>Senior   </td> <td>11   </td>\n",
       "        </tr>\n",
       "        <tr>\n",
       "            <td>Sophomore</td> <td>17   </td>\n",
       "        </tr>\n",
       "    </tbody>\n",
       "</table>"
      ],
      "text/plain": [
       "Year      | count\n",
       "Freshman  | 40\n",
       "Junior    | 12\n",
       "Senior    | 11\n",
       "Sophomore | 17"
      ]
     },
     "execution_count": 37,
     "metadata": {},
     "output_type": "execute_result"
    }
   ],
   "source": [
    "survey.group('Year')"
   ]
  },
  {
   "cell_type": "code",
   "execution_count": 38,
   "metadata": {},
   "outputs": [],
   "source": [
    "#if your \"what year are you in?\" column has None\n",
    "#re run the csv file cell\n",
    "# and rerun the apply function cell above\n",
    "#survey = survey.relabeled('What year are you in?', 'Year')#.relabeled\n",
    "#survey"
   ]
  },
  {
   "cell_type": "markdown",
   "metadata": {},
   "source": [
    "<details><summary>Click for Solution</summary>\n",
    "    \n",
    "```python\n",
    "survey['year_'] = survey.apply(convert_year_string, 'Year')\n",
    "survey.select('year_', 'Hours of sleep').group('year_', np.average).barh('year_')\n",
    "plots.xlim([6,7.5])\n",
    "```\n",
    "    \n",
    "</details>"
   ]
  },
  {
   "cell_type": "markdown",
   "metadata": {},
   "source": [
    "### Understanding Extraversion\n",
    "\n",
    "How extraverted is the class?"
   ]
  },
  {
   "cell_type": "code",
   "execution_count": 39,
   "metadata": {
    "tags": []
   },
   "outputs": [
    {
     "data": {
      "image/png": "[encoded data removed]",
      "text/plain": [
       "<Figure size 600x400 with 1 Axes>"
      ]
     },
     "metadata": {},
     "output_type": "display_data"
    }
   ],
   "source": [
    "survey.hist('Extroversion')\n",
    "# distribution of extroversion ratings from the class\n",
    "# # we have some introverts (rated 1 on the scale)\n",
    "# we have tons of ambiverts (around 5 rating)\n",
    "# we have some extroverts (10 rating)"
   ]
  },
  {
   "cell_type": "markdown",
   "metadata": {},
   "source": [
    "**Exercise:** Compute the *average* `\"Texts\"`, `\"Hours of Sleep\"`, `\"Siblings\"` for each value of `\"Extroversion\"`.  Save the resulting table as `by_extra`."
   ]
  },
  {
   "cell_type": "code",
   "execution_count": 40,
   "metadata": {},
   "outputs": [
    {
     "data": {
      "text/plain": [
       "('Timestamp',\n",
       " 'Year',\n",
       " 'Extroversion',\n",
       " 'Texts',\n",
       " 'Handedness',\n",
       " 'Sleep Position',\n",
       " 'Hours of Sleep',\n",
       " 'Siblings',\n",
       " 'Pets',\n",
       " 'Random Number',\n",
       " 'Tattoos',\n",
       " 'Commute')"
      ]
     },
     "execution_count": 40,
     "metadata": {},
     "output_type": "execute_result"
    }
   ],
   "source": [
    "survey.labels"
   ]
  },
  {
   "cell_type": "code",
   "execution_count": 41,
   "metadata": {},
   "outputs": [
    {
     "data": {
      "text/html": [
       "<table border=\"1\" class=\"dataframe\">\n",
       "    <thead>\n",
       "        <tr>\n",
       "            <th>Tattoos</th> <th>count</th>\n",
       "        </tr>\n",
       "    </thead>\n",
       "    <tbody>\n",
       "        <tr>\n",
       "            <td>No     </td> <td>65   </td>\n",
       "        </tr>\n",
       "        <tr>\n",
       "            <td>Yes    </td> <td>15   </td>\n",
       "        </tr>\n",
       "    </tbody>\n",
       "</table>"
      ],
      "text/plain": [
       "Tattoos | count\n",
       "No      | 65\n",
       "Yes     | 15"
      ]
     },
     "execution_count": 41,
     "metadata": {},
     "output_type": "execute_result"
    }
   ],
   "source": [
    "survey.group('Tattoos')"
   ]
  },
  {
   "cell_type": "code",
   "execution_count": 42,
   "metadata": {},
   "outputs": [
    {
     "data": {
      "text/html": [
       "<table border=\"1\" class=\"dataframe\">\n",
       "    <thead>\n",
       "        <tr>\n",
       "            <th>Extroversion</th> <th>Texts average</th> <th>Hours of Sleep average</th> <th>Siblings average</th>\n",
       "        </tr>\n",
       "    </thead>\n",
       "    <tbody>\n",
       "        <tr>\n",
       "            <td>1           </td> <td>14           </td> <td>6.5                   </td> <td>0.5             </td>\n",
       "        </tr>\n",
       "        <tr>\n",
       "            <td>2           </td> <td>69.8333      </td> <td>7.16667               </td> <td>1.66667         </td>\n",
       "        </tr>\n",
       "        <tr>\n",
       "            <td>3           </td> <td>59.2         </td> <td>7.1                   </td> <td>1.2             </td>\n",
       "        </tr>\n",
       "        <tr>\n",
       "            <td>4           </td> <td>nan          </td> <td>7                     </td> <td>2.2             </td>\n",
       "        </tr>\n",
       "        <tr>\n",
       "            <td>5           </td> <td>63           </td> <td>7.03333               </td> <td>1.93333         </td>\n",
       "        </tr>\n",
       "        <tr>\n",
       "            <td>6           </td> <td>39.6667      </td> <td>7.26667               </td> <td>1.86667         </td>\n",
       "        </tr>\n",
       "        <tr>\n",
       "            <td>7           </td> <td>65.1667      </td> <td>7.11111               </td> <td>2.27778         </td>\n",
       "        </tr>\n",
       "        <tr>\n",
       "            <td>8           </td> <td>132.5        </td> <td>5.83333               </td> <td>1.66667         </td>\n",
       "        </tr>\n",
       "        <tr>\n",
       "            <td>9           </td> <td>50           </td> <td>7                     </td> <td>2               </td>\n",
       "        </tr>\n",
       "        <tr>\n",
       "            <td>10          </td> <td>35           </td> <td>7                     </td> <td>3               </td>\n",
       "        </tr>\n",
       "    </tbody>\n",
       "</table>"
      ],
      "text/plain": [
       "Extroversion | Texts average | Hours of Sleep average | Siblings average\n",
       "1            | 14            | 6.5                    | 0.5\n",
       "2            | 69.8333       | 7.16667                | 1.66667\n",
       "3            | 59.2          | 7.1                    | 1.2\n",
       "4            | nan           | 7                      | 2.2\n",
       "5            | 63            | 7.03333                | 1.93333\n",
       "6            | 39.6667       | 7.26667                | 1.86667\n",
       "7            | 65.1667       | 7.11111                | 2.27778\n",
       "8            | 132.5         | 5.83333                | 1.66667\n",
       "9            | 50            | 7                      | 2\n",
       "10           | 35            | 7                      | 3"
      ]
     },
     "execution_count": 42,
     "metadata": {},
     "output_type": "execute_result"
    }
   ],
   "source": [
    "by_extra = survey.group('Extroversion', np.average).select('Extroversion','Texts average', 'Hours of Sleep average', 'Siblings average')\n",
    "by_extra"
   ]
  },
  {
   "cell_type": "code",
   "execution_count": 43,
   "metadata": {},
   "outputs": [],
   "source": [
    "texts_nan = survey.column('Texts')\n",
    "texts_no_nan = make_array(12.,  200.,   30.,   30.,   15.,   15.,  100.,   16.,  100.,\n",
    "        100.,  350.,   50.,   10.,   10.,  100.,   30.,   35.,   15.,\n",
    "         15.,  300.,   15.,   40.,  200.,   20.,  150.,  100.,   70.,\n",
    "         20.,    2.,   20.,   50.,   50.,  100.,   60.,   50.,  150.,\n",
    "         20.,   10.,   20.,   40.,  100.,  100.,   20.,  100.,   75.,\n",
    "         30.,   75.,  100.,   60.,    2.,   50.,    2.,   30.,   15.,\n",
    "         30.,   50.,   60.,  100.,   40.,  150.,    2.,   20.,   15.,\n",
    "         35.,   50.,  300.,   0,    3.,  100.,  100.,  100.,    3.,\n",
    "         50.,   45.,   45.,   60.,   40.,  100.,   10.,   50.)\n",
    "survey = survey.with_column('Texts', texts_no_nan) # overwrite the original text column, replaced the nan with 0, and added it back to survey\n",
    "\n",
    "# now when we take the average texts, for the 4 rating extroversion level, they have an average texts of 74\n",
    "# previously it was nan"
   ]
  },
  {
   "cell_type": "code",
   "execution_count": 44,
   "metadata": {},
   "outputs": [
    {
     "data": {
      "text/html": [
       "<table border=\"1\" class=\"dataframe\">\n",
       "    <thead>\n",
       "        <tr>\n",
       "            <th>Texts</th> <th>count</th>\n",
       "        </tr>\n",
       "    </thead>\n",
       "    <tbody>\n",
       "        <tr>\n",
       "            <td>0    </td> <td>1    </td>\n",
       "        </tr>\n",
       "        <tr>\n",
       "            <td>2    </td> <td>4    </td>\n",
       "        </tr>\n",
       "        <tr>\n",
       "            <td>3    </td> <td>2    </td>\n",
       "        </tr>\n",
       "        <tr>\n",
       "            <td>10   </td> <td>4    </td>\n",
       "        </tr>\n",
       "        <tr>\n",
       "            <td>12   </td> <td>1    </td>\n",
       "        </tr>\n",
       "        <tr>\n",
       "            <td>15   </td> <td>7    </td>\n",
       "        </tr>\n",
       "        <tr>\n",
       "            <td>16   </td> <td>1    </td>\n",
       "        </tr>\n",
       "        <tr>\n",
       "            <td>20   </td> <td>7    </td>\n",
       "        </tr>\n",
       "        <tr>\n",
       "            <td>30   </td> <td>6    </td>\n",
       "        </tr>\n",
       "        <tr>\n",
       "            <td>35   </td> <td>2    </td>\n",
       "        </tr>\n",
       "        <tr>\n",
       "            <td>40   </td> <td>4    </td>\n",
       "        </tr>\n",
       "        <tr>\n",
       "            <td>45   </td> <td>2    </td>\n",
       "        </tr>\n",
       "        <tr>\n",
       "            <td>50   </td> <td>9    </td>\n",
       "        </tr>\n",
       "        <tr>\n",
       "            <td>60   </td> <td>4    </td>\n",
       "        </tr>\n",
       "        <tr>\n",
       "            <td>70   </td> <td>1    </td>\n",
       "        </tr>\n",
       "        <tr>\n",
       "            <td>75   </td> <td>2    </td>\n",
       "        </tr>\n",
       "        <tr>\n",
       "            <td>100  </td> <td>15   </td>\n",
       "        </tr>\n",
       "        <tr>\n",
       "            <td>150  </td> <td>3    </td>\n",
       "        </tr>\n",
       "        <tr>\n",
       "            <td>200  </td> <td>2    </td>\n",
       "        </tr>\n",
       "        <tr>\n",
       "            <td>300  </td> <td>2    </td>\n",
       "        </tr>\n",
       "        <tr>\n",
       "            <td>350  </td> <td>1    </td>\n",
       "        </tr>\n",
       "    </tbody>\n",
       "</table>"
      ],
      "text/plain": [
       "<IPython.core.display.HTML object>"
      ]
     },
     "metadata": {},
     "output_type": "display_data"
    }
   ],
   "source": [
    "survey.group('Texts').show()"
   ]
  },
  {
   "cell_type": "markdown",
   "metadata": {},
   "source": [
    "<details><summary>Click for Solution</summary>\n",
    "    \n",
    "```python\n",
    "by_extra = (\n",
    "    survey\n",
    "    .select(\"Extraversion\", \"Number of textees\", \"Hours of sleep\", \"Piercings\")\n",
    "    .group('Extraversion', np.mean)\n",
    ")\n",
    "by_extra\n",
    "```\n",
    "    \n",
    "</details>"
   ]
  },
  {
   "cell_type": "markdown",
   "metadata": {},
   "source": [
    "Do you see any trends?  Let's plot the data to make it clearer."
   ]
  },
  {
   "cell_type": "code",
   "execution_count": 45,
   "metadata": {},
   "outputs": [
    {
     "data": {
      "image/png": "[encoded data removed]",
      "text/plain": [
       "<Figure size 600x600 with 1 Axes>"
      ]
     },
     "metadata": {},
     "output_type": "display_data"
    }
   ],
   "source": [
    "by_extra.plot(\"Extroversion\", 'Texts average', marker=\"*\")"
   ]
  },
  {
   "cell_type": "code",
   "execution_count": 46,
   "metadata": {},
   "outputs": [
    {
     "data": {
      "image/png": "[encoded data removed]",
      "text/plain": [
       "<Figure size 600x600 with 1 Axes>"
      ]
     },
     "metadata": {},
     "output_type": "display_data"
    }
   ],
   "source": [
    "by_extra.plot(\"Extroversion\", \"Hours of Sleep average\", marker=\"*\")"
   ]
  },
  {
   "cell_type": "code",
   "execution_count": 47,
   "metadata": {},
   "outputs": [
    {
     "data": {
      "image/png": "[encoded data removed]",
      "text/plain": [
       "<Figure size 600x600 with 1 Axes>"
      ]
     },
     "metadata": {},
     "output_type": "display_data"
    }
   ],
   "source": [
    "by_extra.plot(\"Extroversion\", \"Siblings average\", marker=\"*\")"
   ]
  },
  {
   "cell_type": "markdown",
   "metadata": {},
   "source": [
    "---\n",
    "\n",
    "<center> Return to Slides </center>\n",
    "\n",
    "---"
   ]
  },
  {
   "cell_type": "markdown",
   "metadata": {},
   "source": [
    "## Grouping by Two Columns "
   ]
  },
  {
   "cell_type": "markdown",
   "metadata": {},
   "source": [
    "Do right-handed people tend to sleep on their left side and left-handed people sleep on their right side? \n",
    "\n",
    "**Exercise:** Use the group function to count how many people are in each combination of `\"Handedness\"` and `\"Sleep Position\"`."
   ]
  },
  {
   "cell_type": "code",
   "execution_count": 48,
   "metadata": {
    "tags": []
   },
   "outputs": [
    {
     "data": {
      "text/html": [
       "<table border=\"1\" class=\"dataframe\">\n",
       "    <thead>\n",
       "        <tr>\n",
       "            <th>Handedness</th> <th>Sleep Position</th> <th>count</th>\n",
       "        </tr>\n",
       "    </thead>\n",
       "    <tbody>\n",
       "        <tr>\n",
       "            <td>Both      </td> <td>Stomach       </td> <td>1    </td>\n",
       "        </tr>\n",
       "        <tr>\n",
       "            <td>Left      </td> <td>Back          </td> <td>2    </td>\n",
       "        </tr>\n",
       "        <tr>\n",
       "            <td>Left      </td> <td>Left side     </td> <td>2    </td>\n",
       "        </tr>\n",
       "        <tr>\n",
       "            <td>Left      </td> <td>Right side    </td> <td>1    </td>\n",
       "        </tr>\n",
       "        <tr>\n",
       "            <td>Left      </td> <td>Stomach       </td> <td>1    </td>\n",
       "        </tr>\n",
       "        <tr>\n",
       "            <td>Right     </td> <td>Back          </td> <td>18   </td>\n",
       "        </tr>\n",
       "        <tr>\n",
       "            <td>Right     </td> <td>Left side     </td> <td>16   </td>\n",
       "        </tr>\n",
       "        <tr>\n",
       "            <td>Right     </td> <td>Right side    </td> <td>28   </td>\n",
       "        </tr>\n",
       "        <tr>\n",
       "            <td>Right     </td> <td>Stomach       </td> <td>9    </td>\n",
       "        </tr>\n",
       "        <tr>\n",
       "            <td>nan       </td> <td>Back          </td> <td>1    </td>\n",
       "        </tr>\n",
       "        <tr>\n",
       "            <td>nan       </td> <td>Left side     </td> <td>1    </td>\n",
       "        </tr>\n",
       "    </tbody>\n",
       "</table>"
      ],
      "text/plain": [
       "<IPython.core.display.HTML object>"
      ]
     },
     "metadata": {},
     "output_type": "display_data"
    }
   ],
   "source": [
    "survey.group(['Handedness', 'Sleep Position']).show() # pass in a list as our first argument into group"
   ]
  },
  {
   "cell_type": "code",
   "execution_count": 49,
   "metadata": {},
   "outputs": [
    {
     "data": {
      "text/html": [
       "<table border=\"1\" class=\"dataframe\">\n",
       "    <thead>\n",
       "        <tr>\n",
       "            <th>Handedness</th> <th>Sleep Position</th> <th>count</th>\n",
       "        </tr>\n",
       "    </thead>\n",
       "    <tbody>\n",
       "        <tr>\n",
       "            <td>Both      </td> <td>Stomach       </td> <td>1    </td>\n",
       "        </tr>\n",
       "        <tr>\n",
       "            <td>Left      </td> <td>Back          </td> <td>2    </td>\n",
       "        </tr>\n",
       "        <tr>\n",
       "            <td>Left      </td> <td>Left side     </td> <td>2    </td>\n",
       "        </tr>\n",
       "        <tr>\n",
       "            <td>Left      </td> <td>Right side    </td> <td>1    </td>\n",
       "        </tr>\n",
       "        <tr>\n",
       "            <td>Left      </td> <td>Stomach       </td> <td>1    </td>\n",
       "        </tr>\n",
       "        <tr>\n",
       "            <td>Right     </td> <td>Back          </td> <td>18   </td>\n",
       "        </tr>\n",
       "        <tr>\n",
       "            <td>Right     </td> <td>Left side     </td> <td>16   </td>\n",
       "        </tr>\n",
       "        <tr>\n",
       "            <td>Right     </td> <td>Right side    </td> <td>28   </td>\n",
       "        </tr>\n",
       "        <tr>\n",
       "            <td>Right     </td> <td>Stomach       </td> <td>9    </td>\n",
       "        </tr>\n",
       "    </tbody>\n",
       "</table>"
      ],
      "text/plain": [
       "Handedness | Sleep Position | count\n",
       "Both       | Stomach        | 1\n",
       "Left       | Back           | 2\n",
       "Left       | Left side      | 2\n",
       "Left       | Right side     | 1\n",
       "Left       | Stomach        | 1\n",
       "Right      | Back           | 18\n",
       "Right      | Left side      | 16\n",
       "Right      | Right side     | 28\n",
       "Right      | Stomach        | 9"
      ]
     },
     "execution_count": 49,
     "metadata": {},
     "output_type": "execute_result"
    }
   ],
   "source": [
    "survey.where('Handedness', are.not_equal_to('nan')).group(['Handedness', 'Sleep Position'])#.hist('Handedness')"
   ]
  },
  {
   "cell_type": "markdown",
   "metadata": {},
   "source": [
    "<details><summary>Click for Solution</summary> \n",
    "    \n",
    "```python\n",
    "(\n",
    "    survey\n",
    "    .group(column_or_label=[\"Handedness\", \"Sleep position\"])\n",
    "    .show()\n",
    ")\n",
    "```\n",
    "</details>"
   ]
  },
  {
   "cell_type": "markdown",
   "metadata": {},
   "source": [
    "What combination of `\"Handedness\"` and `\"Sleep position\"` results in the most sleep on average?\n",
    "\n",
    "**Exercise:** Use group to answer the above question."
   ]
  },
  {
   "cell_type": "code",
   "execution_count": 50,
   "metadata": {},
   "outputs": [
    {
     "data": {
      "text/plain": [
       "Row(Handedness='Right', Sleep Position='Right side', count=28)"
      ]
     },
     "execution_count": 50,
     "metadata": {},
     "output_type": "execute_result"
    }
   ],
   "source": [
    "handedness_sleep_position = survey.where('Handedness', are.not_equal_to('nan')).group(['Handedness', 'Sleep Position'])\n",
    "handedness_sleep_position.sort('count', descending = True).row(0)"
   ]
  },
  {
   "cell_type": "code",
   "execution_count": 67,
   "metadata": {},
   "outputs": [
    {
     "data": {
      "text/html": [
       "<table border=\"1\" class=\"dataframe\">\n",
       "    <thead>\n",
       "        <tr>\n",
       "            <th>Handedness</th> <th>Sleep Position</th> <th>Tattoos</th> <th>count</th>\n",
       "        </tr>\n",
       "    </thead>\n",
       "    <tbody>\n",
       "        <tr>\n",
       "            <td>Both      </td> <td>Stomach       </td> <td>No     </td> <td>1    </td>\n",
       "        </tr>\n",
       "        <tr>\n",
       "            <td>Left      </td> <td>Back          </td> <td>No     </td> <td>2    </td>\n",
       "        </tr>\n",
       "        <tr>\n",
       "            <td>Left      </td> <td>Left side     </td> <td>No     </td> <td>2    </td>\n",
       "        </tr>\n",
       "        <tr>\n",
       "            <td>Left      </td> <td>Right side    </td> <td>No     </td> <td>1    </td>\n",
       "        </tr>\n",
       "        <tr>\n",
       "            <td>Left      </td> <td>Stomach       </td> <td>No     </td> <td>1    </td>\n",
       "        </tr>\n",
       "        <tr>\n",
       "            <td>Right     </td> <td>Back          </td> <td>No     </td> <td>15   </td>\n",
       "        </tr>\n",
       "        <tr>\n",
       "            <td>Right     </td> <td>Back          </td> <td>Yes    </td> <td>3    </td>\n",
       "        </tr>\n",
       "        <tr>\n",
       "            <td>Right     </td> <td>Left side     </td> <td>No     </td> <td>15   </td>\n",
       "        </tr>\n",
       "        <tr>\n",
       "            <td>Right     </td> <td>Left side     </td> <td>Yes    </td> <td>1    </td>\n",
       "        </tr>\n",
       "        <tr>\n",
       "            <td>Right     </td> <td>Right side    </td> <td>No     </td> <td>19   </td>\n",
       "        </tr>\n",
       "        <tr>\n",
       "            <td>Right     </td> <td>Right side    </td> <td>Yes    </td> <td>9    </td>\n",
       "        </tr>\n",
       "        <tr>\n",
       "            <td>Right     </td> <td>Stomach       </td> <td>No     </td> <td>8    </td>\n",
       "        </tr>\n",
       "        <tr>\n",
       "            <td>Right     </td> <td>Stomach       </td> <td>Yes    </td> <td>1    </td>\n",
       "        </tr>\n",
       "    </tbody>\n",
       "</table>"
      ],
      "text/plain": [
       "<IPython.core.display.HTML object>"
      ]
     },
     "metadata": {},
     "output_type": "display_data"
    }
   ],
   "source": [
    "survey.group(['Handedness', 'Sleep Position', \"Tattoos\"]).where('Handedness', are.not_equal_to('nan')).show() # pass in a list as our first argument into group\n",
    "# grouping by Handedness, Sleep Position, and Tattoos\n",
    "# what do I anticipate: Ambidexterous person who sleeps on their stomach and has NO tattoos\n",
    "# we can have up to 3 (handedness) * 4 (sleep position) * 2 (Tattoos) rows = 24 rows\n",
    "\n",
    "# cross classify multiple categories (2 or more)\n",
    "# pivot can only compare TWO categories"
   ]
  },
  {
   "cell_type": "markdown",
   "metadata": {},
   "source": [
    "<details><summary>Click for Solution</summary>\n",
    "    \n",
    "```python\n",
    "(\n",
    "    survey\n",
    "    .select(\"Handedness\", \"Sleep position\", \"Hours of sleep\")\n",
    "    .group(['Handedness', 'Sleep position'], np.average)\n",
    "    .show()\n",
    ")\n",
    "```\n",
    "    \n",
    "</details>"
   ]
  },
  {
   "cell_type": "markdown",
   "metadata": {
    "tags": []
   },
   "source": [
    "## Pivot Tables\n",
    "\n",
    "When grouping by two columns it will sometimes be easier to re-arrange the table so the columns correspond to the *values* of one of the original grouped columns. \n",
    "\n",
    "Here is an example where I construct a pivot table that is equivalent to the above two column groupby operation:\n",
    "\n",
    "```python\n",
    "(\n",
    "    survey\n",
    "    .select(\"Handedness\", \"Sleep position\", \"Hours of sleep\")\n",
    "    .group([\"Handedness\", \"Sleep position\"], np.average)\n",
    "    .show()\n",
    ")\n",
    "```"
   ]
  },
  {
   "cell_type": "code",
   "execution_count": 51,
   "metadata": {},
   "outputs": [
    {
     "data": {
      "text/html": [
       "<table border=\"1\" class=\"dataframe\">\n",
       "    <thead>\n",
       "        <tr>\n",
       "            <th>Handedness</th> <th>Sleep Position</th> <th>Hours of Sleep average</th>\n",
       "        </tr>\n",
       "    </thead>\n",
       "    <tbody>\n",
       "        <tr>\n",
       "            <td>Both      </td> <td>Stomach       </td> <td>4                     </td>\n",
       "        </tr>\n",
       "        <tr>\n",
       "            <td>Left      </td> <td>Back          </td> <td>7.5                   </td>\n",
       "        </tr>\n",
       "        <tr>\n",
       "            <td>Left      </td> <td>Left side     </td> <td>8.5                   </td>\n",
       "        </tr>\n",
       "        <tr>\n",
       "            <td>Left      </td> <td>Right side    </td> <td>7                     </td>\n",
       "        </tr>\n",
       "        <tr>\n",
       "            <td>Left      </td> <td>Stomach       </td> <td>7                     </td>\n",
       "        </tr>\n",
       "        <tr>\n",
       "            <td>Right     </td> <td>Back          </td> <td>6.5                   </td>\n",
       "        </tr>\n",
       "        <tr>\n",
       "            <td>Right     </td> <td>Left side     </td> <td>7.4375                </td>\n",
       "        </tr>\n",
       "        <tr>\n",
       "            <td>Right     </td> <td>Right side    </td> <td>6.83929               </td>\n",
       "        </tr>\n",
       "        <tr>\n",
       "            <td>Right     </td> <td>Stomach       </td> <td>7.66667               </td>\n",
       "        </tr>\n",
       "    </tbody>\n",
       "</table>"
      ],
      "text/plain": [
       "Handedness | Sleep Position | Hours of Sleep average\n",
       "Both       | Stomach        | 4\n",
       "Left       | Back           | 7.5\n",
       "Left       | Left side      | 8.5\n",
       "Left       | Right side     | 7\n",
       "Left       | Stomach        | 7\n",
       "Right      | Back           | 6.5\n",
       "Right      | Left side      | 7.4375\n",
       "Right      | Right side     | 6.83929\n",
       "Right      | Stomach        | 7.66667"
      ]
     },
     "execution_count": 51,
     "metadata": {},
     "output_type": "execute_result"
    }
   ],
   "source": [
    "survey.select(\"Handedness\", \"Sleep Position\", \"Hours of Sleep\").group([\"Handedness\", \"Sleep Position\"], np.average).where('Handedness', are.not_equal_to('nan'))"
   ]
  },
  {
   "cell_type": "markdown",
   "metadata": {},
   "source": [
    "Here I am rewriting the example by explicity naming the function arguments.  You wouldn't do this in practice but it helps to highlight the meaning of the four things we passed to the function above."
   ]
  },
  {
   "cell_type": "code",
   "execution_count": 52,
   "metadata": {},
   "outputs": [
    {
     "data": {
      "text/html": [
       "<table border=\"1\" class=\"dataframe\">\n",
       "    <thead>\n",
       "        <tr>\n",
       "            <th>Sleep Position</th> <th>Both</th> <th>Left</th> <th>Right</th>\n",
       "        </tr>\n",
       "    </thead>\n",
       "    <tbody>\n",
       "        <tr>\n",
       "            <td>Back          </td> <td>0   </td> <td>7.5 </td> <td>6.5    </td>\n",
       "        </tr>\n",
       "        <tr>\n",
       "            <td>Left side     </td> <td>0   </td> <td>8.5 </td> <td>7.4375 </td>\n",
       "        </tr>\n",
       "        <tr>\n",
       "            <td>Right side    </td> <td>0   </td> <td>7   </td> <td>6.83929</td>\n",
       "        </tr>\n",
       "        <tr>\n",
       "            <td>Stomach       </td> <td>4   </td> <td>7   </td> <td>7.66667</td>\n",
       "        </tr>\n",
       "    </tbody>\n",
       "</table>"
      ],
      "text/plain": [
       "Sleep Position | Both | Left | Right\n",
       "Back           | 0    | 7.5  | 6.5\n",
       "Left side      | 0    | 8.5  | 7.4375\n",
       "Right side     | 0    | 7    | 6.83929\n",
       "Stomach        | 4    | 7    | 7.66667"
      ]
     },
     "execution_count": 52,
     "metadata": {},
     "output_type": "execute_result"
    }
   ],
   "source": [
    "(\n",
    "    survey.where('Handedness', are.not_equal_to('nan'))\n",
    "    .pivot(\n",
    "        columns = \"Handedness\", # The column whose unique values become columns\n",
    "        rows    = \"Sleep Position\", # The column whose unique values become rows\n",
    "        values  = \"Hours of Sleep\", # The column that will be used to compute the cells\n",
    "        collect = np.average # How to aggregate the values \n",
    "    )\n",
    ")"
   ]
  },
  {
   "cell_type": "markdown",
   "metadata": {},
   "source": [
    "Just as with the regular `group` function you will often want counts of combinations. In this case, you only need to specify the column to turn into columns and the column to turn into rows."
   ]
  },
  {
   "cell_type": "code",
   "execution_count": 53,
   "metadata": {},
   "outputs": [
    {
     "data": {
      "text/html": [
       "<table border=\"1\" class=\"dataframe\">\n",
       "    <thead>\n",
       "        <tr>\n",
       "            <th>Handedness</th> <th>Back</th> <th>Left side</th> <th>Right side</th> <th>Stomach</th>\n",
       "        </tr>\n",
       "    </thead>\n",
       "    <tbody>\n",
       "        <tr>\n",
       "            <td>Both      </td> <td>0   </td> <td>0        </td> <td>0         </td> <td>1      </td>\n",
       "        </tr>\n",
       "        <tr>\n",
       "            <td>Left      </td> <td>2   </td> <td>2        </td> <td>1         </td> <td>1      </td>\n",
       "        </tr>\n",
       "        <tr>\n",
       "            <td>Right     </td> <td>18  </td> <td>16       </td> <td>28        </td> <td>9      </td>\n",
       "        </tr>\n",
       "    </tbody>\n",
       "</table>"
      ],
      "text/plain": [
       "Handedness | Back | Left side | Right side | Stomach\n",
       "Both       | 0    | 0         | 0          | 1\n",
       "Left       | 2    | 2         | 1          | 1\n",
       "Right      | 18   | 16        | 28         | 9"
      ]
     },
     "execution_count": 53,
     "metadata": {},
     "output_type": "execute_result"
    }
   ],
   "source": [
    "survey.where('Handedness', are.not_equal_to('nan')).pivot(\"Sleep Position\", \"Handedness\")\n",
    "# sleep position is my column headings: back, left, right, stomach\n",
    "# handedness is my row headings: both, left right\n",
    "# with pivot, if there are no existing combinations of the two categories, a 0 appears inside the pivot table\n",
    "\n",
    "# notice with group, if there are no existing combination of the two categories, no row appears\n",
    "\n",
    "# here we use 2 arguments with pivot\n",
    "# by default, the stuff inside the pivot table, is a count of how many times this combination of two categories appears in our survey table"
   ]
  },
  {
   "cell_type": "markdown",
   "metadata": {},
   "source": [
    "Pivots can be useful for visualizations:"
   ]
  },
  {
   "cell_type": "code",
   "execution_count": 54,
   "metadata": {},
   "outputs": [
    {
     "name": "stderr",
     "output_type": "stream",
     "text": [
      "/home/jovyan/.local/lib/python3.11/site-packages/datascience/tables.py:3647: UserWarning: set_ticklabels() should only be used with a fixed number of ticks, i.e. after set_ticks() or using a FixedLocator.\n",
      "  axis.set_xticklabels(tick_labels, stretch='ultra-condensed')\n"
     ]
    },
    {
     "data": {
      "image/png": "[encoded data removed]",
      "text/plain": [
       "<Figure size 600x400 with 1 Axes>"
      ]
     },
     "metadata": {},
     "output_type": "display_data"
    },
    {
     "data": {
      "image/png": "[encoded data removed]",
      "text/plain": [
       "<Figure size 600x400 with 1 Axes>"
      ]
     },
     "metadata": {},
     "output_type": "display_data"
    }
   ],
   "source": [
    "survey.where('Handedness', are.not_equal_to('nan')).pivot(\"Sleep Position\", \"Handedness\").barh(\"Handedness\")\n",
    "# barh produces a horizontal bar chart\n",
    "# notice our x-axis (handedness) is on the left side\n",
    "\n",
    "survey.where('Handedness', are.not_equal_to('nan')).pivot(\"Sleep Position\", \"Handedness\").bar(\"Handedness\")\n"
   ]
  },
  {
   "cell_type": "markdown",
   "metadata": {},
   "source": [
    "---\n",
    "\n",
    "<center> Return to Slides </center>\n",
    "\n",
    "---"
   ]
  },
  {
   "cell_type": "markdown",
   "metadata": {},
   "source": [
    "## Joins\n",
    "\n",
    "We use join to **join** two tables on a column."
   ]
  },
  {
   "cell_type": "code",
   "execution_count": 55,
   "metadata": {
    "tags": []
   },
   "outputs": [
    {
     "data": {
      "text/html": [
       "<table border=\"1\" class=\"dataframe\">\n",
       "    <thead>\n",
       "        <tr>\n",
       "            <th>Drink</th> <th>Cafe</th> <th>Price</th>\n",
       "        </tr>\n",
       "    </thead>\n",
       "    <tbody>\n",
       "        <tr>\n",
       "            <td>Milk Tea</td> <td>Asha  </td> <td>5.5  </td>\n",
       "        </tr>\n",
       "        <tr>\n",
       "            <td>Espresso</td> <td>Strada</td> <td>1.75 </td>\n",
       "        </tr>\n",
       "        <tr>\n",
       "            <td>Latte   </td> <td>Strada</td> <td>3.25 </td>\n",
       "        </tr>\n",
       "        <tr>\n",
       "            <td>Espresso</td> <td>FSM   </td> <td>2    </td>\n",
       "        </tr>\n",
       "    </tbody>\n",
       "</table>"
      ],
      "text/plain": [
       "Drink    | Cafe   | Price\n",
       "Milk Tea | Asha   | 5.5\n",
       "Espresso | Strada | 1.75\n",
       "Latte    | Strada | 3.25\n",
       "Espresso | FSM    | 2"
      ]
     },
     "execution_count": 55,
     "metadata": {},
     "output_type": "execute_result"
    }
   ],
   "source": [
    "drinks"
   ]
  },
  {
   "cell_type": "code",
   "execution_count": 56,
   "metadata": {
    "tags": []
   },
   "outputs": [
    {
     "data": {
      "text/html": [
       "<table border=\"1\" class=\"dataframe\">\n",
       "    <thead>\n",
       "        <tr>\n",
       "            <th>Coupon % off</th> <th>Location</th>\n",
       "        </tr>\n",
       "    </thead>\n",
       "    <tbody>\n",
       "        <tr>\n",
       "            <td>10          </td> <td>Asha    </td>\n",
       "        </tr>\n",
       "        <tr>\n",
       "            <td>25          </td> <td>Strada  </td>\n",
       "        </tr>\n",
       "        <tr>\n",
       "            <td>5           </td> <td>Asha    </td>\n",
       "        </tr>\n",
       "    </tbody>\n",
       "</table>"
      ],
      "text/plain": [
       "Coupon % off | Location\n",
       "10           | Asha\n",
       "25           | Strada\n",
       "5            | Asha"
      ]
     },
     "execution_count": 56,
     "metadata": {},
     "output_type": "execute_result"
    }
   ],
   "source": [
    "discounts = Table().with_columns(\n",
    "    'Coupon % off', make_array(10, 25, 5),\n",
    "    'Location', make_array('Asha', 'Strada', 'Asha')\n",
    ")\n",
    "discounts"
   ]
  },
  {
   "cell_type": "markdown",
   "metadata": {},
   "source": [
    "**Exercise:** Combine the `drinks` and `discounts` table into a new table which has all possible discounts for each drink."
   ]
  },
  {
   "cell_type": "code",
   "execution_count": 57,
   "metadata": {
    "scrolled": true
   },
   "outputs": [
    {
     "data": {
      "text/html": [
       "<table border=\"1\" class=\"dataframe\">\n",
       "    <thead>\n",
       "        <tr>\n",
       "            <th>Cafe</th> <th>Drink</th> <th>Price</th> <th>Coupon % off</th>\n",
       "        </tr>\n",
       "    </thead>\n",
       "    <tbody>\n",
       "        <tr>\n",
       "            <td>Asha  </td> <td>Milk Tea</td> <td>5.5  </td> <td>10          </td>\n",
       "        </tr>\n",
       "        <tr>\n",
       "            <td>Asha  </td> <td>Milk Tea</td> <td>5.5  </td> <td>5           </td>\n",
       "        </tr>\n",
       "        <tr>\n",
       "            <td>Strada</td> <td>Espresso</td> <td>1.75 </td> <td>25          </td>\n",
       "        </tr>\n",
       "        <tr>\n",
       "            <td>Strada</td> <td>Latte   </td> <td>3.25 </td> <td>25          </td>\n",
       "        </tr>\n",
       "    </tbody>\n",
       "</table>"
      ],
      "text/plain": [
       "Cafe   | Drink    | Price | Coupon % off\n",
       "Asha   | Milk Tea | 5.5   | 10\n",
       "Asha   | Milk Tea | 5.5   | 5\n",
       "Strada | Espresso | 1.75  | 25\n",
       "Strada | Latte    | 3.25  | 25"
      ]
     },
     "execution_count": 57,
     "metadata": {},
     "output_type": "execute_result"
    }
   ],
   "source": [
    "combined = drinks.join('Cafe', discounts, 'Location')\n",
    "# join drinks and discounts table\n",
    "# by matching elements that appear in 'Cafe' column and 'Location' column\n",
    "\n",
    "# the table that is produced here in combined\n",
    "# will display 'Cafe' as the new first column\n",
    "# the column(s) that will be appended or added to the end of the table (right of the table)\n",
    "# will be whatever else is inside the discounts table\n",
    "# it just happens to be that there is one additional column to be added, and that's 'Coupon % off'\n",
    "\n",
    "# notice, cafe FSM is not in combined--> this is because there was not available discount code for cafe FSM\n",
    "# when we join tables, only the entries that match up in the columns we specify will appear\n",
    "# entries that aren't in both table, in the column we specify will NOT appear\n",
    "\n",
    "combined"
   ]
  },
  {
   "cell_type": "markdown",
   "metadata": {},
   "source": [
    "<details><summary>Click for Solution</summary>\n",
    "    \n",
    "```python\n",
    "combined = drinks.join(column_label='Cafe', other=discounts, other_label='Location')\n",
    "combined\n",
    "```\n",
    "    \n",
    "</details>"
   ]
  },
  {
   "cell_type": "markdown",
   "metadata": {},
   "source": [
    "**Exercise:** Calculate the lowest rate you can get for each drink using the available coupons."
   ]
  },
  {
   "cell_type": "code",
   "execution_count": 58,
   "metadata": {},
   "outputs": [
    {
     "data": {
      "text/html": [
       "<table border=\"1\" class=\"dataframe\">\n",
       "    <thead>\n",
       "        <tr>\n",
       "            <th>Cafe</th> <th>Drink</th> <th>Price</th> <th>Coupon % off</th> <th>Discounted Price</th>\n",
       "        </tr>\n",
       "    </thead>\n",
       "    <tbody>\n",
       "        <tr>\n",
       "            <td>Asha  </td> <td>Milk Tea</td> <td>5.5  </td> <td>10          </td> <td>4.95            </td>\n",
       "        </tr>\n",
       "        <tr>\n",
       "            <td>Asha  </td> <td>Milk Tea</td> <td>5.5  </td> <td>5           </td> <td>5.225           </td>\n",
       "        </tr>\n",
       "        <tr>\n",
       "            <td>Strada</td> <td>Espresso</td> <td>1.75 </td> <td>25          </td> <td>1.3125          </td>\n",
       "        </tr>\n",
       "        <tr>\n",
       "            <td>Strada</td> <td>Latte   </td> <td>3.25 </td> <td>25          </td> <td>2.4375          </td>\n",
       "        </tr>\n",
       "    </tbody>\n",
       "</table>"
      ],
      "text/plain": [
       "Cafe   | Drink    | Price | Coupon % off | Discounted Price\n",
       "Asha   | Milk Tea | 5.5   | 10           | 4.95\n",
       "Asha   | Milk Tea | 5.5   | 5            | 5.225\n",
       "Strada | Espresso | 1.75  | 25           | 1.3125\n",
       "Strada | Latte    | 3.25  | 25           | 2.4375"
      ]
     },
     "execution_count": 58,
     "metadata": {},
     "output_type": "execute_result"
    }
   ],
   "source": [
    "# two ways of finding new price\n",
    "# (100% - coupon%)*old_price = (100-coupon%)/100 * old_price = new_price\n",
    "# old_price - old_price * coupon% = old_price - old_price * (coupon%)/100 = new_price\n",
    "\n",
    "old_price = combined.column('Price') # extracted Price column as array\n",
    "coupon_perc = combined.column('Coupon % off') # extracted Coupon% column as array\n",
    "coupon_prop = coupon_perc/100 # converted percentage to proportion (decimal) so we can multiply these numbers against price\n",
    "coupon_prop\n",
    "discount = old_price * coupon_prop # find the discount\n",
    "new_price = old_price - discount # subtract discount from old price, to find new price\n",
    "new_price\n",
    "combined = combined.with_column('Discounted Price', new_price) # added new price back into combined column\n",
    "combined"
   ]
  },
  {
   "cell_type": "markdown",
   "metadata": {},
   "source": [
    "<details><summary>Click for Solution</summary>\n",
    "    \n",
    "```python\n",
    "combined = drinks.join('Cafe', discounts, 'Location') # from previous question\n",
    "\n",
    "discount_frac = 1-combined.column(\"Coupon % off\")/100.0\n",
    "\n",
    "(\n",
    "    combined\n",
    "    .with_column(\"Discounted Price\", combined.column(\"Price\") * discount_frac)\n",
    "    .select(\"Drink\", \"Discounted Price\")\n",
    "    .group(\"Drink\", min)\n",
    ")\n",
    "\n",
    "```\n",
    "</details>"
   ]
  },
  {
   "cell_type": "markdown",
   "metadata": {},
   "source": [
    "**Exercise:** What happens if I run the following? How many rows will it produce."
   ]
  },
  {
   "cell_type": "code",
   "execution_count": 71,
   "metadata": {},
   "outputs": [
    {
     "data": {
      "text/plain": [
       "1"
      ]
     },
     "execution_count": 71,
     "metadata": {},
     "output_type": "execute_result"
    }
   ],
   "source": [
    "drinks.column('Drink') == \"Milk Tea\"\n",
    "# when we take an array and check for equality, here we are seeing where it equals \"Milk Tea\"\n",
    "# what returns is an array of boolean values\n",
    "\n",
    "# to count how many Milk Teas are in my table (consider when we have a large table and it is unfeasible to do a manual count\n",
    "sum(drinks.column('Drink') == \"Milk Tea\")\n",
    "# OR we can do np.count_nonzero\n",
    "np.count_nonzero(drinks.column('Drink') == \"Milk Tea\")"
   ]
  },
  {
   "cell_type": "code",
   "execution_count": 72,
   "metadata": {},
   "outputs": [
    {
     "data": {
      "text/plain": [
       "1"
      ]
     },
     "execution_count": 72,
     "metadata": {},
     "output_type": "execute_result"
    }
   ],
   "source": [
    "sum(make_array(True, False, False, False))\n",
    "# True = 1\n",
    "# False = 0\n",
    "# summing up the 1s or Trues\n",
    "# sum(1,0,0,0)"
   ]
  },
  {
   "cell_type": "code",
   "execution_count": 73,
   "metadata": {},
   "outputs": [
    {
     "data": {
      "text/plain": [
       "1"
      ]
     },
     "execution_count": 73,
     "metadata": {},
     "output_type": "execute_result"
    }
   ],
   "source": [
    "np.count_nonzero(make_array(True, False, False, False))\n",
    "# np.count_nonzero(1,0,0,0)\n",
    "# counting the 1s, or Trues"
   ]
  },
  {
   "cell_type": "code",
   "execution_count": 60,
   "metadata": {
    "tags": []
   },
   "outputs": [
    {
     "data": {
      "text/html": [
       "<table border=\"1\" class=\"dataframe\">\n",
       "    <thead>\n",
       "        <tr>\n",
       "            <th>Cafe</th> <th>Drink</th> <th>Price</th> <th>Drink_2</th> <th>Price_2</th>\n",
       "        </tr>\n",
       "    </thead>\n",
       "    <tbody>\n",
       "        <tr>\n",
       "            <td>Asha  </td> <td>Milk Tea</td> <td>5.5  </td> <td>Milk Tea</td> <td>5.5    </td>\n",
       "        </tr>\n",
       "        <tr>\n",
       "            <td>FSM   </td> <td>Espresso</td> <td>2    </td> <td>Espresso</td> <td>2      </td>\n",
       "        </tr>\n",
       "        <tr>\n",
       "            <td>Strada</td> <td>Espresso</td> <td>1.75 </td> <td>Espresso</td> <td>1.75   </td>\n",
       "        </tr>\n",
       "        <tr>\n",
       "            <td>Strada</td> <td>Espresso</td> <td>1.75 </td> <td>Latte   </td> <td>3.25   </td>\n",
       "        </tr>\n",
       "        <tr>\n",
       "            <td>Strada</td> <td>Latte   </td> <td>3.25 </td> <td>Espresso</td> <td>1.75   </td>\n",
       "        </tr>\n",
       "        <tr>\n",
       "            <td>Strada</td> <td>Latte   </td> <td>3.25 </td> <td>Latte   </td> <td>3.25   </td>\n",
       "        </tr>\n",
       "    </tbody>\n",
       "</table>"
      ],
      "text/plain": [
       "Cafe   | Drink    | Price | Drink_2  | Price_2\n",
       "Asha   | Milk Tea | 5.5   | Milk Tea | 5.5\n",
       "FSM    | Espresso | 2     | Espresso | 2\n",
       "Strada | Espresso | 1.75  | Espresso | 1.75\n",
       "Strada | Espresso | 1.75  | Latte    | 3.25\n",
       "Strada | Latte    | 3.25  | Espresso | 1.75\n",
       "Strada | Latte    | 3.25  | Latte    | 3.25"
      ]
     },
     "execution_count": 60,
     "metadata": {},
     "output_type": "execute_result"
    }
   ],
   "source": [
    "drinks.join('Cafe', drinks, 'Cafe')\n",
    "# matches the entries in Cafe\n",
    "# Cafe is now the first column from the first instance of drinks\n",
    "# at the end of the table (right hand side of the table) is the remaining columns in the 2nd instance of drinks table"
   ]
  },
  {
   "cell_type": "markdown",
   "metadata": {},
   "source": [
    "---\n",
    "\n",
    "<center> Return to Slides </center>\n",
    "\n",
    "---"
   ]
  },
  {
   "cell_type": "markdown",
   "metadata": {},
   "source": [
    "## Discussion Questions \n",
    "\n",
    "For the following practice questions we will use the sky scraper dataset"
   ]
  },
  {
   "cell_type": "code",
   "execution_count": 61,
   "metadata": {
    "tags": []
   },
   "outputs": [
    {
     "data": {
      "text/html": [
       "<table border=\"1\" class=\"dataframe\">\n",
       "    <thead>\n",
       "        <tr>\n",
       "            <th>name</th> <th>material</th> <th>city</th> <th>height</th> <th>age</th>\n",
       "        </tr>\n",
       "    </thead>\n",
       "    <tbody>\n",
       "        <tr>\n",
       "            <td>One World Trade Center           </td> <td>mixed/composite</td> <td>New York City</td> <td>541.3 </td> <td>9   </td>\n",
       "        </tr>\n",
       "        <tr>\n",
       "            <td>Willis Tower                     </td> <td>steel          </td> <td>Chicago      </td> <td>442.14</td> <td>49  </td>\n",
       "        </tr>\n",
       "        <tr>\n",
       "            <td>432 Park Avenue                  </td> <td>concrete       </td> <td>New York City</td> <td>425.5 </td> <td>8   </td>\n",
       "        </tr>\n",
       "        <tr>\n",
       "            <td>Trump International Hotel & Tower</td> <td>concrete       </td> <td>Chicago      </td> <td>423.22</td> <td>14  </td>\n",
       "        </tr>\n",
       "        <tr>\n",
       "            <td>Empire State Building            </td> <td>steel          </td> <td>New York City</td> <td>381   </td> <td>92  </td>\n",
       "        </tr>\n",
       "        <tr>\n",
       "            <td>Bank of America Tower            </td> <td>mixed/composite</td> <td>New York City</td> <td>365.8 </td> <td>14  </td>\n",
       "        </tr>\n",
       "        <tr>\n",
       "            <td>Stratosphere Tower               </td> <td>concrete       </td> <td>Las Vegas    </td> <td>350.22</td> <td>27  </td>\n",
       "        </tr>\n",
       "        <tr>\n",
       "            <td>Aon Center                       </td> <td>steel          </td> <td>Chicago      </td> <td>346.26</td> <td>50  </td>\n",
       "        </tr>\n",
       "        <tr>\n",
       "            <td>John Hancock Center              </td> <td>steel          </td> <td>Chicago      </td> <td>343.69</td> <td>54  </td>\n",
       "        </tr>\n",
       "        <tr>\n",
       "            <td>Chrysler Building                </td> <td>steel          </td> <td>New York City</td> <td>318.9 </td> <td>93  </td>\n",
       "        </tr>\n",
       "    </tbody>\n",
       "</table>\n",
       "<p>... (1771 rows omitted)</p>"
      ],
      "text/plain": [
       "name                              | material        | city          | height | age\n",
       "One World Trade Center            | mixed/composite | New York City | 541.3  | 9\n",
       "Willis Tower                      | steel           | Chicago       | 442.14 | 49\n",
       "432 Park Avenue                   | concrete        | New York City | 425.5  | 8\n",
       "Trump International Hotel & Tower | concrete        | Chicago       | 423.22 | 14\n",
       "Empire State Building             | steel           | New York City | 381    | 92\n",
       "Bank of America Tower             | mixed/composite | New York City | 365.8  | 14\n",
       "Stratosphere Tower                | concrete        | Las Vegas     | 350.22 | 27\n",
       "Aon Center                        | steel           | Chicago       | 346.26 | 50\n",
       "John Hancock Center               | steel           | Chicago       | 343.69 | 54\n",
       "Chrysler Building                 | steel           | New York City | 318.9  | 93\n",
       "... (1771 rows omitted)"
      ]
     },
     "execution_count": 61,
     "metadata": {},
     "output_type": "execute_result"
    }
   ],
   "source": [
    "# From the CORGIS Dataset Project\n",
    "# By Austin Cory Bart acbart@vt.edu\n",
    "# Version 2.0.0, created 3/22/2016\n",
    "# https://corgis-edu.github.io/corgis/csv/skyscrapers/\n",
    "\n",
    "this_year = 2023\n",
    "sky = Table.read_table(\"data/skyscrapers_v2.csv\")\n",
    "sky = (\n",
    "    sky\n",
    "    .with_column(\"age\", this_year - sky.column(\"completed\"))\n",
    "    .drop(\"completed\")\n",
    ")\n",
    "sky"
   ]
  },
  {
   "cell_type": "markdown",
   "metadata": {},
   "source": [
    "**Exercise:**  For each city, what’s the tallest building for each material?"
   ]
  },
  {
   "cell_type": "code",
   "execution_count": 62,
   "metadata": {},
   "outputs": [
    {
     "ename": "SyntaxError",
     "evalue": "invalid syntax (1040247369.py, line 1)",
     "output_type": "error",
     "traceback": [
      "\u001b[0;36m  Cell \u001b[0;32mIn[62], line 1\u001b[0;36m\u001b[0m\n\u001b[0;31m    tall_pivot =\u001b[0m\n\u001b[0m                 ^\u001b[0m\n\u001b[0;31mSyntaxError\u001b[0m\u001b[0;31m:\u001b[0m invalid syntax\n"
     ]
    }
   ],
   "source": [
    "tall_pivot = "
   ]
  },
  {
   "cell_type": "markdown",
   "metadata": {},
   "source": [
    "<details><summary>Click for Solution</summary>\n",
    "    \n",
    "```python\n",
    "tall_pivot = sky.pivot(\"material\", \"city\", \"height\", max)\n",
    "tall_pivot\n",
    "```\n",
    "</details>"
   ]
  },
  {
   "cell_type": "code",
   "execution_count": null,
   "metadata": {},
   "outputs": [],
   "source": [
    "tall_pivot.barh(\"city\")"
   ]
  },
  {
   "cell_type": "markdown",
   "metadata": {},
   "source": [
    "**Exercise:** For each city that has at least 50 buildings in the dataset, compute the average height of buildings broken down by material.  Make a bar chart with the cities and the average height of buildings for each material."
   ]
  },
  {
   "cell_type": "code",
   "execution_count": null,
   "metadata": {},
   "outputs": [],
   "source": []
  },
  {
   "cell_type": "markdown",
   "metadata": {},
   "source": [
    "<details><summary>Click for Solution</summary>\n",
    "    \n",
    "```python\n",
    "num_buildings = sky.group(\"city\")\n",
    "(\n",
    "    sky\n",
    "    .join(\"city\", num_buildings)\n",
    "    .where(\"count\", are.above_or_equal_to(50))\n",
    "    .pivot(\"material\", \"city\", \"height\", np.mean)\n",
    "    .barh(\"city\")\n",
    ")\n",
    "```\n",
    "</details>"
   ]
  },
  {
   "cell_type": "markdown",
   "metadata": {},
   "source": [
    "**Exercise:** Generate a table of the names and ages of the oldest buildings for each combination of city and materials."
   ]
  },
  {
   "cell_type": "code",
   "execution_count": null,
   "metadata": {},
   "outputs": [],
   "source": []
  },
  {
   "cell_type": "markdown",
   "metadata": {},
   "source": [
    "<details><summary>Click for Solution</summary>\n",
    "    \n",
    "```python\n",
    "def first(x):\n",
    "    return x[0]\n",
    "    \n",
    "    \n",
    "(\n",
    "    sky\n",
    "    .sort(\"age\", descending=True) \n",
    "    .select(\"city\", \"material\", \"name\", \"age\")\n",
    "    .group([\"city\", \"material\"], first)\n",
    "    #.where(\"city\", \"San Francisco\") #<- for fun\n",
    ")\n",
    "```\n",
    "    \n",
    "</details>"
   ]
  },
  {
   "cell_type": "code",
   "execution_count": null,
   "metadata": {},
   "outputs": [],
   "source": []
  }
 ],
 "metadata": {
  "kernelspec": {
   "display_name": "Python 3 (ipykernel)",
   "language": "python",
   "name": "python3"
  },
  "language_info": {
   "codemirror_mode": {
    "name": "ipython",
    "version": 3
   },
   "file_extension": ".py",
   "mimetype": "text/x-python",
   "name": "python",
   "nbconvert_exporter": "python",
   "pygments_lexer": "ipython3",
   "version": "3.11.5"
  }
 },
 "nbformat": 4,
 "nbformat_minor": 4
}
