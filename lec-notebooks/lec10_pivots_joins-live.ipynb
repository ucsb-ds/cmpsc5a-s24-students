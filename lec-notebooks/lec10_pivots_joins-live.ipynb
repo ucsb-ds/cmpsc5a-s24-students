{
 "cells": [
  {
   "cell_type": "code",
   "execution_count": 1,
   "metadata": {
    "tags": []
   },
   "outputs": [],
   "source": [
    "from datascience import *\n",
    "import numpy as np\n",
    "\n",
    "%matplotlib inline\n",
    "import matplotlib.pyplot as plots\n",
    "plots.style.use('fivethirtyeight')\n",
    "import warnings\n",
    "warnings.simplefilter(action='ignore',category=np.VisibleDeprecationWarning)"
   ]
  },
  {
   "cell_type": "markdown",
   "metadata": {},
   "source": [
    "# Lecture 10\n",
    "\n",
    "In this lecture, we will:\n",
    "1. Introduce python Lists\n",
    "2. Show how to build tables from rows instead of columns\n",
    "3. finish our discussion on grouping\n",
    "4. Introduce pivots -- a special kind of grouping\n",
    "5. Introduce joins"
   ]
  },
  {
   "cell_type": "markdown",
   "metadata": {},
   "source": [
    "---\n",
    "\n",
    "## Lists\n",
    "\n",
    "Lists in python are like arrays but they can contain things of different types and you make them by using square brackets:"
   ]
  },
  {
   "cell_type": "code",
   "execution_count": 2,
   "metadata": {},
   "outputs": [
    {
     "data": {
      "text/plain": [
       "[1, 5, 'hello', 5.0]"
      ]
     },
     "execution_count": 2,
     "metadata": {},
     "output_type": "execute_result"
    }
   ],
   "source": [
    "[1, 5, 'hello', 5.0]"
   ]
  },
  {
   "cell_type": "code",
   "execution_count": 3,
   "metadata": {},
   "outputs": [
    {
     "data": {
      "text/plain": [
       "[1, 5, 'hello', 5.0, array([1, 2, 3])]"
      ]
     },
     "execution_count": 3,
     "metadata": {},
     "output_type": "execute_result"
    }
   ],
   "source": [
    "another_list = [1, 5, 'hello', 5.0, make_array(1,2,3)]\n",
    "another_list"
   ]
  },
  {
   "cell_type": "markdown",
   "metadata": {},
   "source": [
    "You have to use square brakets when accessing elements from a list (you can't use item)."
   ]
  },
  {
   "cell_type": "code",
   "execution_count": 4,
   "metadata": {},
   "outputs": [
    {
     "data": {
      "text/plain": [
       "1"
      ]
     },
     "execution_count": 4,
     "metadata": {},
     "output_type": "execute_result"
    }
   ],
   "source": [
    "a = make_array(1,2,3)\n",
    "a.item(0) # .item() is specific to an array data type"
   ]
  },
  {
   "cell_type": "code",
   "execution_count": 6,
   "metadata": {},
   "outputs": [
    {
     "data": {
      "text/plain": [
       "'hello'"
      ]
     },
     "execution_count": 6,
     "metadata": {},
     "output_type": "execute_result"
    }
   ],
   "source": [
    "#another_list.item(0) # we can't use.item with a list data type\n",
    "another_list[2] # to access an individual element in a list, we use square brackets instead"
   ]
  },
  {
   "cell_type": "markdown",
   "metadata": {},
   "source": [
    "Recall that for arrays you could do either. (In the real world, most people would probably use square brackets)."
   ]
  },
  {
   "cell_type": "code",
   "execution_count": 7,
   "metadata": {},
   "outputs": [
    {
     "data": {
      "text/plain": [
       "'Banana'"
      ]
     },
     "execution_count": 7,
     "metadata": {},
     "output_type": "execute_result"
    }
   ],
   "source": [
    "my_array = make_array(\"Apple\", \"Banana\", \"Corn\")\n",
    "my_array[1]"
   ]
  },
  {
   "cell_type": "markdown",
   "metadata": {},
   "source": [
    "Same thing as:"
   ]
  },
  {
   "cell_type": "code",
   "execution_count": 8,
   "metadata": {},
   "outputs": [
    {
     "data": {
      "text/plain": [
       "'Banana'"
      ]
     },
     "execution_count": 8,
     "metadata": {},
     "output_type": "execute_result"
    }
   ],
   "source": [
    "my_array.item(1)"
   ]
  },
  {
   "cell_type": "markdown",
   "metadata": {},
   "source": [
    "### Rows from lists\n",
    "\n",
    "We need lists to be able to add a row to our table.  Why?"
   ]
  },
  {
   "cell_type": "markdown",
   "metadata": {},
   "source": [
    "Here we make a table with a column (we have been doing this all semester)."
   ]
  },
  {
   "cell_type": "code",
   "execution_count": 9,
   "metadata": {
    "tags": []
   },
   "outputs": [
    {
     "data": {
      "text/html": [
       "<table border=\"1\" class=\"dataframe\">\n",
       "    <thead>\n",
       "        <tr>\n",
       "            <th>Numbers</th>\n",
       "        </tr>\n",
       "    </thead>\n",
       "    <tbody>\n",
       "        <tr>\n",
       "            <td>1      </td>\n",
       "        </tr>\n",
       "        <tr>\n",
       "            <td>2      </td>\n",
       "        </tr>\n",
       "        <tr>\n",
       "            <td>3      </td>\n",
       "        </tr>\n",
       "    </tbody>\n",
       "</table>"
      ],
      "text/plain": [
       "Numbers\n",
       "1\n",
       "2\n",
       "3"
      ]
     },
     "execution_count": 9,
     "metadata": {},
     "output_type": "execute_result"
    }
   ],
   "source": [
    "Table().with_columns('Numbers', [1, 2, 3])\n",
    "# we are adding a new column, with a list\n",
    "# python converts the list to an array\n",
    "# and then adds that array as a new column\n",
    "# no error! yay!"
   ]
  },
  {
   "cell_type": "markdown",
   "metadata": {},
   "source": [
    "Here we make an empty table with just column labels. (This is new!)"
   ]
  },
  {
   "cell_type": "code",
   "execution_count": 10,
   "metadata": {
    "tags": []
   },
   "outputs": [
    {
     "data": {
      "text/html": [
       "<table border=\"1\" class=\"dataframe\">\n",
       "    <thead>\n",
       "        <tr>\n",
       "            <th>Drink</th> <th>Cafe</th> <th>Price</th>\n",
       "        </tr>\n",
       "    </thead>\n",
       "    <tbody>\n",
       "    </tbody>\n",
       "</table>"
      ],
      "text/plain": [
       "Drink | Cafe | Price"
      ]
     },
     "execution_count": 10,
     "metadata": {},
     "output_type": "execute_result"
    }
   ],
   "source": [
    "drinks = Table(['Drink', 'Cafe', 'Price'])\n",
    "drinks"
   ]
  },
  {
   "cell_type": "markdown",
   "metadata": {},
   "source": [
    "Here we add rows to our table.  Each row is a `List` of elements -- one for each column."
   ]
  },
  {
   "cell_type": "code",
   "execution_count": 11,
   "metadata": {
    "tags": []
   },
   "outputs": [
    {
     "data": {
      "text/html": [
       "<table border=\"1\" class=\"dataframe\">\n",
       "    <thead>\n",
       "        <tr>\n",
       "            <th>Drink</th> <th>Cafe</th> <th>Price</th>\n",
       "        </tr>\n",
       "    </thead>\n",
       "    <tbody>\n",
       "        <tr>\n",
       "            <td>Milk Tea</td> <td>Asha  </td> <td>5.5  </td>\n",
       "        </tr>\n",
       "        <tr>\n",
       "            <td>Espresso</td> <td>Strada</td> <td>1.75 </td>\n",
       "        </tr>\n",
       "        <tr>\n",
       "            <td>Latte   </td> <td>Strada</td> <td>3.25 </td>\n",
       "        </tr>\n",
       "        <tr>\n",
       "            <td>Espresso</td> <td>FSM   </td> <td>2    </td>\n",
       "        </tr>\n",
       "    </tbody>\n",
       "</table>"
      ],
      "text/plain": [
       "Drink    | Cafe   | Price\n",
       "Milk Tea | Asha   | 5.5\n",
       "Espresso | Strada | 1.75\n",
       "Latte    | Strada | 3.25\n",
       "Espresso | FSM    | 2"
      ]
     },
     "execution_count": 11,
     "metadata": {},
     "output_type": "execute_result"
    }
   ],
   "source": [
    "drinks = drinks.with_rows([\n",
    "    ['Milk Tea', 'Asha', 5.5],\n",
    "    ['Espresso', 'Strada',  1.75],\n",
    "    ['Latte',    'Strada',  3.25],\n",
    "    ['Espresso', \"FSM\",   2]\n",
    "])\n",
    "drinks"
   ]
  },
  {
   "cell_type": "markdown",
   "metadata": {},
   "source": [
    "---\n",
    "\n",
    "<center> Return to Slides </center>\n",
    "\n",
    "---"
   ]
  },
  {
   "cell_type": "markdown",
   "metadata": {},
   "source": [
    "## Grouping\n",
    "\n",
    "For this part of the notebook we will use the following toy data:"
   ]
  },
  {
   "cell_type": "code",
   "execution_count": 13,
   "metadata": {},
   "outputs": [
    {
     "data": {
      "text/html": [
       "<table border=\"1\" class=\"dataframe\">\n",
       "    <thead>\n",
       "        <tr>\n",
       "            <th>Drink</th> <th>count</th>\n",
       "        </tr>\n",
       "    </thead>\n",
       "    <tbody>\n",
       "        <tr>\n",
       "            <td>Espresso</td> <td>2    </td>\n",
       "        </tr>\n",
       "        <tr>\n",
       "            <td>Latte   </td> <td>1    </td>\n",
       "        </tr>\n",
       "        <tr>\n",
       "            <td>Milk Tea</td> <td>1    </td>\n",
       "        </tr>\n",
       "    </tbody>\n",
       "</table>"
      ],
      "text/plain": [
       "Drink    | count\n",
       "Espresso | 2\n",
       "Latte    | 1\n",
       "Milk Tea | 1"
      ]
     },
     "execution_count": 13,
     "metadata": {},
     "output_type": "execute_result"
    }
   ],
   "source": [
    "drinks.group('Drink')\n",
    "# grouped by the unique elements in the Drink column\n",
    "# 2 espressos\n",
    "# 1 latte\n",
    "# 1 milk tea"
   ]
  },
  {
   "cell_type": "code",
   "execution_count": 14,
   "metadata": {},
   "outputs": [
    {
     "data": {
      "text/html": [
       "<table border=\"1\" class=\"dataframe\">\n",
       "    <thead>\n",
       "        <tr>\n",
       "            <th>Cafe</th> <th>count</th>\n",
       "        </tr>\n",
       "    </thead>\n",
       "    <tbody>\n",
       "        <tr>\n",
       "            <td>Asha  </td> <td>1    </td>\n",
       "        </tr>\n",
       "        <tr>\n",
       "            <td>FSM   </td> <td>1    </td>\n",
       "        </tr>\n",
       "        <tr>\n",
       "            <td>Strada</td> <td>2    </td>\n",
       "        </tr>\n",
       "    </tbody>\n",
       "</table>"
      ],
      "text/plain": [
       "Cafe   | count\n",
       "Asha   | 1\n",
       "FSM    | 1\n",
       "Strada | 2"
      ]
     },
     "execution_count": 14,
     "metadata": {},
     "output_type": "execute_result"
    }
   ],
   "source": [
    "drinks.group('Cafe')\n",
    "# Strada has 2 drinks in this table\n",
    "# Asha and FSM each have 1"
   ]
  },
  {
   "cell_type": "code",
   "execution_count": 15,
   "metadata": {},
   "outputs": [
    {
     "data": {
      "text/html": [
       "<table border=\"1\" class=\"dataframe\">\n",
       "    <thead>\n",
       "        <tr>\n",
       "            <th>Price</th> <th>count</th>\n",
       "        </tr>\n",
       "    </thead>\n",
       "    <tbody>\n",
       "        <tr>\n",
       "            <td>1.75 </td> <td>1    </td>\n",
       "        </tr>\n",
       "        <tr>\n",
       "            <td>2    </td> <td>1    </td>\n",
       "        </tr>\n",
       "        <tr>\n",
       "            <td>3.25 </td> <td>1    </td>\n",
       "        </tr>\n",
       "        <tr>\n",
       "            <td>5.5  </td> <td>1    </td>\n",
       "        </tr>\n",
       "    </tbody>\n",
       "</table>"
      ],
      "text/plain": [
       "Price | count\n",
       "1.75  | 1\n",
       "2     | 1\n",
       "3.25  | 1\n",
       "5.5   | 1"
      ]
     },
     "execution_count": 15,
     "metadata": {},
     "output_type": "execute_result"
    }
   ],
   "source": [
    "drinks.group('Price')\n",
    "# 4 unique prices"
   ]
  },
  {
   "cell_type": "code",
   "execution_count": 16,
   "metadata": {},
   "outputs": [
    {
     "data": {
      "text/html": [
       "<table border=\"1\" class=\"dataframe\">\n",
       "    <thead>\n",
       "        <tr>\n",
       "            <th>Flavor</th> <th>Color</th> <th>Price</th> <th>Rating</th>\n",
       "        </tr>\n",
       "    </thead>\n",
       "    <tbody>\n",
       "        <tr>\n",
       "            <td>strawberry</td> <td>pink       </td> <td>3.55 </td> <td>1     </td>\n",
       "        </tr>\n",
       "        <tr>\n",
       "            <td>chocolate </td> <td>light brown</td> <td>4.75 </td> <td>4     </td>\n",
       "        </tr>\n",
       "        <tr>\n",
       "            <td>chocolate </td> <td>dark brown </td> <td>5.25 </td> <td>3     </td>\n",
       "        </tr>\n",
       "        <tr>\n",
       "            <td>strawberry</td> <td>pink       </td> <td>5.25 </td> <td>2     </td>\n",
       "        </tr>\n",
       "        <tr>\n",
       "            <td>chocolate </td> <td>dark brown </td> <td>5.25 </td> <td>5     </td>\n",
       "        </tr>\n",
       "        <tr>\n",
       "            <td>bubblegum </td> <td>pink       </td> <td>4.75 </td> <td>1     </td>\n",
       "        </tr>\n",
       "    </tbody>\n",
       "</table>"
      ],
      "text/plain": [
       "Flavor     | Color       | Price | Rating\n",
       "strawberry | pink        | 3.55  | 1\n",
       "chocolate  | light brown | 4.75  | 4\n",
       "chocolate  | dark brown  | 5.25  | 3\n",
       "strawberry | pink        | 5.25  | 2\n",
       "chocolate  | dark brown  | 5.25  | 5\n",
       "bubblegum  | pink        | 4.75  | 1"
      ]
     },
     "execution_count": 16,
     "metadata": {},
     "output_type": "execute_result"
    }
   ],
   "source": [
    "cones = Table.read_table('data/cones.csv')\n",
    "cones"
   ]
  },
  {
   "cell_type": "markdown",
   "metadata": {},
   "source": [
    "**Exercise:** Use the `group` function to determine the number of cones with each flavor."
   ]
  },
  {
   "cell_type": "code",
   "execution_count": 17,
   "metadata": {},
   "outputs": [
    {
     "data": {
      "text/html": [
       "<table border=\"1\" class=\"dataframe\">\n",
       "    <thead>\n",
       "        <tr>\n",
       "            <th>Flavor</th> <th>count</th>\n",
       "        </tr>\n",
       "    </thead>\n",
       "    <tbody>\n",
       "        <tr>\n",
       "            <td>bubblegum </td> <td>1    </td>\n",
       "        </tr>\n",
       "        <tr>\n",
       "            <td>chocolate </td> <td>3    </td>\n",
       "        </tr>\n",
       "        <tr>\n",
       "            <td>strawberry</td> <td>2    </td>\n",
       "        </tr>\n",
       "    </tbody>\n",
       "</table>"
      ],
      "text/plain": [
       "Flavor     | count\n",
       "bubblegum  | 1\n",
       "chocolate  | 3\n",
       "strawberry | 2"
      ]
     },
     "execution_count": 17,
     "metadata": {},
     "output_type": "execute_result"
    }
   ],
   "source": [
    "cones.group('Flavor')"
   ]
  },
  {
   "cell_type": "markdown",
   "metadata": {},
   "source": [
    "<details> <summary>Click for Solution</summary>\n",
    "\n",
    "```python\n",
    "cones.group('Flavor')\n",
    "```\n",
    "</details>"
   ]
  },
  {
   "cell_type": "markdown",
   "metadata": {},
   "source": [
    "**Exercise:** Use the `group` function to compute the average price of cones for each flavor."
   ]
  },
  {
   "cell_type": "code",
   "execution_count": 21,
   "metadata": {
    "scrolled": true
   },
   "outputs": [
    {
     "data": {
      "text/html": [
       "<table border=\"1\" class=\"dataframe\">\n",
       "    <thead>\n",
       "        <tr>\n",
       "            <th>Flavor</th> <th>Price average</th>\n",
       "        </tr>\n",
       "    </thead>\n",
       "    <tbody>\n",
       "        <tr>\n",
       "            <td>bubblegum </td> <td>4.75         </td>\n",
       "        </tr>\n",
       "        <tr>\n",
       "            <td>chocolate </td> <td>5.08333      </td>\n",
       "        </tr>\n",
       "        <tr>\n",
       "            <td>strawberry</td> <td>4.4          </td>\n",
       "        </tr>\n",
       "    </tbody>\n",
       "</table>"
      ],
      "text/plain": [
       "Flavor     | Price average\n",
       "bubblegum  | 4.75\n",
       "chocolate  | 5.08333\n",
       "strawberry | 4.4"
      ]
     },
     "execution_count": 21,
     "metadata": {},
     "output_type": "execute_result"
    }
   ],
   "source": [
    "cones.group('Flavor', np.average).select('Flavor', 'Price average')\n",
    "\n",
    "# we grouped by Flavor\n",
    "# then applied np.average to the rest of the table: Price and Rating columns\n",
    "# selected the columns we wanted\n",
    "# note the change in column labels: previously 'Price' and now 'Price average'"
   ]
  },
  {
   "cell_type": "code",
   "execution_count": 22,
   "metadata": {},
   "outputs": [
    {
     "data": {
      "text/html": [
       "<table border=\"1\" class=\"dataframe\">\n",
       "    <thead>\n",
       "        <tr>\n",
       "            <th>Flavor</th> <th>Color</th> <th>Price</th> <th>Rating</th>\n",
       "        </tr>\n",
       "    </thead>\n",
       "    <tbody>\n",
       "        <tr>\n",
       "            <td>strawberry</td> <td>pink       </td> <td>3.55 </td> <td>1     </td>\n",
       "        </tr>\n",
       "        <tr>\n",
       "            <td>chocolate </td> <td>light brown</td> <td>4.75 </td> <td>4     </td>\n",
       "        </tr>\n",
       "        <tr>\n",
       "            <td>chocolate </td> <td>dark brown </td> <td>5.25 </td> <td>3     </td>\n",
       "        </tr>\n",
       "        <tr>\n",
       "            <td>strawberry</td> <td>pink       </td> <td>5.25 </td> <td>2     </td>\n",
       "        </tr>\n",
       "        <tr>\n",
       "            <td>chocolate </td> <td>dark brown </td> <td>5.25 </td> <td>5     </td>\n",
       "        </tr>\n",
       "        <tr>\n",
       "            <td>bubblegum </td> <td>pink       </td> <td>4.75 </td> <td>1     </td>\n",
       "        </tr>\n",
       "    </tbody>\n",
       "</table>"
      ],
      "text/plain": [
       "Flavor     | Color       | Price | Rating\n",
       "strawberry | pink        | 3.55  | 1\n",
       "chocolate  | light brown | 4.75  | 4\n",
       "chocolate  | dark brown  | 5.25  | 3\n",
       "strawberry | pink        | 5.25  | 2\n",
       "chocolate  | dark brown  | 5.25  | 5\n",
       "bubblegum  | pink        | 4.75  | 1"
      ]
     },
     "execution_count": 22,
     "metadata": {},
     "output_type": "execute_result"
    }
   ],
   "source": [
    "cones"
   ]
  },
  {
   "cell_type": "code",
   "execution_count": 19,
   "metadata": {},
   "outputs": [
    {
     "data": {
      "text/plain": [
       "5.083333333333333"
      ]
     },
     "execution_count": 19,
     "metadata": {},
     "output_type": "execute_result"
    }
   ],
   "source": [
    "(4.75 + 5.25 + 5.25)/3 # chocolate"
   ]
  },
  {
   "cell_type": "code",
   "execution_count": 20,
   "metadata": {},
   "outputs": [
    {
     "data": {
      "text/plain": [
       "4.4"
      ]
     },
     "execution_count": 20,
     "metadata": {},
     "output_type": "execute_result"
    }
   ],
   "source": [
    "(5.25 + 3.55)/2 # strawberry"
   ]
  },
  {
   "cell_type": "markdown",
   "metadata": {},
   "source": [
    "<details> <summary>Click for Solution</summary> \n",
    "\n",
    "```python\n",
    "cones.group('Flavor', np.average)\n",
    " ```\n",
    "</details>"
   ]
  },
  {
   "cell_type": "markdown",
   "metadata": {},
   "source": [
    "**Exercise:** Use the `group` function to compute min price of cones for each flavor."
   ]
  },
  {
   "cell_type": "code",
   "execution_count": 36,
   "metadata": {},
   "outputs": [
    {
     "data": {
      "text/html": [
       "<table border=\"1\" class=\"dataframe\">\n",
       "    <thead>\n",
       "        <tr>\n",
       "            <th>Flavor</th> <th>Color min</th> <th>Price min</th> <th>Rating min</th>\n",
       "        </tr>\n",
       "    </thead>\n",
       "    <tbody>\n",
       "        <tr>\n",
       "            <td>bubblegum </td> <td>pink      </td> <td>4.75     </td> <td>1         </td>\n",
       "        </tr>\n",
       "        <tr>\n",
       "            <td>chocolate </td> <td>dark brown</td> <td>4.75     </td> <td>3         </td>\n",
       "        </tr>\n",
       "        <tr>\n",
       "            <td>strawberry</td> <td>pink      </td> <td>3.55     </td> <td>1         </td>\n",
       "        </tr>\n",
       "    </tbody>\n",
       "</table>"
      ],
      "text/plain": [
       "Flavor     | Color min  | Price min | Rating min\n",
       "bubblegum  | pink       | 4.75      | 1\n",
       "chocolate  | dark brown | 4.75      | 3\n",
       "strawberry | pink       | 3.55      | 1"
      ]
     },
     "execution_count": 36,
     "metadata": {},
     "output_type": "execute_result"
    }
   ],
   "source": [
    "cones.group('Flavor', min)#.select('Flavor', 'Price min')"
   ]
  },
  {
   "cell_type": "markdown",
   "metadata": {},
   "source": [
    "**Question**:\n",
    "Why does color have a min?"
   ]
  },
  {
   "cell_type": "code",
   "execution_count": 24,
   "metadata": {},
   "outputs": [
    {
     "data": {
      "text/plain": [
       "True"
      ]
     },
     "execution_count": 24,
     "metadata": {},
     "output_type": "execute_result"
    }
   ],
   "source": [
    "'dark brown' < 'light brown'"
   ]
  },
  {
   "cell_type": "code",
   "execution_count": 28,
   "metadata": {},
   "outputs": [
    {
     "data": {
      "text/plain": [
       "True"
      ]
     },
     "execution_count": 28,
     "metadata": {},
     "output_type": "execute_result"
    }
   ],
   "source": [
    "'d' < 'l'"
   ]
  },
  {
   "cell_type": "code",
   "execution_count": 25,
   "metadata": {},
   "outputs": [
    {
     "data": {
      "text/plain": [
       "False"
      ]
     },
     "execution_count": 25,
     "metadata": {},
     "output_type": "execute_result"
    }
   ],
   "source": [
    "'pink' < 'light pink'"
   ]
  },
  {
   "cell_type": "code",
   "execution_count": 29,
   "metadata": {},
   "outputs": [
    {
     "data": {
      "text/plain": [
       "False"
      ]
     },
     "execution_count": 29,
     "metadata": {},
     "output_type": "execute_result"
    }
   ],
   "source": [
    "'p' < 'l'"
   ]
  },
  {
   "cell_type": "code",
   "execution_count": 26,
   "metadata": {},
   "outputs": [
    {
     "data": {
      "text/plain": [
       "True"
      ]
     },
     "execution_count": 26,
     "metadata": {},
     "output_type": "execute_result"
    }
   ],
   "source": [
    "1 < 2"
   ]
  },
  {
   "cell_type": "code",
   "execution_count": 27,
   "metadata": {},
   "outputs": [
    {
     "data": {
      "text/plain": [
       "True"
      ]
     },
     "execution_count": 27,
     "metadata": {},
     "output_type": "execute_result"
    }
   ],
   "source": [
    "# lexicographical ordering\n",
    "'a' < 'b'"
   ]
  },
  {
   "cell_type": "code",
   "execution_count": 31,
   "metadata": {},
   "outputs": [
    {
     "data": {
      "text/plain": [
       "True"
      ]
     },
     "execution_count": 31,
     "metadata": {},
     "output_type": "execute_result"
    }
   ],
   "source": [
    " 'A' < 'a'"
   ]
  },
  {
   "cell_type": "code",
   "execution_count": 33,
   "metadata": {},
   "outputs": [
    {
     "data": {
      "text/html": [
       "<table border=\"1\" class=\"dataframe\">\n",
       "    <thead>\n",
       "        <tr>\n",
       "            <th>Flavor</th> <th>Color list</th> <th>Price list</th> <th>Rating list</th>\n",
       "        </tr>\n",
       "    </thead>\n",
       "    <tbody>\n",
       "        <tr>\n",
       "            <td>bubblegum </td> <td>['pink']                                   </td> <td>[4.75]                    </td> <td>[1]        </td>\n",
       "        </tr>\n",
       "        <tr>\n",
       "            <td>chocolate </td> <td>['light brown', 'dark brown', 'dark brown']</td> <td>[4.75, 5.25, 5.25]        </td> <td>[4, 3, 5]  </td>\n",
       "        </tr>\n",
       "        <tr>\n",
       "            <td>strawberry</td> <td>['pink', 'pink']                           </td> <td>[3.5499999999999998, 5.25]</td> <td>[1, 2]     </td>\n",
       "        </tr>\n",
       "    </tbody>\n",
       "</table>"
      ],
      "text/plain": [
       "Flavor     | Color list                                  | Price list                 | Rating list\n",
       "bubblegum  | ['pink']                                    | [4.75]                     | [1]\n",
       "chocolate  | ['light brown', 'dark brown', 'dark brown'] | [4.75, 5.25, 5.25]         | [4, 3, 5]\n",
       "strawberry | ['pink', 'pink']                            | [3.5499999999999998, 5.25] | [1, 2]"
      ]
     },
     "execution_count": 33,
     "metadata": {},
     "output_type": "execute_result"
    }
   ],
   "source": [
    "# use list\n",
    "cones.group('Flavor', list)"
   ]
  },
  {
   "cell_type": "code",
   "execution_count": 34,
   "metadata": {},
   "outputs": [
    {
     "data": {
      "text/html": [
       "<table border=\"1\" class=\"dataframe\">\n",
       "    <thead>\n",
       "        <tr>\n",
       "            <th>Flavor</th> <th>Color len</th> <th>Price len</th> <th>Rating len</th>\n",
       "        </tr>\n",
       "    </thead>\n",
       "    <tbody>\n",
       "        <tr>\n",
       "            <td>bubblegum </td> <td>1        </td> <td>1        </td> <td>1         </td>\n",
       "        </tr>\n",
       "        <tr>\n",
       "            <td>chocolate </td> <td>3        </td> <td>3        </td> <td>3         </td>\n",
       "        </tr>\n",
       "        <tr>\n",
       "            <td>strawberry</td> <td>2        </td> <td>2        </td> <td>2         </td>\n",
       "        </tr>\n",
       "    </tbody>\n",
       "</table>"
      ],
      "text/plain": [
       "Flavor     | Color len | Price len | Rating len\n",
       "bubblegum  | 1         | 1         | 1\n",
       "chocolate  | 3         | 3         | 3\n",
       "strawberry | 2         | 2         | 2"
      ]
     },
     "execution_count": 34,
     "metadata": {},
     "output_type": "execute_result"
    }
   ],
   "source": [
    "# use len\n",
    "cones.group('Flavor', len)\n",
    "# len or length counts the number of unique colors, prices, and ratings in their respective columns\n",
    "# or, it counts the length of the list (that we calculated above)"
   ]
  },
  {
   "cell_type": "code",
   "execution_count": 35,
   "metadata": {},
   "outputs": [
    {
     "data": {
      "text/html": [
       "<table border=\"1\" class=\"dataframe\">\n",
       "    <thead>\n",
       "        <tr>\n",
       "            <th>Flavor</th> <th>count</th>\n",
       "        </tr>\n",
       "    </thead>\n",
       "    <tbody>\n",
       "        <tr>\n",
       "            <td>bubblegum </td> <td>1    </td>\n",
       "        </tr>\n",
       "        <tr>\n",
       "            <td>chocolate </td> <td>3    </td>\n",
       "        </tr>\n",
       "        <tr>\n",
       "            <td>strawberry</td> <td>2    </td>\n",
       "        </tr>\n",
       "    </tbody>\n",
       "</table>"
      ],
      "text/plain": [
       "Flavor     | count\n",
       "bubblegum  | 1\n",
       "chocolate  | 3\n",
       "strawberry | 2"
      ]
     },
     "execution_count": 35,
     "metadata": {},
     "output_type": "execute_result"
    }
   ],
   "source": [
    "cones.group('Flavor') # count column, counts the number of unique flavors"
   ]
  },
  {
   "cell_type": "markdown",
   "metadata": {},
   "source": [
    "<details> <summary>Click for Solution</summary>\n",
    "\n",
    "```python\n",
    "cones.group('Flavor', np.min)\n",
    "```"
   ]
  },
  {
   "cell_type": "markdown",
   "metadata": {},
   "source": [
    "---\n",
    "\n",
    "<center> Return to Slides </center>\n",
    "\n",
    "---"
   ]
  },
  {
   "cell_type": "markdown",
   "metadata": {},
   "source": [
    "## Review Grouping Using the Welcome Survey\n",
    "\n",
    "Now let's use the group function to study you:"
   ]
  },
  {
   "cell_type": "code",
   "execution_count": 60,
   "metadata": {
    "tags": []
   },
   "outputs": [
    {
     "data": {
      "text/html": [
       "<table border=\"1\" class=\"dataframe\">\n",
       "    <thead>\n",
       "        <tr>\n",
       "            <th>Timestamp</th> <th>What year are you in?</th> <th>How would you rate yourself on a scale of 10 from 1 (introvert) to 10 (extrovert)</th> <th>How many texts (on average) do you send per day?</th> <th>Are you left-handed, right-handed or both?</th> <th>What position do you sleep in?</th> <th>How many hours of sleep do you get?</th> <th>How many siblings do you have?</th> <th>What pets do you have? If more than one, separate with commas.</th> <th>Make up a very random 4-digit number</th> <th>Do you have tattoo(s)?</th> <th>How do you get to work or school?</th>\n",
       "        </tr>\n",
       "    </thead>\n",
       "    <tbody>\n",
       "        <tr>\n",
       "            <td>4/23/2024 9:31:24</td> <td>First                </td> <td>1                                                                                </td> <td>12                                              </td> <td>Both                                      </td> <td>Stomach                       </td> <td>4                                  </td> <td>0                             </td> <td>0                                                             </td> <td>1122                                </td> <td>No                    </td> <td>Car                              </td>\n",
       "        </tr>\n",
       "        <tr>\n",
       "            <td>4/23/2024 9:31:52</td> <td>First                </td> <td>2                                                                                </td> <td>200                                             </td> <td>Right                                     </td> <td>Right side                    </td> <td>7                                  </td> <td>1                             </td> <td>0                                                             </td> <td>1417                                </td> <td>No                    </td> <td>Bus                              </td>\n",
       "        </tr>\n",
       "        <tr>\n",
       "            <td>4/23/2024 9:32:06</td> <td>Second               </td> <td>5                                                                                </td> <td>30                                              </td> <td>Right                                     </td> <td>Left side                     </td> <td>6                                  </td> <td>4                             </td> <td>0                                                             </td> <td>1234                                </td> <td>No                    </td> <td>walk                             </td>\n",
       "        </tr>\n",
       "    </tbody>\n",
       "</table>\n",
       "<p>... (76 rows omitted)</p>"
      ],
      "text/plain": [
       "<IPython.core.display.HTML object>"
      ]
     },
     "metadata": {},
     "output_type": "display_data"
    }
   ],
   "source": [
    "survey = Table.read_table(\"data/classdatasurvey_s24.csv\") # removed extra \".csv\"\n",
    "survey.show(3)"
   ]
  },
  {
   "cell_type": "markdown",
   "metadata": {},
   "source": [
    "**Exercise:** What happens if we group by `\"Year\"` with no additional arguments?"
   ]
  },
  {
   "cell_type": "code",
   "execution_count": 40,
   "metadata": {
    "tags": []
   },
   "outputs": [
    {
     "data": {
      "text/html": [
       "<table border=\"1\" class=\"dataframe\">\n",
       "    <thead>\n",
       "        <tr>\n",
       "            <th>What year are you in?</th> <th>count</th>\n",
       "        </tr>\n",
       "    </thead>\n",
       "    <tbody>\n",
       "        <tr>\n",
       "            <td>First                </td> <td>39   </td>\n",
       "        </tr>\n",
       "        <tr>\n",
       "            <td>Fourth               </td> <td>9    </td>\n",
       "        </tr>\n",
       "        <tr>\n",
       "            <td>Fourth+              </td> <td>2    </td>\n",
       "        </tr>\n",
       "        <tr>\n",
       "            <td>Second               </td> <td>17   </td>\n",
       "        </tr>\n",
       "        <tr>\n",
       "            <td>Third                </td> <td>12   </td>\n",
       "        </tr>\n",
       "    </tbody>\n",
       "</table>"
      ],
      "text/plain": [
       "What year are you in? | count\n",
       "First                 | 39\n",
       "Fourth                | 9\n",
       "Fourth+               | 2\n",
       "Second                | 17\n",
       "Third                 | 12"
      ]
     },
     "execution_count": 40,
     "metadata": {},
     "output_type": "execute_result"
    }
   ],
   "source": [
    "survey.group(\"What year are you in?\").sort('What year are you in?')"
   ]
  },
  {
   "cell_type": "markdown",
   "metadata": {},
   "source": [
    "What is the relationship between year and the average amount of sleep?\n",
    "\n",
    "**Exercise:** Computer the average `\"Hours of sleep\"` for each `\"Year\"` and display the result as bar chart with the bars in a meaningful order."
   ]
  },
  {
   "cell_type": "code",
   "execution_count": 43,
   "metadata": {},
   "outputs": [
    {
     "data": {
      "text/html": [
       "<table border=\"1\" class=\"dataframe\">\n",
       "    <thead>\n",
       "        <tr>\n",
       "            <th>What year are you in?</th> <th>How many hours of sleep do you get? average</th>\n",
       "        </tr>\n",
       "    </thead>\n",
       "    <tbody>\n",
       "        <tr>\n",
       "            <td>First                </td> <td>7.10256                                    </td>\n",
       "        </tr>\n",
       "        <tr>\n",
       "            <td>Fourth               </td> <td>6.66667                                    </td>\n",
       "        </tr>\n",
       "        <tr>\n",
       "            <td>Fourth+              </td> <td>8                                          </td>\n",
       "        </tr>\n",
       "        <tr>\n",
       "            <td>Second               </td> <td>6.85294                                    </td>\n",
       "        </tr>\n",
       "        <tr>\n",
       "            <td>Third                </td> <td>7.08333                                    </td>\n",
       "        </tr>\n",
       "    </tbody>\n",
       "</table>"
      ],
      "text/plain": [
       "What year are you in? | How many hours of sleep do you get? average\n",
       "First                 | 7.10256\n",
       "Fourth                | 6.66667\n",
       "Fourth+               | 8\n",
       "Second                | 6.85294\n",
       "Third                 | 7.08333"
      ]
     },
     "execution_count": 43,
     "metadata": {},
     "output_type": "execute_result"
    }
   ],
   "source": [
    "# first way\n",
    "survey.group(\"What year are you in?\", np.average).select('What year are you in?', 'How many hours of sleep do you get? average')\n",
    "# second way\n",
    "survey.select('What year are you in?', 'How many hours of sleep do you get?').group('What year are you in?', np.average)"
   ]
  },
  {
   "cell_type": "markdown",
   "metadata": {},
   "source": [
    "**Excercise**: Use the function below to convert the values in the 'year' column to strings that sort meaninfully. (use apply)"
   ]
  },
  {
   "cell_type": "code",
   "execution_count": 61,
   "metadata": {
    "tags": []
   },
   "outputs": [],
   "source": [
    "def convert_year_string(y):\n",
    "    if y == 'First':\n",
    "        return 'Freshman'\n",
    "    elif y == 'Second':\n",
    "        return 'Sophomore'\n",
    "    elif y == 'Third':\n",
    "        return 'Junior'\n",
    "    elif y == 'Fourth' or y == 'Fourth+':\n",
    "        return 'Senior'\n",
    "    else: \n",
    "        return"
   ]
  },
  {
   "cell_type": "code",
   "execution_count": 62,
   "metadata": {},
   "outputs": [],
   "source": [
    "Year = survey.apply(convert_year_string, 'What year are you in?')\n",
    "survey = survey.with_column('What year are you in?', Year)\n"
   ]
  },
  {
   "cell_type": "code",
   "execution_count": 63,
   "metadata": {},
   "outputs": [
    {
     "data": {
      "text/html": [
       "<table border=\"1\" class=\"dataframe\">\n",
       "    <thead>\n",
       "        <tr>\n",
       "            <th>Timestamp</th> <th>Year</th> <th>How would you rate yourself on a scale of 10 from 1 (introvert) to 10 (extrovert)</th> <th>How many texts (on average) do you send per day?</th> <th>Are you left-handed, right-handed or both?</th> <th>What position do you sleep in?</th> <th>How many hours of sleep do you get?</th> <th>How many siblings do you have?</th> <th>What pets do you have? If more than one, separate with commas.</th> <th>Make up a very random 4-digit number</th> <th>Do you have tattoo(s)?</th> <th>How do you get to work or school?</th>\n",
       "        </tr>\n",
       "    </thead>\n",
       "    <tbody>\n",
       "        <tr>\n",
       "            <td>4/23/2024 9:31:24</td> <td>Freshman </td> <td>1                                                                                </td> <td>12                                              </td> <td>Both                                      </td> <td>Stomach                       </td> <td>4                                  </td> <td>0                             </td> <td>0                                                             </td> <td>1122                                </td> <td>No                    </td> <td>Car                              </td>\n",
       "        </tr>\n",
       "        <tr>\n",
       "            <td>4/23/2024 9:31:52</td> <td>Freshman </td> <td>2                                                                                </td> <td>200                                             </td> <td>Right                                     </td> <td>Right side                    </td> <td>7                                  </td> <td>1                             </td> <td>0                                                             </td> <td>1417                                </td> <td>No                    </td> <td>Bus                              </td>\n",
       "        </tr>\n",
       "        <tr>\n",
       "            <td>4/23/2024 9:32:06</td> <td>Sophomore</td> <td>5                                                                                </td> <td>30                                              </td> <td>Right                                     </td> <td>Left side                     </td> <td>6                                  </td> <td>4                             </td> <td>0                                                             </td> <td>1234                                </td> <td>No                    </td> <td>walk                             </td>\n",
       "        </tr>\n",
       "        <tr>\n",
       "            <td>4/23/2024 9:33:01</td> <td>Sophomore</td> <td>5                                                                                </td> <td>30                                              </td> <td>Right                                     </td> <td>Left side                     </td> <td>6                                  </td> <td>4                             </td> <td>0                                                             </td> <td>1234                                </td> <td>No                    </td> <td>walk                             </td>\n",
       "        </tr>\n",
       "        <tr>\n",
       "            <td>4/23/2024 9:33:02</td> <td>Freshman </td> <td>7                                                                                </td> <td>15                                              </td> <td>Right                                     </td> <td>Left side                     </td> <td>9                                  </td> <td>2                             </td> <td>nan                                                           </td> <td>1475                                </td> <td>No                    </td> <td>Skateboard                       </td>\n",
       "        </tr>\n",
       "        <tr>\n",
       "            <td>4/23/2024 9:37:21</td> <td>Sophomore</td> <td>3                                                                                </td> <td>15                                              </td> <td>Right                                     </td> <td>Right side                    </td> <td>7                                  </td> <td>2                             </td> <td>cats, dogs, fish                                              </td> <td>8457                                </td> <td>No                    </td> <td>Car                              </td>\n",
       "        </tr>\n",
       "        <tr>\n",
       "            <td>4/23/2024 9:38:27</td> <td>Freshman </td> <td>7                                                                                </td> <td>100                                             </td> <td>Right                                     </td> <td>Right side                    </td> <td>8                                  </td> <td>7                             </td> <td>4 black cats                                                  </td> <td>6969                                </td> <td>Yes                   </td> <td>walk                             </td>\n",
       "        </tr>\n",
       "        <tr>\n",
       "            <td>4/23/2024 9:38:53</td> <td>Freshman </td> <td>1                                                                                </td> <td>16                                              </td> <td>Right                                     </td> <td>Stomach                       </td> <td>9                                  </td> <td>1                             </td> <td>1                                                             </td> <td>3246                                </td> <td>No                    </td> <td>walk                             </td>\n",
       "        </tr>\n",
       "        <tr>\n",
       "            <td>4/23/2024 9:39:14</td> <td>Freshman </td> <td>7                                                                                </td> <td>100                                             </td> <td>Right                                     </td> <td>Right side                    </td> <td>8                                  </td> <td>7                             </td> <td>4 black cats                                                  </td> <td>6902                                </td> <td>Yes                   </td> <td>walk                             </td>\n",
       "        </tr>\n",
       "        <tr>\n",
       "            <td>4/23/2024 9:39:48</td> <td>Freshman </td> <td>5                                                                                </td> <td>100                                             </td> <td>Right                                     </td> <td>Right side                    </td> <td>8                                  </td> <td>2                             </td> <td>2 cats                                                        </td> <td>3497                                </td> <td>No                    </td> <td>Bike                             </td>\n",
       "        </tr>\n",
       "    </tbody>\n",
       "</table>\n",
       "<p>... (69 rows omitted)</p>"
      ],
      "text/plain": [
       "Timestamp         | Year      | How would you rate yourself on a scale of 10 from 1 (introvert) to 10 (extrovert) | How many texts (on average) do you send per day? | Are you left-handed, right-handed or both? | What position do you sleep in? | How many hours of sleep do you get? | How many siblings do you have? | What pets do you have? If more than one, separate with commas. | Make up a very random 4-digit number | Do you have tattoo(s)? | How do you get to work or school?\n",
       "4/23/2024 9:31:24 | Freshman  | 1                                                                                 | 12                                               | Both                                       | Stomach                        | 4                                   | 0                              | 0                                                              | 1122                                 | No                     | Car\n",
       "4/23/2024 9:31:52 | Freshman  | 2                                                                                 | 200                                              | Right                                      | Right side                     | 7                                   | 1                              | 0                                                              | 1417                                 | No                     | Bus\n",
       "4/23/2024 9:32:06 | Sophomore | 5                                                                                 | 30                                               | Right                                      | Left side                      | 6                                   | 4                              | 0                                                              | 1234                                 | No                     | walk\n",
       "4/23/2024 9:33:01 | Sophomore | 5                                                                                 | 30                                               | Right                                      | Left side                      | 6                                   | 4                              | 0                                                              | 1234                                 | No                     | walk\n",
       "4/23/2024 9:33:02 | Freshman  | 7                                                                                 | 15                                               | Right                                      | Left side                      | 9                                   | 2                              | nan                                                            | 1475                                 | No                     | Skateboard\n",
       "4/23/2024 9:37:21 | Sophomore | 3                                                                                 | 15                                               | Right                                      | Right side                     | 7                                   | 2                              | cats, dogs, fish                                               | 8457                                 | No                     | Car\n",
       "4/23/2024 9:38:27 | Freshman  | 7                                                                                 | 100                                              | Right                                      | Right side                     | 8                                   | 7                              | 4 black cats                                                   | 6969                                 | Yes                    | walk\n",
       "4/23/2024 9:38:53 | Freshman  | 1                                                                                 | 16                                               | Right                                      | Stomach                        | 9                                   | 1                              | 1                                                              | 3246                                 | No                     | walk\n",
       "4/23/2024 9:39:14 | Freshman  | 7                                                                                 | 100                                              | Right                                      | Right side                     | 8                                   | 7                              | 4 black cats                                                   | 6902                                 | Yes                    | walk\n",
       "4/23/2024 9:39:48 | Freshman  | 5                                                                                 | 100                                              | Right                                      | Right side                     | 8                                   | 2                              | 2 cats                                                         | 3497                                 | No                     | Bike\n",
       "... (69 rows omitted)"
      ]
     },
     "execution_count": 63,
     "metadata": {},
     "output_type": "execute_result"
    }
   ],
   "source": [
    "#if your \"what year are you in?\" column has None\n",
    "#re run the csv file cell\n",
    "# and rerun the apply function cell above\n",
    "survey = survey.relabeled('What year are you in?', 'Year')#.relabeled\n",
    "survey"
   ]
  },
  {
   "cell_type": "markdown",
   "metadata": {},
   "source": [
    "<details><summary>Click for Solution</summary>\n",
    "    \n",
    "```python\n",
    "survey['year_'] = survey.apply(convert_year_string, 'Year')\n",
    "survey.select('year_', 'Hours of sleep').group('year_', np.average).barh('year_')\n",
    "plots.xlim([6,7.5])\n",
    "```\n",
    "    \n",
    "</details>"
   ]
  },
  {
   "cell_type": "markdown",
   "metadata": {},
   "source": [
    "### Understanding Extraversion\n",
    "\n",
    "How extraverted is the class?"
   ]
  },
  {
   "cell_type": "code",
   "execution_count": 64,
   "metadata": {
    "tags": []
   },
   "outputs": [
    {
     "data": {
      "image/png": "[encoded data removed]",
      "text/plain": [
       "<Figure size 600x400 with 1 Axes>"
      ]
     },
     "metadata": {},
     "output_type": "display_data"
    }
   ],
   "source": [
    "survey.hist('How would you rate yourself on a scale of 10 from 1 (introvert) to 10 (extrovert)')"
   ]
  },
  {
   "cell_type": "markdown",
   "metadata": {},
   "source": [
    "**Exercise:** Compute the *average* `\"Number of textees\"`, `\"Hours of sleep\"`, `\"Piercings\"` for each value of `\"Extraversion\"`.  Save the resulting table as `by_extra`."
   ]
  },
  {
   "cell_type": "code",
   "execution_count": null,
   "metadata": {},
   "outputs": [],
   "source": [
    "by_extra = "
   ]
  },
  {
   "cell_type": "markdown",
   "metadata": {},
   "source": [
    "<details><summary>Click for Solution</summary>\n",
    "    \n",
    "```python\n",
    "by_extra = (\n",
    "    survey\n",
    "    .select(\"Extraversion\", \"Number of textees\", \"Hours of sleep\", \"Piercings\")\n",
    "    .group('Extraversion', np.mean)\n",
    ")\n",
    "by_extra\n",
    "```\n",
    "    \n",
    "</details>"
   ]
  },
  {
   "cell_type": "markdown",
   "metadata": {},
   "source": [
    "Do you see any trends?  Let's plot the data to make it clearer."
   ]
  },
  {
   "cell_type": "code",
   "execution_count": null,
   "metadata": {},
   "outputs": [],
   "source": [
    "by_extra.plot(\"Extraversion\", \"Number of textees mean\", marker=\"*\")"
   ]
  },
  {
   "cell_type": "code",
   "execution_count": null,
   "metadata": {},
   "outputs": [],
   "source": [
    "by_extra.plot(\"Extraversion\", \"Hours of sleep mean\", marker=\"*\")"
   ]
  },
  {
   "cell_type": "markdown",
   "metadata": {},
   "source": [
    "---\n",
    "\n",
    "<center> Return to Slides </center>\n",
    "\n",
    "---"
   ]
  },
  {
   "cell_type": "markdown",
   "metadata": {},
   "source": [
    "## Grouping by Two Columns "
   ]
  },
  {
   "cell_type": "markdown",
   "metadata": {},
   "source": [
    "Do right-handed people tend to sleep on their left side and left-handed people sleep on their right side? \n",
    "\n",
    "**Exercise:** Use the group function to count how many people are in each combination of `\"Handedness\"` and `\"Sleep position\"`."
   ]
  },
  {
   "cell_type": "code",
   "execution_count": null,
   "metadata": {
    "tags": []
   },
   "outputs": [],
   "source": []
  },
  {
   "cell_type": "markdown",
   "metadata": {},
   "source": [
    "<details><summary>Click for Solution</summary> \n",
    "    \n",
    "```python\n",
    "(\n",
    "    survey\n",
    "    .group(column_or_label=[\"Handedness\", \"Sleep position\"])\n",
    "    .show()\n",
    ")\n",
    "```\n",
    "</details>"
   ]
  },
  {
   "cell_type": "markdown",
   "metadata": {},
   "source": [
    "What combination of `\"Handedness\"` and `\"Sleep position\"` results in the most sleep on average?\n",
    "\n",
    "**Exercise:** Use group to answer the above question."
   ]
  },
  {
   "cell_type": "code",
   "execution_count": null,
   "metadata": {},
   "outputs": [],
   "source": []
  },
  {
   "cell_type": "markdown",
   "metadata": {},
   "source": [
    "<details><summary>Click for Solution</summary>\n",
    "    \n",
    "```python\n",
    "(\n",
    "    survey\n",
    "    .select(\"Handedness\", \"Sleep position\", \"Hours of sleep\")\n",
    "    .group(['Handedness', 'Sleep position'], np.average)\n",
    "    .show()\n",
    ")\n",
    "```\n",
    "    \n",
    "</details>"
   ]
  },
  {
   "cell_type": "markdown",
   "metadata": {
    "tags": []
   },
   "source": [
    "## Pivot Tables\n",
    "\n",
    "When grouping by two columns it will sometimes be easier to re-arrange the table so the columns correspond to the *values* of one of the original grouped columns. \n",
    "\n",
    "Here is an example where I construct a pivot table that is equivalent to the above two column groupby operation:\n",
    "\n",
    "```python\n",
    "(\n",
    "    survey\n",
    "    .select(\"Handedness\", \"Sleep position\", \"Hours of sleep\")\n",
    "    .group([\"Handedness\", \"Sleep position\"], np.average)\n",
    "    .show()\n",
    ")\n",
    "```"
   ]
  },
  {
   "cell_type": "code",
   "execution_count": null,
   "metadata": {},
   "outputs": [],
   "source": []
  },
  {
   "cell_type": "markdown",
   "metadata": {},
   "source": [
    "Here I am rewriting the example by explicity naming the function arguments.  You wouldn't do this in practice but it helps to highlight the meaning of the four things we passed to the function above."
   ]
  },
  {
   "cell_type": "code",
   "execution_count": null,
   "metadata": {},
   "outputs": [],
   "source": [
    "(\n",
    "    survey\n",
    "    .pivot(\n",
    "        columns = \"Handedness\", # The column whose unique values become columns\n",
    "        rows    = \"Sleep position\", # The column whose unique values become rows\n",
    "        values  = \"Hours of sleep\", # The column that will be used to compute the cells\n",
    "        collect = np.average # How to aggregate the values \n",
    "    )\n",
    ")"
   ]
  },
  {
   "cell_type": "markdown",
   "metadata": {},
   "source": [
    "Just as with the regular `group` function you will often want counts of combinations. In this case, you only need to specify the column to turn into columns and the column to turn into rows."
   ]
  },
  {
   "cell_type": "code",
   "execution_count": null,
   "metadata": {},
   "outputs": [],
   "source": [
    "survey.pivot(\"Sleep position\", \"Handedness\")"
   ]
  },
  {
   "cell_type": "markdown",
   "metadata": {},
   "source": [
    "Pivots can be useful for visualizations:"
   ]
  },
  {
   "cell_type": "code",
   "execution_count": null,
   "metadata": {},
   "outputs": [],
   "source": [
    "survey.pivot(\"Sleep position\", \"Handedness\").barh(\"Handedness\")"
   ]
  },
  {
   "cell_type": "markdown",
   "metadata": {},
   "source": [
    "---\n",
    "\n",
    "<center> Return to Slides </center>\n",
    "\n",
    "---"
   ]
  },
  {
   "cell_type": "markdown",
   "metadata": {},
   "source": [
    "## Joins\n",
    "\n",
    "We use join to **join** two tables on a column."
   ]
  },
  {
   "cell_type": "code",
   "execution_count": null,
   "metadata": {
    "tags": []
   },
   "outputs": [],
   "source": [
    "drinks"
   ]
  },
  {
   "cell_type": "code",
   "execution_count": null,
   "metadata": {
    "tags": []
   },
   "outputs": [],
   "source": [
    "discounts = Table().with_columns(\n",
    "    'Coupon % off', make_array(10, 25, 5),\n",
    "    'Location', make_array('Asha', 'Strada', 'Asha')\n",
    ")\n",
    "discounts"
   ]
  },
  {
   "cell_type": "markdown",
   "metadata": {},
   "source": [
    "**Exercise:** Combine the `drinks` and `discounts` table into a new table which has all possible discounts for each drink."
   ]
  },
  {
   "cell_type": "code",
   "execution_count": null,
   "metadata": {
    "scrolled": true
   },
   "outputs": [],
   "source": [
    "combined = "
   ]
  },
  {
   "cell_type": "markdown",
   "metadata": {},
   "source": [
    "<details><summary>Click for Solution</summary>\n",
    "    \n",
    "```python\n",
    "combined = drinks.join(column_label='Cafe', other=discounts, other_label='Location')\n",
    "combined\n",
    "```\n",
    "    \n",
    "</details>"
   ]
  },
  {
   "cell_type": "markdown",
   "metadata": {},
   "source": [
    "**Exercise:** Calculate the lowest rate you can get for each drink using the available coupons."
   ]
  },
  {
   "cell_type": "code",
   "execution_count": null,
   "metadata": {},
   "outputs": [],
   "source": []
  },
  {
   "cell_type": "markdown",
   "metadata": {},
   "source": [
    "<details><summary>Click for Solution</summary>\n",
    "    \n",
    "```python\n",
    "combined = drinks.join('Cafe', discounts, 'Location') # from previous question\n",
    "\n",
    "discount_frac = 1-combined.column(\"Coupon % off\")/100.0\n",
    "\n",
    "(\n",
    "    combined\n",
    "    .with_column(\"Discounted Price\", combined.column(\"Price\") * discount_frac)\n",
    "    .select(\"Drink\", \"Discounted Price\")\n",
    "    .group(\"Drink\", min)\n",
    ")\n",
    "\n",
    "```\n",
    "</details>"
   ]
  },
  {
   "cell_type": "markdown",
   "metadata": {},
   "source": [
    "**Exercise:** What happens if I run the following? How many rows will it produce."
   ]
  },
  {
   "cell_type": "code",
   "execution_count": null,
   "metadata": {
    "tags": []
   },
   "outputs": [],
   "source": []
  },
  {
   "cell_type": "markdown",
   "metadata": {},
   "source": [
    "---\n",
    "\n",
    "<center> Return to Slides </center>\n",
    "\n",
    "---"
   ]
  },
  {
   "cell_type": "markdown",
   "metadata": {},
   "source": [
    "## Discussion Questions \n",
    "\n",
    "For the following practice questions we will use the sky scraper dataset"
   ]
  },
  {
   "cell_type": "code",
   "execution_count": null,
   "metadata": {
    "tags": []
   },
   "outputs": [],
   "source": [
    "# From the CORGIS Dataset Project\n",
    "# By Austin Cory Bart acbart@vt.edu\n",
    "# Version 2.0.0, created 3/22/2016\n",
    "# https://corgis-edu.github.io/corgis/csv/skyscrapers/\n",
    "\n",
    "this_year = 2023\n",
    "sky = Table.read_table(\"data/skyscrapers_v2.csv\")\n",
    "sky = (\n",
    "    sky\n",
    "    .with_column(\"age\", this_year - sky.column(\"completed\"))\n",
    "    .drop(\"completed\")\n",
    ")\n",
    "sky"
   ]
  },
  {
   "cell_type": "markdown",
   "metadata": {},
   "source": [
    "**Exercise:**  For each city, what’s the tallest building for each material?"
   ]
  },
  {
   "cell_type": "code",
   "execution_count": null,
   "metadata": {},
   "outputs": [],
   "source": [
    "tall_pivot = "
   ]
  },
  {
   "cell_type": "markdown",
   "metadata": {},
   "source": [
    "<details><summary>Click for Solution</summary>\n",
    "    \n",
    "```python\n",
    "tall_pivot = sky.pivot(\"material\", \"city\", \"height\", max)\n",
    "tall_pivot\n",
    "```\n",
    "</details>"
   ]
  },
  {
   "cell_type": "code",
   "execution_count": null,
   "metadata": {},
   "outputs": [],
   "source": [
    "tall_pivot.barh(\"city\")"
   ]
  },
  {
   "cell_type": "markdown",
   "metadata": {},
   "source": [
    "**Exercise:** For each city that has at least 50 buildings in the dataset, compute the average height of buildings broken down by material.  Make a bar chart with the cities and the average height of buildings for each material."
   ]
  },
  {
   "cell_type": "code",
   "execution_count": null,
   "metadata": {},
   "outputs": [],
   "source": []
  },
  {
   "cell_type": "markdown",
   "metadata": {},
   "source": [
    "<details><summary>Click for Solution</summary>\n",
    "    \n",
    "```python\n",
    "num_buildings = sky.group(\"city\")\n",
    "(\n",
    "    sky\n",
    "    .join(\"city\", num_buildings)\n",
    "    .where(\"count\", are.above_or_equal_to(50))\n",
    "    .pivot(\"material\", \"city\", \"height\", np.mean)\n",
    "    .barh(\"city\")\n",
    ")\n",
    "```\n",
    "</details>"
   ]
  },
  {
   "cell_type": "markdown",
   "metadata": {},
   "source": [
    "**Exercise:** Generate a table of the names and ages of the oldest buildings for each combination of city and materials."
   ]
  },
  {
   "cell_type": "code",
   "execution_count": null,
   "metadata": {},
   "outputs": [],
   "source": []
  },
  {
   "cell_type": "markdown",
   "metadata": {},
   "source": [
    "<details><summary>Click for Solution</summary>\n",
    "    \n",
    "```python\n",
    "def first(x):\n",
    "    return x[0]\n",
    "    \n",
    "    \n",
    "(\n",
    "    sky\n",
    "    .sort(\"age\", descending=True) \n",
    "    .select(\"city\", \"material\", \"name\", \"age\")\n",
    "    .group([\"city\", \"material\"], first)\n",
    "    #.where(\"city\", \"San Francisco\") #<- for fun\n",
    ")\n",
    "```\n",
    "    \n",
    "</details>"
   ]
  },
  {
   "cell_type": "code",
   "execution_count": null,
   "metadata": {},
   "outputs": [],
   "source": []
  }
 ],
 "metadata": {
  "kernelspec": {
   "display_name": "Python 3 (ipykernel)",
   "language": "python",
   "name": "python3"
  },
  "language_info": {
   "codemirror_mode": {
    "name": "ipython",
    "version": 3
   },
   "file_extension": ".py",
   "mimetype": "text/x-python",
   "name": "python",
   "nbconvert_exporter": "python",
   "pygments_lexer": "ipython3",
   "version": "3.11.5"
  }
 },
 "nbformat": 4,
 "nbformat_minor": 4
}
