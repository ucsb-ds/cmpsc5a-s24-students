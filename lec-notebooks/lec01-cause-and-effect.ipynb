{
 "cells": [
  {
   "cell_type": "code",
   "execution_count": 1,
   "id": "d6eba674-c4eb-4adc-a242-3e0f557f20bd",
   "metadata": {
    "tags": []
   },
   "outputs": [],
   "source": [
    "from datascience import *\n",
    "import numpy as np\n",
    "\n",
    "%matplotlib inline\n",
    "import matplotlib.pyplot as plots\n",
    "plots.style.use('fivethirtyeight')"
   ]
  },
  {
   "cell_type": "markdown",
   "id": "68566a37-fe56-4d1c-beda-b00a7114132d",
   "metadata": {},
   "source": [
    "# Markdown\n",
    "- Create bullet list\n",
    "- Create a numbered list\n",
    "- Create a table\n",
    "\n",
    "|column 1 | column2|\n",
    "|--|--|\n",
    "| a| b|"
   ]
  },
  {
   "cell_type": "code",
   "execution_count": null,
   "id": "d1e45896-3619-458c-8934-106f91a55cc8",
   "metadata": {},
   "outputs": [],
   "source": []
  },
  {
   "cell_type": "code",
   "execution_count": null,
   "id": "b93754b0-d3d3-4cf4-b7eb-635cc1474aa0",
   "metadata": {},
   "outputs": [],
   "source": []
  },
  {
   "cell_type": "markdown",
   "id": "b0126bb6-5eb8-4c9e-8213-99cf13905570",
   "metadata": {},
   "source": [
    "# Python\n",
    "\n",
    "let's do some basic math operation: add, divide, multiply, raise"
   ]
  },
  {
   "cell_type": "code",
   "execution_count": null,
   "id": "d1f1abf0-6720-4dd9-9b6d-983e6e25172d",
   "metadata": {},
   "outputs": [],
   "source": []
  },
  {
   "cell_type": "code",
   "execution_count": null,
   "id": "ac25b56d-abe0-49d0-9492-4ecc55770e45",
   "metadata": {},
   "outputs": [],
   "source": []
  },
  {
   "cell_type": "markdown",
   "id": "1df6584d-33c5-4fbd-9514-3bb45a8d1d32",
   "metadata": {},
   "source": [
    "# Names/Variables\n",
    "- let's assign some values variables/names\n",
    "- let's use the variables\n",
    "- let's overwrite variables"
   ]
  },
  {
   "cell_type": "code",
   "execution_count": null,
   "id": "e8f13286-f982-45ef-a711-d4971ee81783",
   "metadata": {},
   "outputs": [],
   "source": []
  },
  {
   "cell_type": "code",
   "execution_count": null,
   "id": "31c23f52-4cfc-4d26-8f1f-2d04bbd40e3f",
   "metadata": {},
   "outputs": [],
   "source": []
  },
  {
   "cell_type": "markdown",
   "id": "e88ea74c-7af5-42fd-b90c-a11dc373773e",
   "metadata": {},
   "source": [
    "## Why names?\n",
    "- Calculate the annual salary for a person working full-time under California minimum wage of 15 USD/hour. \n",
    "- on 2023-01-01, the minimum wage was raised to 15.50 USD/hour. Recalculate the minimum wage."
   ]
  },
  {
   "cell_type": "code",
   "execution_count": null,
   "id": "2af61ac8-22ab-4433-90d5-448a23223932",
   "metadata": {},
   "outputs": [],
   "source": []
  },
  {
   "cell_type": "code",
   "execution_count": null,
   "id": "c2f6e1cf-6e25-40c1-84fd-ccd6c7d2e3a9",
   "metadata": {},
   "outputs": [],
   "source": []
  },
  {
   "cell_type": "markdown",
   "id": "2c9e3aa7-2d5b-44ee-b795-6a6b86832b2d",
   "metadata": {
    "tags": []
   },
   "source": [
    "## Strings\n",
    "lets create some strings"
   ]
  },
  {
   "cell_type": "code",
   "execution_count": null,
   "id": "c26403af-103c-4b62-9f65-b44556c8aa22",
   "metadata": {},
   "outputs": [],
   "source": []
  },
  {
   "cell_type": "code",
   "execution_count": null,
   "id": "48350871-cb69-43b6-a5a9-1ffc4f1dc493",
   "metadata": {},
   "outputs": [],
   "source": []
  },
  {
   "cell_type": "markdown",
   "id": "a1bbc7ec-ca1e-4077-b59b-4f1d75474a9c",
   "metadata": {},
   "source": [
    "# Functions\n",
    "- let's use some built-in functions. E.g:\n",
    "    - absolute value\n",
    "    - round\n",
    "    - the lower of two values\n",
    "- lets use the `help()` function to learn about the usage of functions\n",
    "- let's define our own function"
   ]
  },
  {
   "cell_type": "code",
   "execution_count": null,
   "id": "795144d4-3e8b-4edf-a7f2-3e0db2f030eb",
   "metadata": {},
   "outputs": [],
   "source": []
  },
  {
   "cell_type": "code",
   "execution_count": null,
   "id": "f3e52656-3c52-45c3-9d48-e7572b731d1d",
   "metadata": {},
   "outputs": [],
   "source": []
  },
  {
   "cell_type": "markdown",
   "id": "39c883d7-9dea-4a29-bf85-90f925f2e57c",
   "metadata": {
    "tags": []
   },
   "source": [
    "# Collections/Lists\n",
    "Lets define collections of values"
   ]
  },
  {
   "cell_type": "code",
   "execution_count": null,
   "id": "dfd6c130-db4e-4769-92ee-f43305073b4e",
   "metadata": {},
   "outputs": [],
   "source": []
  },
  {
   "cell_type": "code",
   "execution_count": null,
   "id": "6df0fb72-b022-49e5-9abe-3154624f1414",
   "metadata": {},
   "outputs": [],
   "source": []
  },
  {
   "cell_type": "markdown",
   "id": "c059d6a6-f73a-4c5a-b8e8-27438423c4b4",
   "metadata": {
    "tags": []
   },
   "source": [
    "# Tables\n",
    "usage: \n",
    "```python\n",
    "Table().with_columns([column1_name, column1_values,\n",
    "                      column2_name, column2_values,\n",
    "                      ...])\n",
    "```                      "
   ]
  },
  {
   "cell_type": "code",
   "execution_count": null,
   "id": "b9f2d7e9-a997-4412-8aa1-1f42c2774433",
   "metadata": {},
   "outputs": [],
   "source": []
  },
  {
   "cell_type": "code",
   "execution_count": null,
   "id": "974bbf6f-133c-4243-9958-98a28be186e6",
   "metadata": {},
   "outputs": [],
   "source": []
  }
 ],
 "metadata": {
  "kernelspec": {
   "display_name": "Python 3 (ipykernel)",
   "language": "python",
   "name": "python3"
  },
  "language_info": {
   "codemirror_mode": {
    "name": "ipython",
    "version": 3
   },
   "file_extension": ".py",
   "mimetype": "text/x-python",
   "name": "python",
   "nbconvert_exporter": "python",
   "pygments_lexer": "ipython3",
   "version": "3.11.5"
  }
 },
 "nbformat": 4,
 "nbformat_minor": 5
}
