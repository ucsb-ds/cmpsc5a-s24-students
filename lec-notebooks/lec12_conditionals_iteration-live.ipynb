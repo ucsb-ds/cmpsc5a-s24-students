{
 "cells": [
  {
   "cell_type": "code",
   "execution_count": 1,
   "metadata": {
    "tags": []
   },
   "outputs": [],
   "source": [
    "from datascience import *\n",
    "import numpy as np\n",
    "%matplotlib inline\n",
    "import matplotlib.pyplot as plots\n",
    "plots.style.use('fivethirtyeight')"
   ]
  },
  {
   "cell_type": "markdown",
   "metadata": {},
   "source": [
    "# Lecture 12\n",
    "\n",
    "In this lecture we introduce more complex boolean expressions, conditionals, and for loops."
   ]
  },
  {
   "cell_type": "markdown",
   "metadata": {},
   "source": [
    "---\n",
    "\n",
    "## Boolean expressions\n",
    "\n",
    "We have already seen basic boolean expressions before"
   ]
  },
  {
   "cell_type": "code",
   "execution_count": 2,
   "metadata": {
    "tags": []
   },
   "outputs": [
    {
     "data": {
      "text/plain": [
       "True"
      ]
     },
     "execution_count": 2,
     "metadata": {},
     "output_type": "execute_result"
    }
   ],
   "source": [
    "3 > 1"
   ]
  },
  {
   "cell_type": "code",
   "execution_count": 3,
   "metadata": {
    "tags": []
   },
   "outputs": [
    {
     "data": {
      "text/plain": [
       "bool"
      ]
     },
     "execution_count": 3,
     "metadata": {},
     "output_type": "execute_result"
    }
   ],
   "source": [
    "type(3 > 1) # boolean expression\n",
    "# True and False are boolean expressions"
   ]
  },
  {
   "cell_type": "code",
   "execution_count": 4,
   "metadata": {
    "tags": []
   },
   "outputs": [
    {
     "data": {
      "text/plain": [
       "bool"
      ]
     },
     "execution_count": 4,
     "metadata": {},
     "output_type": "execute_result"
    }
   ],
   "source": [
    "type(True)\n"
   ]
  },
  {
   "cell_type": "markdown",
   "metadata": {
    "tags": [
     "raises-exception"
    ]
   },
   "source": [
    "Recall that single `=` is **assignment**.  Thus the following is an error:\n",
    "\n",
    "```python\n",
    "3 = 3.0\n",
    "```"
   ]
  },
  {
   "cell_type": "markdown",
   "metadata": {},
   "source": [
    "Equality:"
   ]
  },
  {
   "cell_type": "code",
   "execution_count": 5,
   "metadata": {
    "tags": []
   },
   "outputs": [
    {
     "data": {
      "text/plain": [
       "True"
      ]
     },
     "execution_count": 5,
     "metadata": {},
     "output_type": "execute_result"
    }
   ],
   "source": [
    "3 == 3.0"
   ]
  },
  {
   "cell_type": "markdown",
   "metadata": {},
   "source": [
    "Inequality: "
   ]
  },
  {
   "cell_type": "code",
   "execution_count": 6,
   "metadata": {
    "tags": []
   },
   "outputs": [
    {
     "data": {
      "text/plain": [
       "True"
      ]
     },
     "execution_count": 6,
     "metadata": {},
     "output_type": "execute_result"
    }
   ],
   "source": [
    "10 != 2"
   ]
  },
  {
   "cell_type": "markdown",
   "metadata": {},
   "source": [
    "Using variables in boolean expressions:"
   ]
  },
  {
   "cell_type": "code",
   "execution_count": 7,
   "metadata": {
    "tags": []
   },
   "outputs": [],
   "source": [
    "x = 14\n",
    "y = 3"
   ]
  },
  {
   "cell_type": "code",
   "execution_count": 8,
   "metadata": {
    "tags": []
   },
   "outputs": [
    {
     "data": {
      "text/plain": [
       "False"
      ]
     },
     "execution_count": 8,
     "metadata": {},
     "output_type": "execute_result"
    }
   ],
   "source": [
    "x > 15"
   ]
  },
  {
   "cell_type": "code",
   "execution_count": 9,
   "metadata": {
    "tags": []
   },
   "outputs": [
    {
     "data": {
      "text/plain": [
       "True"
      ]
     },
     "execution_count": 9,
     "metadata": {},
     "output_type": "execute_result"
    }
   ],
   "source": [
    "12 < x"
   ]
  },
  {
   "cell_type": "code",
   "execution_count": 10,
   "metadata": {
    "tags": []
   },
   "outputs": [
    {
     "data": {
      "text/plain": [
       "True"
      ]
     },
     "execution_count": 10,
     "metadata": {},
     "output_type": "execute_result"
    }
   ],
   "source": [
    "x < 20"
   ]
  },
  {
   "cell_type": "markdown",
   "metadata": {},
   "source": [
    "Compound boolean expressions:"
   ]
  },
  {
   "cell_type": "code",
   "execution_count": 11,
   "metadata": {},
   "outputs": [
    {
     "data": {
      "text/plain": [
       "True"
      ]
     },
     "execution_count": 11,
     "metadata": {},
     "output_type": "execute_result"
    }
   ],
   "source": [
    "12 < x < 20"
   ]
  },
  {
   "cell_type": "markdown",
   "metadata": {},
   "source": [
    "(The comparison `12 < x < 20` is equivalent to `12 < x and x < 20`.)"
   ]
  },
  {
   "cell_type": "code",
   "execution_count": 12,
   "metadata": {},
   "outputs": [
    {
     "data": {
      "text/plain": [
       "True"
      ]
     },
     "execution_count": 12,
     "metadata": {},
     "output_type": "execute_result"
    }
   ],
   "source": [
    "12 < x and x < 20 # same as 12 < x < 20\n",
    "# Python evaluates the above line of code to:\n",
    "# True and True\n",
    "# returns True \n",
    "# for an \"and\" statement to return True, both expressions need to be true, for the entire statement to be True"
   ]
  },
  {
   "cell_type": "code",
   "execution_count": 13,
   "metadata": {},
   "outputs": [
    {
     "data": {
      "text/plain": [
       "True"
      ]
     },
     "execution_count": 13,
     "metadata": {},
     "output_type": "execute_result"
    }
   ],
   "source": [
    "True and True"
   ]
  },
  {
   "cell_type": "code",
   "execution_count": 18,
   "metadata": {},
   "outputs": [
    {
     "data": {
      "text/plain": [
       "False"
      ]
     },
     "execution_count": 18,
     "metadata": {},
     "output_type": "execute_result"
    }
   ],
   "source": [
    "False and True"
   ]
  },
  {
   "cell_type": "code",
   "execution_count": 19,
   "metadata": {},
   "outputs": [
    {
     "data": {
      "text/plain": [
       "False"
      ]
     },
     "execution_count": 19,
     "metadata": {},
     "output_type": "execute_result"
    }
   ],
   "source": [
    "True and False"
   ]
  },
  {
   "cell_type": "code",
   "execution_count": 20,
   "metadata": {},
   "outputs": [
    {
     "data": {
      "text/plain": [
       "False"
      ]
     },
     "execution_count": 20,
     "metadata": {},
     "output_type": "execute_result"
    }
   ],
   "source": [
    "False and False"
   ]
  },
  {
   "cell_type": "code",
   "execution_count": null,
   "metadata": {},
   "outputs": [],
   "source": [
    "# for an \"or\" statement, only one expression needs to be true, for the entire statement to be True"
   ]
  },
  {
   "cell_type": "markdown",
   "metadata": {},
   "source": [
    "Note: `or` is non-exclusive"
   ]
  },
  {
   "cell_type": "code",
   "execution_count": 21,
   "metadata": {},
   "outputs": [
    {
     "data": {
      "text/plain": [
       "14"
      ]
     },
     "execution_count": 21,
     "metadata": {},
     "output_type": "execute_result"
    }
   ],
   "source": [
    "x"
   ]
  },
  {
   "cell_type": "code",
   "execution_count": 22,
   "metadata": {},
   "outputs": [
    {
     "data": {
      "text/plain": [
       "True"
      ]
     },
     "execution_count": 22,
     "metadata": {},
     "output_type": "execute_result"
    }
   ],
   "source": [
    "12 < x or x > 20\n",
    "# True or False"
   ]
  },
  {
   "cell_type": "code",
   "execution_count": 23,
   "metadata": {},
   "outputs": [
    {
     "data": {
      "text/plain": [
       "True"
      ]
     },
     "execution_count": 23,
     "metadata": {},
     "output_type": "execute_result"
    }
   ],
   "source": [
    "12 < x or x < 12\n",
    "# True or False"
   ]
  },
  {
   "cell_type": "code",
   "execution_count": 14,
   "metadata": {
    "tags": []
   },
   "outputs": [
    {
     "data": {
      "text/plain": [
       "True"
      ]
     },
     "execution_count": 14,
     "metadata": {},
     "output_type": "execute_result"
    }
   ],
   "source": [
    "False or True"
   ]
  },
  {
   "cell_type": "code",
   "execution_count": 15,
   "metadata": {
    "tags": []
   },
   "outputs": [
    {
     "data": {
      "text/plain": [
       "True"
      ]
     },
     "execution_count": 15,
     "metadata": {},
     "output_type": "execute_result"
    }
   ],
   "source": [
    "True or True"
   ]
  },
  {
   "cell_type": "code",
   "execution_count": 16,
   "metadata": {},
   "outputs": [
    {
     "data": {
      "text/plain": [
       "True"
      ]
     },
     "execution_count": 16,
     "metadata": {},
     "output_type": "execute_result"
    }
   ],
   "source": [
    "True or False"
   ]
  },
  {
   "cell_type": "code",
   "execution_count": 17,
   "metadata": {},
   "outputs": [
    {
     "data": {
      "text/plain": [
       "False"
      ]
     },
     "execution_count": 17,
     "metadata": {},
     "output_type": "execute_result"
    }
   ],
   "source": [
    "False or False"
   ]
  },
  {
   "cell_type": "markdown",
   "metadata": {},
   "source": [
    "---\n",
    "<center> return to slides </center>\n",
    "\n",
    "---"
   ]
  },
  {
   "cell_type": "markdown",
   "metadata": {},
   "source": [
    "## Boolean Expressions with Arrays\n",
    "\n",
    "Just as arrays can be used in mathematical expressions we can also apply boolean operations to arrays.  They are applied element-wise."
   ]
  },
  {
   "cell_type": "code",
   "execution_count": 24,
   "metadata": {},
   "outputs": [
    {
     "data": {
      "text/plain": [
       "array(['cat', 'cat', 'dog', 'cat', 'dog', 'rabbit'],\n",
       "      dtype='<U6')"
      ]
     },
     "execution_count": 24,
     "metadata": {},
     "output_type": "execute_result"
    }
   ],
   "source": [
    "pets = make_array('cat', 'cat', 'dog', 'cat', 'dog', 'rabbit')\n",
    "pets"
   ]
  },
  {
   "cell_type": "code",
   "execution_count": 25,
   "metadata": {},
   "outputs": [
    {
     "data": {
      "text/plain": [
       "array([ True,  True, False,  True, False, False], dtype=bool)"
      ]
     },
     "execution_count": 25,
     "metadata": {},
     "output_type": "execute_result"
    }
   ],
   "source": [
    "pets == 'cat'\n"
   ]
  },
  {
   "cell_type": "markdown",
   "metadata": {},
   "source": [
    "How many cats?"
   ]
  },
  {
   "cell_type": "code",
   "execution_count": 26,
   "metadata": {},
   "outputs": [
    {
     "data": {
      "text/plain": [
       "3"
      ]
     },
     "execution_count": 26,
     "metadata": {},
     "output_type": "execute_result"
    }
   ],
   "source": [
    "sum(pets == 'cat')\n",
    "# first python checks for equality inside the parenthesis\n",
    "# sum(array([ True,  True, False,  True, False, False])\n",
    "# then we convert our array of boolean values to ints\n",
    "# sum(array([1,       1,   0,         1, 0,       0])\n",
    "# 3"
   ]
  },
  {
   "cell_type": "markdown",
   "metadata": {},
   "source": [
    "Math with booleans\n",
    "- What is the average number of cats?\n",
    "- Let's create an array `is_cat` holding `True` values for cats and `False` for not cats\n",
    "- Let's create an array where we put `1` for cat and `-1` for not cat"
   ]
  },
  {
   "cell_type": "code",
   "execution_count": 27,
   "metadata": {},
   "outputs": [
    {
     "data": {
      "text/plain": [
       "0.5"
      ]
     },
     "execution_count": 27,
     "metadata": {},
     "output_type": "execute_result"
    }
   ],
   "source": [
    "# avg num of cats\n",
    "np.average(pets == 'cat')"
   ]
  },
  {
   "cell_type": "code",
   "execution_count": 29,
   "metadata": {},
   "outputs": [
    {
     "data": {
      "text/plain": [
       "array([ True,  True, False,  True, False, False], dtype=bool)"
      ]
     },
     "execution_count": 29,
     "metadata": {},
     "output_type": "execute_result"
    }
   ],
   "source": [
    "is_cat = (pets == 'cat')\n",
    "is_cat"
   ]
  },
  {
   "cell_type": "code",
   "execution_count": 35,
   "metadata": {},
   "outputs": [
    {
     "data": {
      "text/plain": [
       "array(['cat', 'cat', 'dog', 'cat', 'dog', 'rabbit'],\n",
       "      dtype='<U6')"
      ]
     },
     "execution_count": 35,
     "metadata": {},
     "output_type": "execute_result"
    }
   ],
   "source": [
    "pets"
   ]
  },
  {
   "cell_type": "code",
   "execution_count": 34,
   "metadata": {},
   "outputs": [
    {
     "data": {
      "text/plain": [
       "3"
      ]
     },
     "execution_count": 34,
     "metadata": {},
     "output_type": "execute_result"
    }
   ],
   "source": [
    "# how many non-cats do we have?\n",
    "len(is_cat) - sum(is_cat)\n",
    "# 6 pets    -   3 cats    \n",
    "# 3 non-cats (dogs and rabbits)"
   ]
  },
  {
   "cell_type": "code",
   "execution_count": 31,
   "metadata": {},
   "outputs": [
    {
     "data": {
      "text/plain": [
       "array([ 1,  1, -1,  1, -1, -1])"
      ]
     },
     "execution_count": 31,
     "metadata": {},
     "output_type": "execute_result"
    }
   ],
   "source": [
    "(is_cat * 2) - 1\n",
    "# converts to ints and then does multiplication\n",
    "# converts array([ True,  True, False,  True, False, False], dtype=bool)\n",
    "# to\n",
    "#          array([[1,       1,   0,         1, 0,       0])\n"
   ]
  },
  {
   "cell_type": "code",
   "execution_count": 32,
   "metadata": {},
   "outputs": [
    {
     "data": {
      "text/plain": [
       "0.5"
      ]
     },
     "execution_count": 32,
     "metadata": {},
     "output_type": "execute_result"
    }
   ],
   "source": [
    "np.mean(is_cat)"
   ]
  },
  {
   "cell_type": "markdown",
   "metadata": {},
   "source": [
    "---\n",
    "\n",
    "<center> return to slides </center>\n",
    "\n",
    "---"
   ]
  },
  {
   "cell_type": "markdown",
   "metadata": {},
   "source": [
    "## Rows & Apply\n",
    "\n",
    "Just as we can access individual columns in a table we can also access individual rows. \n",
    "- pull out the first row of the table and assign it to a variable `r` (using the `.row()` method)\n",
    "- check the type of `r`\n",
    "- get a value of the row (using the `item()` method). Get e.g. the 'Year' (1st element) and the 'Extraversion' (2nd element)"
   ]
  },
  {
   "cell_type": "code",
   "execution_count": 39,
   "metadata": {
    "tags": []
   },
   "outputs": [
    {
     "data": {
      "text/html": [
       "<table border=\"1\" class=\"dataframe\">\n",
       "    <thead>\n",
       "        <tr>\n",
       "            <th>Timestamp</th> <th>Year</th> <th>Extroversion</th> <th>Texts</th> <th>Handedness</th> <th>Sleep Position</th> <th>Hours of Sleep</th> <th>Siblings</th> <th>Pets</th> <th>Random Number</th> <th>Tattoos</th> <th>Commute</th>\n",
       "        </tr>\n",
       "    </thead>\n",
       "    <tbody>\n",
       "        <tr>\n",
       "            <td>4/23/2024 9:31:24</td> <td>First </td> <td>1           </td> <td>12   </td> <td>Both      </td> <td>Stomach       </td> <td>4             </td> <td>0       </td> <td>0   </td> <td>1122         </td> <td>No     </td> <td>Car    </td>\n",
       "        </tr>\n",
       "        <tr>\n",
       "            <td>4/23/2024 9:31:52</td> <td>First </td> <td>2           </td> <td>200  </td> <td>Right     </td> <td>Right side    </td> <td>7             </td> <td>1       </td> <td>0   </td> <td>1417         </td> <td>No     </td> <td>Bus    </td>\n",
       "        </tr>\n",
       "        <tr>\n",
       "            <td>4/23/2024 9:32:06</td> <td>Second</td> <td>5           </td> <td>30   </td> <td>Right     </td> <td>Left side     </td> <td>6             </td> <td>4       </td> <td>0   </td> <td>1234         </td> <td>No     </td> <td>walk   </td>\n",
       "        </tr>\n",
       "    </tbody>\n",
       "</table>\n",
       "<p>... (77 rows omitted)</p>"
      ],
      "text/plain": [
       "<IPython.core.display.HTML object>"
      ]
     },
     "metadata": {},
     "output_type": "display_data"
    }
   ],
   "source": [
    "survey = Table.read_table('data/classdatasurvey_s24_relabeled.csv') \n",
    "# instead of welcome_survey_sp23.csv\n",
    "# USE classdatasurvey_s24_relabeled.csv <<<<----<<<----\n",
    "survey.show(3)"
   ]
  },
  {
   "cell_type": "code",
   "execution_count": 43,
   "metadata": {},
   "outputs": [
    {
     "data": {
      "text/plain": [
       "Row(Timestamp='4/23/2024 9:31:24', Year='First', Extroversion=1, Texts=12.0, Handedness='Both', Sleep Position='Stomach', Hours of Sleep=4.0, Siblings=0, Pets='0', Random Number=1122, Tattoos='No', Commute='Car')"
      ]
     },
     "execution_count": 43,
     "metadata": {},
     "output_type": "execute_result"
    }
   ],
   "source": [
    "r = survey.row(0)\n",
    "r\n",
    "# tables.Row data type"
   ]
  },
  {
   "cell_type": "code",
   "execution_count": 44,
   "metadata": {},
   "outputs": [
    {
     "data": {
      "text/plain": [
       "datascience.tables.Row"
      ]
     },
     "execution_count": 44,
     "metadata": {},
     "output_type": "execute_result"
    }
   ],
   "source": [
    "type(r)"
   ]
  },
  {
   "cell_type": "code",
   "execution_count": 45,
   "metadata": {},
   "outputs": [
    {
     "data": {
      "text/plain": [
       "'First'"
      ]
     },
     "execution_count": 45,
     "metadata": {},
     "output_type": "execute_result"
    }
   ],
   "source": [
    "r.item(1)\n",
    "#or\n",
    "r.item('Year')"
   ]
  },
  {
   "cell_type": "code",
   "execution_count": 47,
   "metadata": {},
   "outputs": [
    {
     "data": {
      "text/plain": [
       "1"
      ]
     },
     "execution_count": 47,
     "metadata": {},
     "output_type": "execute_result"
    }
   ],
   "source": [
    "r.item(2)\n",
    "#or\n",
    "r.item('Extroversion')"
   ]
  },
  {
   "cell_type": "markdown",
   "metadata": {},
   "source": [
    "Getting a field from a row"
   ]
  },
  {
   "cell_type": "code",
   "execution_count": null,
   "metadata": {},
   "outputs": [],
   "source": []
  },
  {
   "cell_type": "markdown",
   "metadata": {},
   "source": [
    "### Math On Rows"
   ]
  },
  {
   "cell_type": "markdown",
   "metadata": {},
   "source": [
    "Suppose we get a row that contains only numbers:"
   ]
  },
  {
   "cell_type": "code",
   "execution_count": 48,
   "metadata": {},
   "outputs": [
    {
     "data": {
      "text/plain": [
       "Row(Extroversion=5, Texts=30.0, Hours of Sleep=6.0)"
      ]
     },
     "execution_count": 48,
     "metadata": {},
     "output_type": "execute_result"
    }
   ],
   "source": [
    "# replace Extraversion with Extroversion\n",
    "# replace Number of textees with Texts\n",
    "# replace Hours of sleep with Hours of Sleep\n",
    "r2 = survey.select(\"Extroversion\", \"Texts\", \"Hours of Sleep\").row(2) # student in position 2, or the third row\n",
    "\n",
    "r2 # represents the third student in the survey table"
   ]
  },
  {
   "cell_type": "markdown",
   "metadata": {},
   "source": [
    "We can apply aggregation functions to that row. Try e.g. `sum()`"
   ]
  },
  {
   "cell_type": "code",
   "execution_count": 49,
   "metadata": {},
   "outputs": [
    {
     "data": {
      "text/plain": [
       "41.0"
      ]
     },
     "execution_count": 49,
     "metadata": {},
     "output_type": "execute_result"
    }
   ],
   "source": [
    "sum(r2)\n",
    "# this sum doesn't mean much because we although we are adding three numbers together\n",
    "# 5 + 30.0 + 6.0\n",
    "# the value is meaningless because we are adding\n",
    "# extroversion rating, # of texts, hours of sleep"
   ]
  },
  {
   "cell_type": "markdown",
   "metadata": {},
   "source": [
    "What if the row does NOT contain only numbers?"
   ]
  },
  {
   "cell_type": "code",
   "execution_count": 50,
   "metadata": {
    "tags": []
   },
   "outputs": [
    {
     "data": {
      "text/plain": [
       "Row(Year='Second', Extroversion=5, Texts=30.0, Hours of Sleep=6.0)"
      ]
     },
     "execution_count": 50,
     "metadata": {},
     "output_type": "execute_result"
    }
   ],
   "source": [
    "# replace Extraversion with Extroversion\n",
    "# replace Number of textees with Texts\n",
    "# replace Hours of sleep with Hours of Sleep\n",
    "r3 = survey.select(\"Year\", \"Extroversion\", \"Texts\", \"Hours of Sleep\").row(2)\n",
    "r3"
   ]
  },
  {
   "cell_type": "code",
   "execution_count": 51,
   "metadata": {},
   "outputs": [
    {
     "ename": "TypeError",
     "evalue": "unsupported operand type(s) for +: 'int' and 'numpy.str_'",
     "output_type": "error",
     "traceback": [
      "\u001b[0;31m---------------------------------------------------------------------------\u001b[0m",
      "\u001b[0;31mTypeError\u001b[0m                                 Traceback (most recent call last)",
      "Cell \u001b[0;32mIn[51], line 1\u001b[0m\n\u001b[0;32m----> 1\u001b[0m \u001b[38;5;28;43msum\u001b[39;49m\u001b[43m(\u001b[49m\u001b[43mr3\u001b[49m\u001b[43m)\u001b[49m\n",
      "\u001b[0;31mTypeError\u001b[0m: unsupported operand type(s) for +: 'int' and 'numpy.str_'"
     ]
    }
   ],
   "source": [
    "sum(r3)\n",
    "# we get an error since we are trying to add a string to an int or float\n",
    "# we are trying to do the following\n",
    "# 'Second' + 5 + 30.0 + 6.0"
   ]
  },
  {
   "cell_type": "markdown",
   "metadata": {},
   "source": [
    "Recall that if we wanted to **apply** a function to all the rows of a table we use `apply`"
   ]
  },
  {
   "cell_type": "code",
   "execution_count": 53,
   "metadata": {
    "tags": []
   },
   "outputs": [
    {
     "data": {
      "text/plain": [
       "80"
      ]
     },
     "execution_count": 53,
     "metadata": {},
     "output_type": "execute_result"
    }
   ],
   "source": [
    "# replace Extraversion with Extroversion\n",
    "# replace Number of textees with Texts\n",
    "# replace Hours of sleep with Hours of Sleep\n",
    "len(\n",
    "    survey\n",
    "    .select(\"Extroversion\", \"Texts\", \"Hours of Sleep\")\n",
    "    .apply(sum)\n",
    ")\n",
    "# we selected three columns in our survey table\n",
    "# applied the function sum to the table\n",
    "# similar to what we did above, where we grabbed one student and summed up their values for Extroversion + Texts + Hours of Sleep\n",
    "# we did the same operation for all students in our survey table\n"
   ]
  },
  {
   "cell_type": "code",
   "execution_count": 54,
   "metadata": {},
   "outputs": [
    {
     "data": {
      "text/plain": [
       "80"
      ]
     },
     "execution_count": 54,
     "metadata": {},
     "output_type": "execute_result"
    }
   ],
   "source": [
    "survey.num_rows"
   ]
  },
  {
   "cell_type": "markdown",
   "metadata": {},
   "source": [
    "Let's use this insight to improve our pivot table:"
   ]
  },
  {
   "cell_type": "code",
   "execution_count": 55,
   "metadata": {},
   "outputs": [
    {
     "data": {
      "text/html": [
       "<table border=\"1\" class=\"dataframe\">\n",
       "    <thead>\n",
       "        <tr>\n",
       "            <th>Timestamp</th> <th>Year</th> <th>Extroversion</th> <th>Texts</th> <th>Handedness</th> <th>Sleep Position</th> <th>Hours of Sleep</th> <th>Siblings</th> <th>Pets</th> <th>Random Number</th> <th>Tattoos</th> <th>Commute</th>\n",
       "        </tr>\n",
       "    </thead>\n",
       "    <tbody>\n",
       "        <tr>\n",
       "            <td>4/23/2024 9:31:24</td> <td>First </td> <td>1           </td> <td>12   </td> <td>Both      </td> <td>Stomach       </td> <td>4             </td> <td>0       </td> <td>0               </td> <td>1122         </td> <td>No     </td> <td>Car       </td>\n",
       "        </tr>\n",
       "        <tr>\n",
       "            <td>4/23/2024 9:31:52</td> <td>First </td> <td>2           </td> <td>200  </td> <td>Right     </td> <td>Right side    </td> <td>7             </td> <td>1       </td> <td>0               </td> <td>1417         </td> <td>No     </td> <td>Bus       </td>\n",
       "        </tr>\n",
       "        <tr>\n",
       "            <td>4/23/2024 9:32:06</td> <td>Second</td> <td>5           </td> <td>30   </td> <td>Right     </td> <td>Left side     </td> <td>6             </td> <td>4       </td> <td>0               </td> <td>1234         </td> <td>No     </td> <td>walk      </td>\n",
       "        </tr>\n",
       "        <tr>\n",
       "            <td>4/23/2024 9:33:01</td> <td>Second</td> <td>5           </td> <td>30   </td> <td>Right     </td> <td>Left side     </td> <td>6             </td> <td>4       </td> <td>0               </td> <td>1234         </td> <td>No     </td> <td>walk      </td>\n",
       "        </tr>\n",
       "        <tr>\n",
       "            <td>4/23/2024 9:33:02</td> <td>First </td> <td>7           </td> <td>15   </td> <td>Right     </td> <td>Left side     </td> <td>9             </td> <td>2       </td> <td>nan             </td> <td>1475         </td> <td>No     </td> <td>Skateboard</td>\n",
       "        </tr>\n",
       "        <tr>\n",
       "            <td>4/23/2024 9:37:21</td> <td>Second</td> <td>3           </td> <td>15   </td> <td>Right     </td> <td>Right side    </td> <td>7             </td> <td>2       </td> <td>cats, dogs, fish</td> <td>8457         </td> <td>No     </td> <td>Car       </td>\n",
       "        </tr>\n",
       "        <tr>\n",
       "            <td>4/23/2024 9:38:27</td> <td>First </td> <td>7           </td> <td>100  </td> <td>Right     </td> <td>Right side    </td> <td>8             </td> <td>7       </td> <td>4 black cats    </td> <td>6969         </td> <td>Yes    </td> <td>walk      </td>\n",
       "        </tr>\n",
       "        <tr>\n",
       "            <td>4/23/2024 9:38:53</td> <td>First </td> <td>1           </td> <td>16   </td> <td>Right     </td> <td>Stomach       </td> <td>9             </td> <td>1       </td> <td>1               </td> <td>3246         </td> <td>No     </td> <td>walk      </td>\n",
       "        </tr>\n",
       "        <tr>\n",
       "            <td>4/23/2024 9:39:14</td> <td>First </td> <td>7           </td> <td>100  </td> <td>Right     </td> <td>Right side    </td> <td>8             </td> <td>7       </td> <td>4 black cats    </td> <td>6902         </td> <td>Yes    </td> <td>walk      </td>\n",
       "        </tr>\n",
       "        <tr>\n",
       "            <td>4/23/2024 9:39:48</td> <td>First </td> <td>5           </td> <td>100  </td> <td>Right     </td> <td>Right side    </td> <td>8             </td> <td>2       </td> <td>2 cats          </td> <td>3497         </td> <td>No     </td> <td>Bike      </td>\n",
       "        </tr>\n",
       "    </tbody>\n",
       "</table>\n",
       "<p>... (70 rows omitted)</p>"
      ],
      "text/plain": [
       "Timestamp         | Year   | Extroversion | Texts | Handedness | Sleep Position | Hours of Sleep | Siblings | Pets             | Random Number | Tattoos | Commute\n",
       "4/23/2024 9:31:24 | First  | 1            | 12    | Both       | Stomach        | 4              | 0        | 0                | 1122          | No      | Car\n",
       "4/23/2024 9:31:52 | First  | 2            | 200   | Right      | Right side     | 7              | 1        | 0                | 1417          | No      | Bus\n",
       "4/23/2024 9:32:06 | Second | 5            | 30    | Right      | Left side      | 6              | 4        | 0                | 1234          | No      | walk\n",
       "4/23/2024 9:33:01 | Second | 5            | 30    | Right      | Left side      | 6              | 4        | 0                | 1234          | No      | walk\n",
       "4/23/2024 9:33:02 | First  | 7            | 15    | Right      | Left side      | 9              | 2        | nan              | 1475          | No      | Skateboard\n",
       "4/23/2024 9:37:21 | Second | 3            | 15    | Right      | Right side     | 7              | 2        | cats, dogs, fish | 8457          | No      | Car\n",
       "4/23/2024 9:38:27 | First  | 7            | 100   | Right      | Right side     | 8              | 7        | 4 black cats     | 6969          | Yes     | walk\n",
       "4/23/2024 9:38:53 | First  | 1            | 16    | Right      | Stomach        | 9              | 1        | 1                | 3246          | No      | walk\n",
       "4/23/2024 9:39:14 | First  | 7            | 100   | Right      | Right side     | 8              | 7        | 4 black cats     | 6902          | Yes     | walk\n",
       "4/23/2024 9:39:48 | First  | 5            | 100   | Right      | Right side     | 8              | 2        | 2 cats           | 3497          | No      | Bike\n",
       "... (70 rows omitted)"
      ]
     },
     "execution_count": 55,
     "metadata": {},
     "output_type": "execute_result"
    }
   ],
   "source": [
    "survey"
   ]
  },
  {
   "cell_type": "code",
   "execution_count": 57,
   "metadata": {
    "tags": []
   },
   "outputs": [
    {
     "data": {
      "text/html": [
       "<table border=\"1\" class=\"dataframe\">\n",
       "    <thead>\n",
       "        <tr>\n",
       "            <th>Hours of Sleep</th> <th>Back</th> <th>Left side</th> <th>Right side</th> <th>Stomach</th>\n",
       "        </tr>\n",
       "    </thead>\n",
       "    <tbody>\n",
       "        <tr>\n",
       "            <td>4             </td> <td>1   </td> <td>0        </td> <td>0         </td> <td>1      </td>\n",
       "        </tr>\n",
       "        <tr>\n",
       "            <td>5             </td> <td>1   </td> <td>1        </td> <td>3         </td> <td>0      </td>\n",
       "        </tr>\n",
       "        <tr>\n",
       "            <td>6             </td> <td>6   </td> <td>3        </td> <td>9         </td> <td>0      </td>\n",
       "        </tr>\n",
       "        <tr>\n",
       "            <td>7             </td> <td>11  </td> <td>4        </td> <td>6         </td> <td>6      </td>\n",
       "        </tr>\n",
       "        <tr>\n",
       "            <td>7.5           </td> <td>0   </td> <td>0        </td> <td>1         </td> <td>0      </td>\n",
       "        </tr>\n",
       "        <tr>\n",
       "            <td>8             </td> <td>2   </td> <td>6        </td> <td>10        </td> <td>2      </td>\n",
       "        </tr>\n",
       "        <tr>\n",
       "            <td>9             </td> <td>0   </td> <td>5        </td> <td>0         </td> <td>2      </td>\n",
       "        </tr>\n",
       "    </tbody>\n",
       "</table>"
      ],
      "text/plain": [
       "<IPython.core.display.HTML object>"
      ]
     },
     "metadata": {},
     "output_type": "display_data"
    }
   ],
   "source": [
    "# replace Hours of sleep with Hours of Sleep\n",
    "# replace Sleep position with Sleep Position\n",
    "p = survey.pivot(\"Sleep Position\", \"Hours of Sleep\")\n",
    "p.show()"
   ]
  },
  {
   "cell_type": "markdown",
   "metadata": {},
   "source": [
    "**Exercise:** Add the row totals to the table:"
   ]
  },
  {
   "cell_type": "code",
   "execution_count": 73,
   "metadata": {},
   "outputs": [
    {
     "data": {
      "text/plain": [
       "array([ 2,  5, 18, 27,  1, 20,  7])"
      ]
     },
     "execution_count": 73,
     "metadata": {},
     "output_type": "execute_result"
    }
   ],
   "source": [
    "totals = p.drop('Hours of Sleep')\n",
    "totals = totals.apply(sum)\n",
    "# when we don't pass in a second argument, it automatically applies that function to each row in the table\n",
    "\n",
    "# apply sum function to totals table, without the Hours of Sleep column\n",
    "# if we don't pass in a second argument into .apply method\n",
    "# what it does is it automatically applies that function  to each row in the table\n",
    "totals\n",
    "# we have 7 element in our totals array\n",
    "# corresponds to the 7 rows in our pivot table"
   ]
  },
  {
   "cell_type": "code",
   "execution_count": 72,
   "metadata": {},
   "outputs": [
    {
     "data": {
      "text/plain": [
       "array([ 4. ,  7. ,  6. ,  6. ,  9. ,  7. ,  8. ,  9. ,  8. ,  8. ,  6. ,\n",
       "        8. ,  7. ,  8. ,  9. ,  8. ,  8. ,  5. ,  5. ,  9. ,  7. ,  8. ,\n",
       "        5. ,  8. ,  8. ,  5. ,  7. ,  7. ,  8. ,  7.5,  6. ,  9. ,  7. ,\n",
       "        7. ,  7. ,  7. ,  7. ,  6. ,  7. ,  7. ,  6. ,  7. ,  8. ,  9. ,\n",
       "        7. ,  7. ,  6. ,  8. ,  7. ,  8. ,  6. ,  7. ,  7. ,  6. ,  7. ,\n",
       "        6. ,  6. ,  8. ,  6. ,  7. ,  7. ,  6. ,  6. ,  7. ,  7. ,  5. ,\n",
       "        6. ,  7. ,  8. ,  8. ,  6. ,  6. ,  9. ,  8. ,  8. ,  8. ,  7. ,\n",
       "        4. ,  7. ,  6. ])"
      ]
     },
     "execution_count": 72,
     "metadata": {},
     "output_type": "execute_result"
    }
   ],
   "source": [
    "survey.apply(np.min, 'Hours of Sleep')\n",
    "# we previously introduce .apply this way\n",
    "# where we can apply a function to a column, within a table\n",
    "# what returns is an array of the results\n",
    "\n",
    "# apply doesn't like built-in sum or min function\n",
    "# accepts np.min and np.sum"
   ]
  },
  {
   "cell_type": "markdown",
   "metadata": {},
   "source": [
    "**Exercise:** Do the same thing with a `group` and a `join`:"
   ]
  },
  {
   "cell_type": "code",
   "execution_count": null,
   "metadata": {},
   "outputs": [],
   "source": [
    "# TODO at home\n",
    "\n"
   ]
  },
  {
   "cell_type": "markdown",
   "metadata": {},
   "source": [
    "---\n",
    "\n",
    "<center> return to slides </center>\n",
    "\n",
    "---"
   ]
  },
  {
   "cell_type": "markdown",
   "metadata": {},
   "source": [
    "## Conditional Statements\n",
    "\n",
    "Conditional statements in python allow us to do different things based on the values in our data"
   ]
  },
  {
   "cell_type": "code",
   "execution_count": 83,
   "metadata": {
    "tags": []
   },
   "outputs": [],
   "source": [
    "age = 20\n",
    "# update age to 17\n",
    "age = 17"
   ]
  },
  {
   "cell_type": "markdown",
   "metadata": {},
   "source": [
    "If the value of x is greater than or equal to 18 then print 'You can legally vote.'"
   ]
  },
  {
   "cell_type": "code",
   "execution_count": 81,
   "metadata": {
    "tags": []
   },
   "outputs": [],
   "source": [
    "if age >= 18: # if the following statement is true (x >= 18), Python evaluates this as True\n",
    "    # proceed with running the code in this block\n",
    "    # a block is indicated by an indent\n",
    "    # and comes after a colon\n",
    "    print('You can legally vote.')"
   ]
  },
  {
   "cell_type": "code",
   "execution_count": null,
   "metadata": {},
   "outputs": [],
   "source": []
  },
  {
   "cell_type": "markdown",
   "metadata": {},
   "source": [
    "Conditionals consist of two main parts:\n",
    "\n",
    "```python\n",
    "\n",
    "if boolean expression here :\n",
    "    # body of the if statement goes here and must be indented\n",
    "```\n",
    "\n",
    "Notice than if the boolean expression is False than the body of the if statement is not executed:"
   ]
  },
  {
   "cell_type": "code",
   "execution_count": 86,
   "metadata": {},
   "outputs": [],
   "source": [
    "x = 21"
   ]
  },
  {
   "cell_type": "code",
   "execution_count": 87,
   "metadata": {
    "tags": []
   },
   "outputs": [
    {
     "name": "stdout",
     "output_type": "stream",
     "text": [
      "Can you drink?\n",
      "You can legally drink.\n",
      "This line of code is never run...\n",
      "This is run\n",
      "The value of x is 21\n"
     ]
    }
   ],
   "source": [
    "print(\"Can you drink?\")\n",
    "\n",
    "if x >= 21:\n",
    "    print('You can legally drink.')\n",
    "    print(\"This line of code does actually run...\")    \n",
    "\n",
    "print(\"This is run\")\n",
    "print(\"The value of x is\", x)"
   ]
  },
  {
   "cell_type": "markdown",
   "metadata": {},
   "source": [
    "Sometimes you want to do something else if the first statement wasn't true:"
   ]
  },
  {
   "cell_type": "code",
   "execution_count": 92,
   "metadata": {},
   "outputs": [],
   "source": [
    "x = 22"
   ]
  },
  {
   "cell_type": "code",
   "execution_count": 93,
   "metadata": {},
   "outputs": [
    {
     "name": "stdout",
     "output_type": "stream",
     "text": [
      "You can legally vote and drink.\n",
      "22\n"
     ]
    }
   ],
   "source": [
    "if x >= 21:\n",
    "    print('You can legally vote and drink.')\n",
    "    print(x)\n",
    "elif x >= 18:\n",
    "    print('You can legally vote.')\n",
    "    print(x)\n",
    "else:\n",
    "    print('You can legally drink milk.')\n",
    "    print(x)"
   ]
  },
  {
   "cell_type": "code",
   "execution_count": null,
   "metadata": {},
   "outputs": [],
   "source": []
  },
  {
   "cell_type": "markdown",
   "metadata": {},
   "source": [
    "Implementing a function with conditionals and muliple return values:"
   ]
  },
  {
   "cell_type": "code",
   "execution_count": 94,
   "metadata": {},
   "outputs": [],
   "source": [
    "def age(x):\n",
    "    if x >= 21:\n",
    "        return 'You can legally vote and drink.'\n",
    "    elif x >= 18:\n",
    "        return 'You can legally vote.'\n",
    "    else:\n",
    "        return 'You can legally drink milk.'"
   ]
  },
  {
   "cell_type": "code",
   "execution_count": 95,
   "metadata": {},
   "outputs": [
    {
     "data": {
      "text/plain": [
       "'You can legally drink milk.'"
      ]
     },
     "execution_count": 95,
     "metadata": {},
     "output_type": "execute_result"
    }
   ],
   "source": [
    "age(3)"
   ]
  },
  {
   "cell_type": "code",
   "execution_count": 96,
   "metadata": {},
   "outputs": [
    {
     "data": {
      "text/plain": [
       "'You can legally vote.'"
      ]
     },
     "execution_count": 96,
     "metadata": {},
     "output_type": "execute_result"
    }
   ],
   "source": [
    "age(20)"
   ]
  },
  {
   "cell_type": "code",
   "execution_count": 97,
   "metadata": {},
   "outputs": [
    {
     "data": {
      "text/plain": [
       "'You can legally vote and drink.'"
      ]
     },
     "execution_count": 97,
     "metadata": {},
     "output_type": "execute_result"
    }
   ],
   "source": [
    "age(23)"
   ]
  },
  {
   "cell_type": "markdown",
   "metadata": {},
   "source": [
    "### Putting the pieces together\n",
    "\n",
    "Here we will build a function that returns whether a trip was one way or a round trip:"
   ]
  },
  {
   "cell_type": "code",
   "execution_count": null,
   "metadata": {
    "tags": []
   },
   "outputs": [],
   "source": [
    "trip = Table().read_table('data/trip.csv')\n",
    "trip.show(3)"
   ]
  },
  {
   "cell_type": "code",
   "execution_count": null,
   "metadata": {
    "tags": []
   },
   "outputs": [],
   "source": []
  },
  {
   "cell_type": "markdown",
   "metadata": {},
   "source": [
    "Pivotting to Trip Kind"
   ]
  },
  {
   "cell_type": "code",
   "execution_count": null,
   "metadata": {},
   "outputs": [],
   "source": [
    "kinds_pivot = (\n",
    "    kinds\n",
    "    .where('Duration', are.below(600))\n",
    "    .pivot('Trip Kind', 'Start Station')\n",
    "    .sort(\"round trip\", descending=True)\n",
    "    .take(np.arange(10))\n",
    ")\n",
    "kinds_pivot"
   ]
  },
  {
   "cell_type": "markdown",
   "metadata": {},
   "source": [
    "---\n",
    "\n",
    "<center> return to slides </center>\n",
    "\n",
    "---"
   ]
  },
  {
   "cell_type": "markdown",
   "metadata": {},
   "source": [
    "## Simulation\n",
    "\n",
    "We will use simulation heavily in this class.  A key element of simulation is leveraging randomness. The numpy python library has many functions for generating random events. Today we will use the `np.random.choice` function:"
   ]
  },
  {
   "cell_type": "code",
   "execution_count": null,
   "metadata": {},
   "outputs": [],
   "source": [
    "mornings = make_array('wake up', 'sleep in')"
   ]
  },
  {
   "cell_type": "code",
   "execution_count": null,
   "metadata": {},
   "outputs": [],
   "source": [
    "np.random.choice(mornings)"
   ]
  },
  {
   "cell_type": "code",
   "execution_count": null,
   "metadata": {},
   "outputs": [],
   "source": [
    "np.random.choice(mornings)"
   ]
  },
  {
   "cell_type": "code",
   "execution_count": null,
   "metadata": {},
   "outputs": [],
   "source": [
    "np.random.choice(mornings)"
   ]
  },
  {
   "cell_type": "markdown",
   "metadata": {},
   "source": [
    "We can also pass an argument that specifies how many times to make a random choice:"
   ]
  },
  {
   "cell_type": "code",
   "execution_count": null,
   "metadata": {},
   "outputs": [],
   "source": [
    "np.random.choice(mornings, 7)"
   ]
  },
  {
   "cell_type": "code",
   "execution_count": null,
   "metadata": {},
   "outputs": [],
   "source": [
    "np.random.choice(mornings, 7)"
   ]
  },
  {
   "cell_type": "code",
   "execution_count": null,
   "metadata": {},
   "outputs": [],
   "source": [
    "morning_week = np.random.choice(mornings, 7)\n",
    "morning_week"
   ]
  },
  {
   "cell_type": "code",
   "execution_count": null,
   "metadata": {},
   "outputs": [],
   "source": [
    "sum(morning_week == 'wake up')"
   ]
  },
  {
   "cell_type": "code",
   "execution_count": null,
   "metadata": {},
   "outputs": [],
   "source": [
    "sum(morning_week == 'sleep in')"
   ]
  },
  {
   "cell_type": "code",
   "execution_count": null,
   "metadata": {},
   "outputs": [],
   "source": [
    "np.mean(morning_week == 'sleep in')"
   ]
  },
  {
   "cell_type": "markdown",
   "metadata": {},
   "source": [
    "### Playing a Game of Chance"
   ]
  },
  {
   "cell_type": "markdown",
   "metadata": {},
   "source": [
    "Steps:\n",
    "1. Find a way to simulate two dice rolls.\n",
    "2. Compute how much money we win/lose based on the result.\n",
    "3. Do steps 1 and 2 10,000 times."
   ]
  },
  {
   "cell_type": "markdown",
   "metadata": {},
   "source": [
    "Steps:\n",
    "1. Find a way to simulate two dice rolls.\n",
    "2. Compute how much money we win/lose based on the result.\n",
    "3. Do steps 1 and 2 10,000 times."
   ]
  },
  {
   "cell_type": "markdown",
   "metadata": {},
   "source": [
    "### Simulating the roll of a die"
   ]
  },
  {
   "cell_type": "code",
   "execution_count": null,
   "metadata": {},
   "outputs": [],
   "source": [
    "die_faces = np.arange(1, 7)\n",
    "die_faces"
   ]
  },
  {
   "cell_type": "code",
   "execution_count": null,
   "metadata": {},
   "outputs": [],
   "source": [
    "np.random.choice(die_faces)"
   ]
  },
  {
   "cell_type": "markdown",
   "metadata": {},
   "source": [
    "**Exercise:** Implement a function to simulate a single round of play and returns the result."
   ]
  },
  {
   "cell_type": "code",
   "execution_count": null,
   "metadata": {},
   "outputs": [],
   "source": []
  },
  {
   "cell_type": "code",
   "execution_count": null,
   "metadata": {},
   "outputs": [],
   "source": [
    "simulate_one_round()"
   ]
  },
  {
   "cell_type": "markdown",
   "metadata": {},
   "source": [
    "---\n",
    "\n",
    "<center> return to slides </center>\n",
    "\n",
    "---"
   ]
  },
  {
   "cell_type": "markdown",
   "metadata": {},
   "source": [
    "## `For` Statements\n",
    "\n",
    "The for statement is another way to apply code to each element in a list or an array."
   ]
  },
  {
   "cell_type": "code",
   "execution_count": null,
   "metadata": {
    "scrolled": true
   },
   "outputs": [],
   "source": [
    "for pet in make_array('cat', 'dog', 'rabbit'):\n",
    "    print('I love my ' + pet)"
   ]
  },
  {
   "cell_type": "markdown",
   "metadata": {},
   "source": [
    "**Exercise:** What is the output of this for loop?"
   ]
  },
  {
   "cell_type": "code",
   "execution_count": null,
   "metadata": {},
   "outputs": [],
   "source": [
    "x = 0\n",
    "for i in np.arange(1, 4):\n",
    "    x = x + i\n",
    "    print(x)\n",
    "\n",
    "print(\"The final value of x is:\", x)"
   ]
  },
  {
   "cell_type": "markdown",
   "metadata": {},
   "source": [
    "**Exercise:** Use a for loop to simulate the total outcome of 10,000 plays of our game of chance:"
   ]
  },
  {
   "cell_type": "code",
   "execution_count": null,
   "metadata": {},
   "outputs": [],
   "source": []
  },
  {
   "cell_type": "markdown",
   "metadata": {},
   "source": [
    "**Bonus Exercise:** Use table functions to simulate 10,000 rounds of play:"
   ]
  },
  {
   "cell_type": "code",
   "execution_count": null,
   "metadata": {},
   "outputs": [],
   "source": []
  },
  {
   "cell_type": "code",
   "execution_count": null,
   "metadata": {},
   "outputs": [],
   "source": [
    "print(\"My total winnings:\", rolls.column(\"outcome\").sum())"
   ]
  },
  {
   "cell_type": "markdown",
   "metadata": {},
   "source": [
    "---\n",
    "\n",
    "<center> return to slides </center>\n",
    "\n",
    "---"
   ]
  },
  {
   "cell_type": "markdown",
   "metadata": {},
   "source": [
    "## Appending Arrays\n",
    "\n",
    "Sometimes we will want to collect the outcomes of our simulations into a single array.  We can do this by appending each experiment to the end of an array using the numpy `np.append` function."
   ]
  },
  {
   "cell_type": "code",
   "execution_count": null,
   "metadata": {},
   "outputs": [],
   "source": [
    "first = np.arange(4)\n",
    "second = np.arange(10, 17)"
   ]
  },
  {
   "cell_type": "code",
   "execution_count": null,
   "metadata": {},
   "outputs": [],
   "source": [
    "np.append(first, 6)"
   ]
  },
  {
   "cell_type": "code",
   "execution_count": null,
   "metadata": {},
   "outputs": [],
   "source": [
    "first"
   ]
  },
  {
   "cell_type": "code",
   "execution_count": null,
   "metadata": {},
   "outputs": [],
   "source": [
    "np.append(first, second)"
   ]
  },
  {
   "cell_type": "code",
   "execution_count": null,
   "metadata": {},
   "outputs": [],
   "source": [
    "first"
   ]
  },
  {
   "cell_type": "code",
   "execution_count": null,
   "metadata": {},
   "outputs": [],
   "source": [
    "second"
   ]
  },
  {
   "cell_type": "markdown",
   "metadata": {},
   "source": [
    "**Exercise:** Use append to record the outcomes of all the games rather than just the total."
   ]
  },
  {
   "cell_type": "code",
   "execution_count": null,
   "metadata": {},
   "outputs": [],
   "source": []
  },
  {
   "cell_type": "markdown",
   "metadata": {},
   "source": [
    "### Another example: simulating heads in 100 coin tosses\n",
    "\n",
    "Suppose we simulate 100 coin tosses.  What fraction will be heads?  What if we simulate 100 coin tosses thousands of times.  What fraction will be heads?"
   ]
  },
  {
   "cell_type": "code",
   "execution_count": null,
   "metadata": {},
   "outputs": [],
   "source": [
    "coin = make_array('heads', 'tails')"
   ]
  },
  {
   "cell_type": "code",
   "execution_count": null,
   "metadata": {},
   "outputs": [],
   "source": [
    "sum(np.random.choice(coin, 100) == 'heads')"
   ]
  },
  {
   "cell_type": "code",
   "execution_count": null,
   "metadata": {},
   "outputs": [],
   "source": [
    "# Simulate one outcome\n",
    "\n",
    "def num_heads():\n",
    "    return sum(np.random.choice(coin, 100) == 'heads')"
   ]
  },
  {
   "cell_type": "code",
   "execution_count": null,
   "metadata": {},
   "outputs": [],
   "source": [
    "# Decide how many times you want to repeat the experiment\n",
    "\n",
    "repetitions = 10000"
   ]
  },
  {
   "cell_type": "code",
   "execution_count": null,
   "metadata": {},
   "outputs": [],
   "source": [
    "# Simulate that many outcomes\n",
    "\n",
    "outcomes = make_array()\n",
    "\n",
    "for i in np.arange(repetitions):\n",
    "    outcomes = np.append(outcomes, num_heads())"
   ]
  },
  {
   "cell_type": "code",
   "execution_count": null,
   "metadata": {},
   "outputs": [],
   "source": [
    "heads = Table().with_column('Heads', outcomes)\n",
    "heads.hist(bins = np.arange(29.5, 70.6))"
   ]
  },
  {
   "cell_type": "markdown",
   "metadata": {},
   "source": [
    "--- \n",
    "## Optional: Advanced `where`\n",
    "\n",
    "Sometimes the `are.above_or_equal_to` style syntax will be painful to use.  We can instead construct an array of booleans to select rows from our table.  This will allow us to select rows based on complex boolean expressions spanning multiple columns. "
   ]
  },
  {
   "cell_type": "code",
   "execution_count": null,
   "metadata": {},
   "outputs": [],
   "source": [
    "ages = make_array(16, 22, 18, 15, 19, 39, 27, 21)\n",
    "patients = Table().with_columns(\"Patient Id\", np.arange(len(ages))+1000, 'Age', ages,)\n",
    "patients"
   ]
  },
  {
   "cell_type": "markdown",
   "metadata": {},
   "source": [
    "**Exercise:** Find all the patients that are older than 21 or have a Patient Id that is even:"
   ]
  },
  {
   "cell_type": "code",
   "execution_count": null,
   "metadata": {},
   "outputs": [],
   "source": []
  },
  {
   "cell_type": "markdown",
   "metadata": {},
   "source": [
    "To compute the even patient ids, we can use the `%` modulus operator:"
   ]
  },
  {
   "cell_type": "code",
   "execution_count": null,
   "metadata": {},
   "outputs": [],
   "source": []
  }
 ],
 "metadata": {
  "anaconda-cloud": {},
  "kernelspec": {
   "display_name": "Python 3 (ipykernel)",
   "language": "python",
   "name": "python3"
  },
  "language_info": {
   "codemirror_mode": {
    "name": "ipython",
    "version": 3
   },
   "file_extension": ".py",
   "mimetype": "text/x-python",
   "name": "python",
   "nbconvert_exporter": "python",
   "pygments_lexer": "ipython3",
   "version": "3.11.5"
  }
 },
 "nbformat": 4,
 "nbformat_minor": 4
}
