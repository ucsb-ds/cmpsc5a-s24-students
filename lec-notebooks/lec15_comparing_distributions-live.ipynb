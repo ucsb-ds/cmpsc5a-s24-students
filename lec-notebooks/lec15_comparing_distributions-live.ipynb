{
 "cells": [
  {
   "cell_type": "code",
   "execution_count": 1,
   "metadata": {
    "tags": []
   },
   "outputs": [],
   "source": [
    "from datascience import *\n",
    "import numpy as np\n",
    "\n",
    "%matplotlib inline\n",
    "import matplotlib.pyplot as plots\n",
    "plots.style.use('fivethirtyeight')"
   ]
  },
  {
   "cell_type": "markdown",
   "metadata": {
    "tags": []
   },
   "source": [
    "# Empirical Distribution of a statistic"
   ]
  },
  {
   "cell_type": "code",
   "execution_count": 5,
   "metadata": {
    "tags": []
   },
   "outputs": [
    {
     "data": {
      "text/plain": [
       "2.0"
      ]
     },
     "execution_count": 5,
     "metadata": {},
     "output_type": "execute_result"
    }
   ],
   "source": [
    "united = Table.read_table('data/united.csv')\n",
    "united.sort('Delay', descending = True)\n",
    "# observe some flights were almost 10 hours late!\n",
    "\n",
    "np.average(united.column('Delay')) # extract our delay column as an array\n",
    "# we can pass an array into a function, like np.average\n",
    "\n",
    "# average flight is only 16 min...\n",
    "# and the median flight delay is: 2 min\n",
    "np.median(united.column('Delay')) \n",
    "\n",
    "# so this means, we have tons of outliers, and the bulk of our flights are probably between 0min late and 2-2.5 hours late"
   ]
  },
  {
   "cell_type": "code",
   "execution_count": 7,
   "metadata": {},
   "outputs": [
    {
     "data": {
      "text/plain": [
       "(14.424308747355365, 2.0)"
      ]
     },
     "execution_count": 7,
     "metadata": {},
     "output_type": "execute_result"
    }
   ],
   "source": [
    "# generate samples from united data set, we can think of our united data set as a stand-in population\n",
    "# let's exclude our outliers\n",
    "united = united.where('Delay', are.below(200))\n",
    "united\n",
    "np.average(united.column('Delay')), np.median(united.column('Delay'))\n",
    "# notice the average is affected by outliers, while the median is not....\n"
   ]
  },
  {
   "cell_type": "markdown",
   "metadata": {
    "tags": []
   },
   "source": [
    "# Swain vs. Alabama ##"
   ]
  },
  {
   "cell_type": "code",
   "execution_count": null,
   "metadata": {},
   "outputs": [],
   "source": [
    "# null: there was NO bias in the jury panel selection, it was randomly selected from talladega county, alabama\n",
    "# alternative: there was bias, the jury panel was not completely randomly selected from talladega county, alabama\n",
    "\n",
    "# observed statistic: 8 black men out of 100 men in the jury panel\n",
    "# chosen statistic to decide between the null/alternative: # of black men on the 100-person jury panel\n",
    "\n",
    "# we are going to simulate another jury panel from talladega county, alabama which at that time, had about 25-26% black men in the population\n",
    "# we are simulating under the null (assuming there was no bias) \n",
    "# and we are going to see, are we ever able to simulate a jury panel like the one that happened in real life (observed statistic)\n"
   ]
  },
  {
   "cell_type": "code",
   "execution_count": 8,
   "metadata": {},
   "outputs": [],
   "source": [
    "talladega_pop = 3_300_000 # population in talladega county at the time\n",
    "black_proportion = 0.26 # 26% of the pop was black\n",
    "white_proportion = 0.74 # 74% of the pop was white\n",
    "n_panel = 100"
   ]
  },
  {
   "cell_type": "code",
   "execution_count": 15,
   "metadata": {},
   "outputs": [],
   "source": [
    "black = np.repeat('black', int(black_proportion*talladega_pop)) #0.26 * 3_300_000\n",
    "# black = ('black', 'black', ....'black') and will have a length of 0.26 * 3_300_000 = 858_000\n",
    "white = np.repeat('white', int(white_proportion*talladega_pop)) #0.74 * 3_300_000\n",
    "# white = ('white', 'white', ...'white) and will have a length of 0.74 * 3_300_000 = 2,442,000\n",
    "people = np.append(black, white)\n",
    "people_t = Table().with_column('people', people)\n",
    "#people_t # this is our talladega county pop in a table\n",
    "# the above lines of code, do the same thing as a function we'll introduce\n",
    "# it is called sample_proportion"
   ]
  },
  {
   "cell_type": "code",
   "execution_count": 29,
   "metadata": {},
   "outputs": [
    {
     "data": {
      "text/plain": [
       "19"
      ]
     },
     "execution_count": 29,
     "metadata": {},
     "output_type": "execute_result"
    }
   ],
   "source": [
    "# simulate a sample from the people_t population table\n",
    "# to simulate our own jury panel, remember we are simulating under the null hypothesis: there was no bias in the selection\n",
    "panel = people_t.sample(n_panel).group('people')\n",
    "panel\n",
    "num_black_men_panel = panel.column('count').item(0)\n",
    "num_black_men_panel\n",
    "\n",
    "# we are doing a great job, simulating under the null hypothesis (operating under the assumption that the null is true)\n",
    "# this means, the number of black men in our simulated jury panel should be close to the true proportions in the population\n",
    "\n",
    "# are we ever able to simulate what actually happened -- observed statistic (8 black men on the jury panel)"
   ]
  },
  {
   "cell_type": "code",
   "execution_count": 30,
   "metadata": {},
   "outputs": [
    {
     "data": {
      "text/plain": [
       "array([ 0.26,  0.74])"
      ]
     },
     "execution_count": 30,
     "metadata": {},
     "output_type": "execute_result"
    }
   ],
   "source": [
    "# note that the exact value of n_people is irrelevant. We get the same results if we set it to e.g., 100 or some other number\n",
    "# it's the proportions of the ethnicities in the pop that matters\n",
    "# also note, that we had to write a lot of code. but there is an easier way, introduce sample_proportions()\n",
    "\n",
    "pop_proportions = make_array(black_proportion, white_proportion)\n",
    "pop_proportions\n",
    "# 0.26 = black proportion in talladega county, or 26%\n",
    "# 0.74 (the second element in my array) is my white proportion, or 74%"
   ]
  },
  {
   "cell_type": "code",
   "execution_count": 37,
   "metadata": {},
   "outputs": [
    {
     "data": {
      "text/plain": [
       "0.24"
      ]
     },
     "execution_count": 37,
     "metadata": {},
     "output_type": "execute_result"
    }
   ],
   "source": [
    "sim_jury_panel = sample_proportions(n_panel, pop_proportions)\n",
    "\n",
    "# sample_proportions(size of sample, array that stores the proportions/demographics of pop)\n",
    "# sample_proportions will generate a sample, of a given size, from a population of multiple groups/ethnicities\n",
    "# it will generate a random sample, from this population and will show us the representation of the different groups/ethnicities in our \n",
    "# sample\n",
    "\n",
    "# 0.31 or 31% of my jury panel of size 100, is black\n",
    "# 31 black men\n",
    "# 0.69 or 69% of my jury panel of size 100, is white\n",
    "# 69 white men\n",
    "\n",
    "# let's grab the first item in the array, this acts as our simulated statistic (number of black men in our jury panel\n",
    "sim_jury_panel.item(0)"
   ]
  },
  {
   "cell_type": "code",
   "execution_count": 38,
   "metadata": {},
   "outputs": [],
   "source": [
    "# let's put sample_proportions into a function, so that we can call on it in a for loop\n",
    "def panel_proportion():\n",
    "    sim_jury_panel = sample_proportions(n_panel, pop_proportions) \n",
    "    # same thing as\n",
    "    #sim_jury_panel = sample_proportions(100, make_array(0.26, 0.74))\n",
    "    sim_statistic = sim_jury_panel.item(0)\n",
    "    return sim_statistic # number of black men on our jury panel of 100\n"
   ]
  },
  {
   "cell_type": "code",
   "execution_count": 43,
   "metadata": {},
   "outputs": [
    {
     "data": {
      "text/plain": [
       "0.2"
      ]
     },
     "execution_count": 43,
     "metadata": {},
     "output_type": "execute_result"
    }
   ],
   "source": [
    "panel_proportion()"
   ]
  },
  {
   "cell_type": "code",
   "execution_count": 56,
   "metadata": {},
   "outputs": [],
   "source": [
    "# run it 10_000, simulate 10_000 jury panels and find the variation/distribution of number of black men on a jury panel\n",
    "# if there was NO bias in the selection\n",
    "# simulating under the null\n",
    "\n",
    "panels = make_array()\n",
    "\n",
    "for i in np.arange(10_000): # i will traverse through the array(0, 1, ... 9_999)\n",
    "    # i acts as a counter here, this for loop will run 10_000\n",
    "    # allowing us to simulate 10_000 jury panels\n",
    "    # and capture the sim_statistic (num of black men on each jury panel)\n",
    "    new_panel = panel_proportion() # new_panel will be something like 0.2, or 0.18 or 0.3 (proportion of black men on my panel)\n",
    "    panels = np.append(panels, new_panel) # the first time, our for loop runs, we will append the proportion above to an empty array\n",
    "    # e.g., panels = (0.2)\n",
    "    # second time this for loop runs, panels will look something like (0.2, 0.18)\n",
    "    # third time, (0.2, 0.18, 0.3)"
   ]
  },
  {
   "cell_type": "code",
   "execution_count": 58,
   "metadata": {},
   "outputs": [
    {
     "data": {
      "image/png": "[encoded data removed]",
      "text/plain": [
       "<Figure size 600x400 with 1 Axes>"
      ]
     },
     "metadata": {},
     "output_type": "display_data"
    }
   ],
   "source": [
    "len(panels)\n",
    "panels\n",
    "# we created our array of 10_000 simulated statistics (num of black men on panels)\n",
    "# now let's add our array to Table, so that we can create a histogram and see the distribution of black men on a jury panel\n",
    "# when there is NO bias (completely random) in the selection process\n",
    "panel = Table().with_column(\"Number of Black Men on Panel of 100\", panels * 100)\n",
    "panel.hist() # # let's first see the histogram with proportions\n",
    "\n",
    "# plot some more details (observed statistic)\n",
    "# these plotting lines are a bit out of scope for this class\n",
    "plots.ylim(-0.002, 0.09)\n",
    "plots.scatter(8,0,color='red', s=30); # observed statistic in red\n",
    "\n",
    "\n",
    "# were we ever able to simulate the observed statistic (what actually happened?)\n",
    "# should we accept the null? (fail to reject the null)\n",
    "# NO bias\n",
    "# OR\n",
    "# should we reject the null (and lean toward the alternative)\n",
    "# there is bias in the selection\n",
    "\n",
    "# answer on your own here...\n",
    "# can you read /interpret our results from this histogram\n",
    "# and phrase your answer in the context of the original data science question\n",
    "# is there bias or not in the original selection for the jury panel?\n",
    "# were we ever able to generate a jury panel that looked likt he original, assuming there was no bias?"
   ]
  },
  {
   "cell_type": "code",
   "execution_count": null,
   "metadata": {},
   "outputs": [],
   "source": []
  },
  {
   "cell_type": "code",
   "execution_count": null,
   "metadata": {},
   "outputs": [],
   "source": []
  },
  {
   "cell_type": "code",
   "execution_count": null,
   "metadata": {},
   "outputs": [],
   "source": []
  },
  {
   "cell_type": "code",
   "execution_count": 48,
   "metadata": {},
   "outputs": [
    {
     "name": "stdout",
     "output_type": "stream",
     "text": [
      "0\n",
      "0.31\n",
      "[ 0.31]\n",
      "1\n",
      "0.22\n",
      "[ 0.31  0.22]\n",
      "2\n",
      "0.23\n",
      "[ 0.31  0.22  0.23]\n",
      "3\n",
      "0.28\n",
      "[ 0.31  0.22  0.23  0.28]\n",
      "4\n",
      "0.32\n",
      "[ 0.31  0.22  0.23  0.28  0.32]\n",
      "5\n",
      "0.13\n",
      "[ 0.31  0.22  0.23  0.28  0.32  0.13]\n",
      "6\n",
      "0.29\n",
      "[ 0.31  0.22  0.23  0.28  0.32  0.13  0.29]\n",
      "7\n",
      "0.24\n",
      "[ 0.31  0.22  0.23  0.28  0.32  0.13  0.29  0.24]\n",
      "8\n",
      "0.26\n",
      "[ 0.31  0.22  0.23  0.28  0.32  0.13  0.29  0.24  0.26]\n",
      "9\n",
      "0.25\n",
      "[ 0.31  0.22  0.23  0.28  0.32  0.13  0.29  0.24  0.26  0.25]\n"
     ]
    }
   ],
   "source": [
    "# run it 10_000, simulate 10_000 jury panels and find the variation/distribution of number of black men on a jury panel\n",
    "# if there was NO bias in the selection\n",
    "# simulating under the null\n",
    "\n",
    "panels = make_array()\n",
    "\n",
    "for i in np.arange(10): # i will traverse through the array(0, 1, ... 9)\n",
    "    # i acts as a counter here, this for loop will run 10\n",
    "    # allowing us to simulate 10 jury panels\n",
    "    # and capture the sim_statistic (num of black men on each jury panel)\n",
    "    print(i)\n",
    "    new_panel = panel_proportion() # new_panel will be something like 0.2, or 0.18 or 0.3 (proportion of black men on my panel)\n",
    "    print(new_panel)\n",
    "    panels = np.append(panels, new_panel) # the first time, our for loop runs, we will append the proportion above to an empty array\n",
    "    print(panels)\n",
    "    # e.g., panels = (0.2)\n",
    "    # second time this for loop runs, panels will look something like (0.2, 0.18)\n",
    "    # third time, (0.2, 0.18, 0.3)"
   ]
  },
  {
   "cell_type": "code",
   "execution_count": 51,
   "metadata": {},
   "outputs": [
    {
     "name": "stdout",
     "output_type": "stream",
     "text": [
      "i =  0\n",
      "for loop # =  1\n",
      "new_panel =  0.29\n",
      "panels =  [ 0.29]\n",
      "i =  1\n",
      "for loop # =  2\n",
      "new_panel =  0.19\n",
      "panels =  [ 0.29  0.19]\n",
      "i =  2\n",
      "for loop # =  3\n",
      "new_panel =  0.25\n",
      "panels =  [ 0.29  0.19  0.25]\n",
      "i =  3\n",
      "for loop # =  4\n",
      "new_panel =  0.28\n",
      "panels =  [ 0.29  0.19  0.25  0.28]\n",
      "i =  4\n",
      "for loop # =  5\n",
      "new_panel =  0.28\n",
      "panels =  [ 0.29  0.19  0.25  0.28  0.28]\n",
      "i =  5\n",
      "for loop # =  6\n",
      "new_panel =  0.31\n",
      "panels =  [ 0.29  0.19  0.25  0.28  0.28  0.31]\n",
      "i =  6\n",
      "for loop # =  7\n",
      "new_panel =  0.31\n",
      "panels =  [ 0.29  0.19  0.25  0.28  0.28  0.31  0.31]\n",
      "i =  7\n",
      "for loop # =  8\n",
      "new_panel =  0.34\n",
      "panels =  [ 0.29  0.19  0.25  0.28  0.28  0.31  0.31  0.34]\n",
      "i =  8\n",
      "for loop # =  9\n",
      "new_panel =  0.3\n",
      "panels =  [ 0.29  0.19  0.25  0.28  0.28  0.31  0.31  0.34  0.3 ]\n",
      "i =  9\n",
      "for loop # =  10\n",
      "new_panel =  0.27\n",
      "panels =  [ 0.29  0.19  0.25  0.28  0.28  0.31  0.31  0.34  0.3   0.27]\n"
     ]
    }
   ],
   "source": [
    "# run it 10_000, simulate 10_000 jury panels and find the variation/distribution of number of black men on a jury panel\n",
    "# if there was NO bias in the selection\n",
    "# simulating under the null\n",
    "\n",
    "panels = make_array()\n",
    "\n",
    "for i in make_array(0,1,2,3,4,5,6,7,8,9): # i will traverse through the array(0, 1, ... 9)\n",
    "# template for our for loop header is\n",
    "# for i in some_array:\n",
    "    # i acts as a counter here, this for loop will run 10\n",
    "    # allowing us to simulate 10 jury panels\n",
    "    # and capture the sim_statistic (num of black men on each jury panel)\n",
    "    print(\"i = \", i)\n",
    "    print(\"for loop # = \", i+1)\n",
    "    new_panel = panel_proportion() # new_panel will be something like 0.2, or 0.18 or 0.3 (proportion of black men on my panel)\n",
    "    print('new_panel = ', new_panel)\n",
    "    panels = np.append(panels, new_panel) # the first time, our for loop runs, we will append the proportion above to an empty array\n",
    "    print('panels = ', panels)\n",
    "    # e.g., panels = (0.2)\n",
    "    # second time this for loop runs, panels will look something like (0.2, 0.18)\n",
    "    # third time, (0.2, 0.18, 0.3)"
   ]
  },
  {
   "cell_type": "markdown",
   "metadata": {},
   "source": [
    "# Mendel and Pea Flowers \n",
    "\n",
    "Mendel had 929 plants, of which 709 had purple flowers"
   ]
  },
  {
   "cell_type": "code",
   "execution_count": null,
   "metadata": {},
   "outputs": [],
   "source": []
  }
 ],
 "metadata": {
  "anaconda-cloud": {},
  "kernelspec": {
   "display_name": "Python 3 (ipykernel)",
   "language": "python",
   "name": "python3"
  },
  "language_info": {
   "codemirror_mode": {
    "name": "ipython",
    "version": 3
   },
   "file_extension": ".py",
   "mimetype": "text/x-python",
   "name": "python",
   "nbconvert_exporter": "python",
   "pygments_lexer": "ipython3",
   "version": "3.11.5"
  }
 },
 "nbformat": 4,
 "nbformat_minor": 4
}
