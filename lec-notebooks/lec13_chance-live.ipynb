{
 "cells": [
  {
   "cell_type": "code",
   "execution_count": 2,
   "metadata": {
    "tags": []
   },
   "outputs": [],
   "source": [
    "from datascience import *\n",
    "%matplotlib inline\n",
    "\n",
    "import matplotlib.pyplot as plt\n",
    "plt.style.use('fivethirtyeight')\n",
    "import numpy as np\n",
    "import warnings\n",
    "warnings.simplefilter(action='ignore', category=np.VisibleDeprecationWarning)"
   ]
  },
  {
   "cell_type": "markdown",
   "metadata": {},
   "source": [
    "# Simulation"
   ]
  },
  {
   "cell_type": "code",
   "execution_count": 4,
   "metadata": {
    "tags": []
   },
   "outputs": [
    {
     "data": {
      "text/plain": [
       "array(['head', 'tail'],\n",
       "      dtype='<U4')"
      ]
     },
     "execution_count": 4,
     "metadata": {},
     "output_type": "execute_result"
    }
   ],
   "source": [
    "coin = make_array('head', 'tail')\n",
    "coin"
   ]
  },
  {
   "cell_type": "code",
   "execution_count": 5,
   "metadata": {},
   "outputs": [
    {
     "data": {
      "text/plain": [
       "'tail'"
      ]
     },
     "execution_count": 5,
     "metadata": {},
     "output_type": "execute_result"
    }
   ],
   "source": [
    "# let's simulate one coin toss\n",
    "np.random.choice(coin)\n",
    "# if we pass in only ONE argument in np.random.choice, by default we will only randomly select ONCE"
   ]
  },
  {
   "cell_type": "code",
   "execution_count": 6,
   "metadata": {},
   "outputs": [
    {
     "data": {
      "text/plain": [
       "array(['head', 'head'],\n",
       "      dtype='<U4')"
      ]
     },
     "execution_count": 6,
     "metadata": {},
     "output_type": "execute_result"
    }
   ],
   "source": [
    "np.random.choice(coin, 2)\n",
    "# what returns is an array of my 2 random selections from coin array\n",
    "# we are simulating TWO coin tosses"
   ]
  },
  {
   "cell_type": "code",
   "execution_count": 7,
   "metadata": {},
   "outputs": [
    {
     "data": {
      "text/plain": [
       "array(['head', 'tail', 'tail', 'head', 'head', 'tail', 'tail', 'head',\n",
       "       'tail', 'head'],\n",
       "      dtype='<U4')"
      ]
     },
     "execution_count": 7,
     "metadata": {},
     "output_type": "execute_result"
    }
   ],
   "source": [
    "# we can now simulate 10 coin tosses\n",
    "np.random.choice(coin, 10)"
   ]
  },
  {
   "cell_type": "code",
   "execution_count": 8,
   "metadata": {},
   "outputs": [
    {
     "data": {
      "text/plain": [
       "array([False,  True], dtype=bool)"
      ]
     },
     "execution_count": 8,
     "metadata": {},
     "output_type": "execute_result"
    }
   ],
   "source": [
    "(np.random.choice(coin, 2)=='head')\n",
    "# the first time i flipped my coin, i got tail\n",
    "# the second time i got head\n",
    "# i got one heads in my coin toss\n"
   ]
  },
  {
   "cell_type": "code",
   "execution_count": 9,
   "metadata": {},
   "outputs": [
    {
     "data": {
      "text/plain": [
       "2"
      ]
     },
     "execution_count": 9,
     "metadata": {},
     "output_type": "execute_result"
    }
   ],
   "source": [
    "sum(np.random.choice(coin, 2)=='head')\n",
    "# np.random.choice(coin, 2), we are simulating 2 coin tosses\n",
    "# np.random.choice(coin, 2)=='head', we are counting the number of times 'head' appears\n",
    "# what returns is an array of boolean values\n",
    "# sum([True, True]) # sum counts the number of Trues\n",
    "# sum([1    ,  1])\n",
    "# 1 + 1 = 2"
   ]
  },
  {
   "cell_type": "code",
   "execution_count": 10,
   "metadata": {},
   "outputs": [
    {
     "data": {
      "text/plain": [
       "array(['head', 'tail', 'head', 'head', 'tail', 'tail', 'head', 'head',\n",
       "       'tail', 'head', 'head', 'tail', 'tail', 'tail', 'tail', 'head',\n",
       "       'tail', 'head', 'tail', 'tail', 'head', 'tail', 'tail', 'head',\n",
       "       'tail', 'tail', 'head', 'head', 'head', 'tail', 'head', 'tail',\n",
       "       'tail', 'tail', 'tail', 'head', 'head', 'head', 'head', 'tail',\n",
       "       'head', 'tail', 'tail', 'head', 'head', 'head', 'tail', 'head',\n",
       "       'head', 'head', 'tail', 'tail', 'tail', 'tail', 'head', 'tail',\n",
       "       'head', 'head', 'tail', 'tail', 'head', 'head', 'tail', 'tail',\n",
       "       'head', 'tail', 'tail', 'tail', 'head', 'tail', 'head', 'tail',\n",
       "       'head', 'tail', 'tail', 'tail', 'head', 'head', 'head', 'head',\n",
       "       'head', 'tail', 'head', 'tail', 'head', 'tail', 'head', 'tail',\n",
       "       'head', 'head', 'head', 'tail', 'tail', 'head', 'tail', 'head',\n",
       "       'tail', 'head', 'tail', 'head'],\n",
       "      dtype='<U4')"
      ]
     },
     "execution_count": 10,
     "metadata": {},
     "output_type": "execute_result"
    }
   ],
   "source": [
    "np.random.choice(coin, 100)"
   ]
  },
  {
   "cell_type": "markdown",
   "metadata": {},
   "source": [
    "---\n",
    "back to slides\n",
    "\n",
    "---\n",
    "# Chance"
   ]
  },
  {
   "cell_type": "markdown",
   "metadata": {},
   "source": [
    "## Probability Question\n",
    "- I have three cards: ace of hearts, king of diamonds, and queen of spades.\n",
    "- I shuffle them and draw two cards at random without replacement.\n",
    "- What is the chance that I get the Queen followed by the King?"
   ]
  },
  {
   "cell_type": "code",
   "execution_count": 11,
   "metadata": {},
   "outputs": [
    {
     "data": {
      "text/plain": [
       "array(['ace', 'king', 'queen'],\n",
       "      dtype='<U5')"
      ]
     },
     "execution_count": 11,
     "metadata": {},
     "output_type": "execute_result"
    }
   ],
   "source": [
    "cards = make_array('ace', 'king', 'queen')\n",
    "cards"
   ]
  },
  {
   "cell_type": "code",
   "execution_count": 23,
   "metadata": {},
   "outputs": [
    {
     "data": {
      "text/plain": [
       "array(['king', 'ace'],\n",
       "      dtype='<U5')"
      ]
     },
     "execution_count": 23,
     "metadata": {},
     "output_type": "execute_result"
    }
   ],
   "source": [
    "np.random.choice(cards, 2, replace = False)\n"
   ]
  },
  {
   "cell_type": "code",
   "execution_count": 24,
   "metadata": {},
   "outputs": [
    {
     "data": {
      "text/plain": [
       "0.16666666666666666"
      ]
     },
     "execution_count": 24,
     "metadata": {},
     "output_type": "execute_result"
    }
   ],
   "source": [
    "# the probabiliyt of me selecting a Queen first, then king\n",
    "1/3 * 1/2 # use multiplication rule, =  1/6\n"
   ]
  },
  {
   "cell_type": "code",
   "execution_count": 25,
   "metadata": {},
   "outputs": [
    {
     "data": {
      "text/plain": [
       "0.3333333333333333"
      ]
     },
     "execution_count": 25,
     "metadata": {},
     "output_type": "execute_result"
    }
   ],
   "source": [
    "# the probabiliyt of me selecting a Queen and a king (doesn't matter the order)\n",
    "# selecting one card at a time\n",
    "# two possibilities are: queen first, then king 1/3 * 1/2 \n",
    "# king first, then queen\n",
    "\n",
    "(1/3 * 1/2 ) + (1/3 * 1/2) # = 1/3\n"
   ]
  },
  {
   "cell_type": "markdown",
   "metadata": {
    "tags": []
   },
   "source": [
    "---\n",
    "back to slides\n",
    "\n",
    "---"
   ]
  },
  {
   "cell_type": "markdown",
   "metadata": {},
   "source": [
    "## Another Question\n",
    "- I have three cards: ace of hearts, king of diamonds, and queen of spades.\n",
    "- I shuffle them and draw two cards at random without replacement.\n",
    "- What is the chance that one of the cards I draw is a King and the other is Queen?"
   ]
  },
  {
   "cell_type": "code",
   "execution_count": null,
   "metadata": {},
   "outputs": [],
   "source": []
  },
  {
   "cell_type": "markdown",
   "metadata": {
    "tags": []
   },
   "source": [
    "--- \n",
    "back to slides\n",
    "\n",
    "---"
   ]
  },
  {
   "cell_type": "markdown",
   "metadata": {},
   "source": [
    "# Discussion question\n",
    "A population has 100 people, including Rick and Morty.\n",
    "We sample two people at random without replacement.\n",
    "\n",
    "1. P(both Rick and Morty are in the sample)\n",
    "1. P(neither Rick nor Morty is in the sample)"
   ]
  },
  {
   "cell_type": "code",
   "execution_count": null,
   "metadata": {},
   "outputs": [],
   "source": []
  },
  {
   "cell_type": "markdown",
   "metadata": {
    "tags": []
   },
   "source": [
    "---\n",
    "back to slides\n",
    "\n",
    "---"
   ]
  },
  {
   "cell_type": "markdown",
   "metadata": {},
   "source": [
    "# The Monty Hall Problem "
   ]
  },
  {
   "cell_type": "code",
   "execution_count": null,
   "metadata": {
    "tags": []
   },
   "outputs": [],
   "source": [
    "doors = make_array('car', 'first goat', 'second goat')\n",
    "doors"
   ]
  },
  {
   "cell_type": "code",
   "execution_count": null,
   "metadata": {
    "tags": []
   },
   "outputs": [],
   "source": [
    "def monty_hall():\n",
    "    \"\"\"Return \n",
    "    [contestant's guess, what Monty reveals, what remains behind the other door]\"\"\"\n",
    "    \n",
    "    contestant_choice = np.random.choice(doors)\n",
    "    \n",
    "    if contestant_choice == 'first goat':\n",
    "        monty_choice = 'second goat'\n",
    "        remaining_choice = 'car' # Contestant wins if they switch door\n",
    "    \n",
    "    if contestant_choice == 'second goat':\n",
    "        monty_choice = 'first goat'\n",
    "        remaining_choice = 'car' # Contestant wins if they switch door\n",
    "    \n",
    "    if contestant_choice == 'car':\n",
    "        monty_choice = np.random.choice(['first goat', 'second goat'])\n",
    "        if monty_choice == 'first goat':\n",
    "            remaining_choice = 'second goat' # Contestant looses if they switch door\n",
    "        elif monty_choice == 'second goat':\n",
    "            remaining_choice = 'first goat' # Contestant looses if they switch door        \n",
    "        \n",
    "    return [contestant_choice, monty_choice, remaining_choice]"
   ]
  },
  {
   "cell_type": "code",
   "execution_count": null,
   "metadata": {
    "tags": []
   },
   "outputs": [],
   "source": [
    "monty_hall()"
   ]
  },
  {
   "cell_type": "code",
   "execution_count": null,
   "metadata": {
    "tags": []
   },
   "outputs": [],
   "source": [
    "results = Table(['Guess', 'Revealed', 'Remaining'])\n",
    "\n",
    "for i in np.arange(10000):\n",
    "    results.append(monty_hall())"
   ]
  },
  {
   "cell_type": "code",
   "execution_count": null,
   "metadata": {
    "tags": []
   },
   "outputs": [],
   "source": [
    "results.show(3)"
   ]
  },
  {
   "cell_type": "code",
   "execution_count": null,
   "metadata": {
    "tags": []
   },
   "outputs": [],
   "source": [
    "results.group('Guess').barh('Guess')"
   ]
  },
  {
   "cell_type": "code",
   "execution_count": null,
   "metadata": {
    "tags": []
   },
   "outputs": [],
   "source": [
    "results.group('Remaining').barh('Remaining')"
   ]
  },
  {
   "cell_type": "code",
   "execution_count": null,
   "metadata": {},
   "outputs": [],
   "source": []
  }
 ],
 "metadata": {
  "kernelspec": {
   "display_name": "Python 3 (ipykernel)",
   "language": "python",
   "name": "python3"
  },
  "language_info": {
   "codemirror_mode": {
    "name": "ipython",
    "version": 3
   },
   "file_extension": ".py",
   "mimetype": "text/x-python",
   "name": "python",
   "nbconvert_exporter": "python",
   "pygments_lexer": "ipython3",
   "version": "3.11.5"
  }
 },
 "nbformat": 4,
 "nbformat_minor": 4
}
