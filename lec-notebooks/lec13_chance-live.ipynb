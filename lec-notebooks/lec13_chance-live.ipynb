{
 "cells": [
  {
   "cell_type": "code",
   "execution_count": 1,
   "metadata": {
    "tags": []
   },
   "outputs": [],
   "source": [
    "from datascience import *\n",
    "%matplotlib inline\n",
    "\n",
    "import matplotlib.pyplot as plt\n",
    "plt.style.use('fivethirtyeight')\n",
    "import numpy as np\n",
    "import warnings\n",
    "warnings.simplefilter(action='ignore', category=np.VisibleDeprecationWarning)"
   ]
  },
  {
   "cell_type": "markdown",
   "metadata": {},
   "source": [
    "# Simulation"
   ]
  },
  {
   "cell_type": "code",
   "execution_count": 2,
   "metadata": {
    "tags": []
   },
   "outputs": [
    {
     "data": {
      "text/plain": [
       "array(['head', 'tail'],\n",
       "      dtype='<U4')"
      ]
     },
     "execution_count": 2,
     "metadata": {},
     "output_type": "execute_result"
    }
   ],
   "source": [
    "coin = make_array('head', 'tail')\n",
    "coin"
   ]
  },
  {
   "cell_type": "code",
   "execution_count": 3,
   "metadata": {},
   "outputs": [
    {
     "data": {
      "text/plain": [
       "'head'"
      ]
     },
     "execution_count": 3,
     "metadata": {},
     "output_type": "execute_result"
    }
   ],
   "source": [
    "# let's simulate one coin toss\n",
    "np.random.choice(coin)\n",
    "# if we pass in only ONE argument in np.random.choice, by default we will only randomly select ONCE"
   ]
  },
  {
   "cell_type": "code",
   "execution_count": 4,
   "metadata": {},
   "outputs": [
    {
     "data": {
      "text/plain": [
       "array(['tail', 'tail'],\n",
       "      dtype='<U4')"
      ]
     },
     "execution_count": 4,
     "metadata": {},
     "output_type": "execute_result"
    }
   ],
   "source": [
    "np.random.choice(coin, 2)\n",
    "# what returns is an array of my 2 random selections from coin array\n",
    "# we are simulating TWO coin tosses"
   ]
  },
  {
   "cell_type": "code",
   "execution_count": 5,
   "metadata": {},
   "outputs": [
    {
     "data": {
      "text/plain": [
       "array(['tail', 'head', 'head', 'head', 'head', 'head', 'head', 'head',\n",
       "       'head', 'tail'],\n",
       "      dtype='<U4')"
      ]
     },
     "execution_count": 5,
     "metadata": {},
     "output_type": "execute_result"
    }
   ],
   "source": [
    "# we can now simulate 10 coin tosses\n",
    "np.random.choice(coin, 10)"
   ]
  },
  {
   "cell_type": "code",
   "execution_count": 6,
   "metadata": {},
   "outputs": [
    {
     "data": {
      "text/plain": [
       "array([False, False], dtype=bool)"
      ]
     },
     "execution_count": 6,
     "metadata": {},
     "output_type": "execute_result"
    }
   ],
   "source": [
    "(np.random.choice(coin, 2)=='head')\n",
    "# the first time i flipped my coin, i got tail\n",
    "# the second time i got head\n",
    "# i got one heads in my coin toss\n"
   ]
  },
  {
   "cell_type": "code",
   "execution_count": 7,
   "metadata": {},
   "outputs": [
    {
     "data": {
      "text/plain": [
       "1"
      ]
     },
     "execution_count": 7,
     "metadata": {},
     "output_type": "execute_result"
    }
   ],
   "source": [
    "sum(np.random.choice(coin, 2)=='head')\n",
    "# np.random.choice(coin, 2), we are simulating 2 coin tosses\n",
    "# np.random.choice(coin, 2)=='head', we are counting the number of times 'head' appears\n",
    "# what returns is an array of boolean values\n",
    "# sum([True, True]) # sum counts the number of Trues\n",
    "# sum([1    ,  1])\n",
    "# 1 + 1 = 2"
   ]
  },
  {
   "cell_type": "code",
   "execution_count": 8,
   "metadata": {},
   "outputs": [
    {
     "data": {
      "text/plain": [
       "array(['head', 'tail', 'head', 'head', 'head', 'tail', 'head', 'tail',\n",
       "       'tail', 'head', 'tail', 'head', 'tail', 'head', 'tail', 'tail',\n",
       "       'tail', 'tail', 'head', 'head', 'tail', 'tail', 'tail', 'head',\n",
       "       'tail', 'tail', 'head', 'tail', 'head', 'tail', 'tail', 'head',\n",
       "       'head', 'tail', 'tail', 'tail', 'head', 'head', 'head', 'tail',\n",
       "       'tail', 'head', 'tail', 'tail', 'tail', 'head', 'tail', 'tail',\n",
       "       'head', 'tail', 'tail', 'head', 'tail', 'tail', 'head', 'tail',\n",
       "       'head', 'head', 'head', 'head', 'head', 'head', 'tail', 'tail',\n",
       "       'tail', 'tail', 'head', 'tail', 'tail', 'head', 'head', 'head',\n",
       "       'head', 'head', 'tail', 'tail', 'head', 'tail', 'tail', 'head',\n",
       "       'head', 'head', 'tail', 'tail', 'tail', 'tail', 'head', 'tail',\n",
       "       'tail', 'head', 'head', 'head', 'tail', 'head', 'tail', 'tail',\n",
       "       'tail', 'tail', 'tail', 'head'],\n",
       "      dtype='<U4')"
      ]
     },
     "execution_count": 8,
     "metadata": {},
     "output_type": "execute_result"
    }
   ],
   "source": [
    "np.random.choice(coin, 100)"
   ]
  },
  {
   "cell_type": "markdown",
   "metadata": {},
   "source": [
    "---\n",
    "back to slides\n",
    "\n",
    "---\n",
    "# Chance"
   ]
  },
  {
   "cell_type": "markdown",
   "metadata": {},
   "source": [
    "## Probability Question\n",
    "- I have three cards: ace of hearts, king of diamonds, and queen of spades.\n",
    "- I shuffle them and draw two cards at random without replacement.\n",
    "- What is the chance that I get the Queen followed by the King?"
   ]
  },
  {
   "cell_type": "code",
   "execution_count": 9,
   "metadata": {},
   "outputs": [
    {
     "data": {
      "text/plain": [
       "array(['ace', 'king', 'queen'],\n",
       "      dtype='<U5')"
      ]
     },
     "execution_count": 9,
     "metadata": {},
     "output_type": "execute_result"
    }
   ],
   "source": [
    "cards = make_array('ace', 'king', 'queen')\n",
    "cards"
   ]
  },
  {
   "cell_type": "code",
   "execution_count": 10,
   "metadata": {},
   "outputs": [
    {
     "data": {
      "text/plain": [
       "array(['king', 'queen'],\n",
       "      dtype='<U5')"
      ]
     },
     "execution_count": 10,
     "metadata": {},
     "output_type": "execute_result"
    }
   ],
   "source": [
    "np.random.choice(cards, 2, replace = False)\n"
   ]
  },
  {
   "cell_type": "code",
   "execution_count": 11,
   "metadata": {},
   "outputs": [
    {
     "data": {
      "text/plain": [
       "0.16666666666666666"
      ]
     },
     "execution_count": 11,
     "metadata": {},
     "output_type": "execute_result"
    }
   ],
   "source": [
    "# the probabiliyt of me selecting a Queen first, then king\n",
    "1/3 * 1/2 # use multiplication rule, =  1/6\n"
   ]
  },
  {
   "cell_type": "code",
   "execution_count": 12,
   "metadata": {},
   "outputs": [
    {
     "data": {
      "text/plain": [
       "0.3333333333333333"
      ]
     },
     "execution_count": 12,
     "metadata": {},
     "output_type": "execute_result"
    }
   ],
   "source": [
    "# the probabiliyt of me selecting a Queen and a king (doesn't matter the order)\n",
    "# selecting one card at a time\n",
    "# two possibilities are: queen first, then king 1/3 * 1/2 \n",
    "# king first, then queen\n",
    "\n",
    "(1/3 * 1/2 ) + (1/3 * 1/2) # = 1/3\n"
   ]
  },
  {
   "cell_type": "markdown",
   "metadata": {
    "tags": []
   },
   "source": [
    "---\n",
    "back to slides\n",
    "\n",
    "---"
   ]
  },
  {
   "cell_type": "markdown",
   "metadata": {},
   "source": [
    "## Another Question\n",
    "- I have three cards: ace of hearts, king of diamonds, and queen of spades.\n",
    "- I shuffle them and draw two cards at random without replacement.\n",
    "- What is the chance that one of the cards I draw is a King and the other is Queen?"
   ]
  },
  {
   "cell_type": "code",
   "execution_count": null,
   "metadata": {},
   "outputs": [],
   "source": []
  },
  {
   "cell_type": "markdown",
   "metadata": {
    "tags": []
   },
   "source": [
    "--- \n",
    "back to slides\n",
    "\n",
    "---"
   ]
  },
  {
   "cell_type": "markdown",
   "metadata": {},
   "source": [
    "# Discussion question\n",
    "A population has 100 people, including Rick and Morty.\n",
    "We sample two people at random without replacement.\n",
    "\n",
    "1. P(both Rick and Morty are in the sample)\n",
    "1. P(neither Rick nor Morty is in the sample)"
   ]
  },
  {
   "cell_type": "code",
   "execution_count": null,
   "metadata": {},
   "outputs": [],
   "source": []
  },
  {
   "cell_type": "markdown",
   "metadata": {
    "tags": []
   },
   "source": [
    "---\n",
    "back to slides\n",
    "\n",
    "---"
   ]
  },
  {
   "cell_type": "markdown",
   "metadata": {},
   "source": [
    "# The Monty Hall Problem "
   ]
  },
  {
   "cell_type": "code",
   "execution_count": 13,
   "metadata": {
    "tags": []
   },
   "outputs": [
    {
     "data": {
      "text/plain": [
       "array(['car', 'first goat', 'second goat'],\n",
       "      dtype='<U11')"
      ]
     },
     "execution_count": 13,
     "metadata": {},
     "output_type": "execute_result"
    }
   ],
   "source": [
    "doors = make_array('car', 'first goat', 'second goat')\n",
    "doors"
   ]
  },
  {
   "cell_type": "code",
   "execution_count": 20,
   "metadata": {
    "tags": []
   },
   "outputs": [],
   "source": [
    "def monty_hall():\n",
    "    \"\"\"Return \n",
    "    [contestant's guess, what Monty reveals, what remains behind the other door]\"\"\"\n",
    "\n",
    "    # randomly chooses an element from our doors array\n",
    "    # contestant_choice will either be car, first goat, second goat\n",
    "    contestant_choice = np.random.choice(doors)\n",
    "\n",
    "\n",
    "    # first scenario: i choose a goat\n",
    "    if contestant_choice == 'first goat':\n",
    "        # if (contestant_choice == 'first goat') evaluates to True\n",
    "        #Python will run lines 14 and 15 \n",
    "        # exit out of the if branches\n",
    "        # and go to line 38, and evaluate the return statement of the function\n",
    "        monty_choice = 'second goat'\n",
    "        remaining_choice = 'car' # Contestant wins if they switch door\n",
    "        \n",
    "\n",
    "    # second scenario: i choose a goat, second goat\n",
    "    if contestant_choice == 'second goat':\n",
    "        # if (contestant choice == 'second goat') evaluates to True\n",
    "        # in other words, if (True):\n",
    "        # Python will proceed with running lines 25-26, the code indented after the if statement\n",
    "        # exit out of the if branches\n",
    "        # evaluate the return statement at the bottom\n",
    "        monty_choice = 'first goat'\n",
    "        remaining_choice = 'car' # Contestant wins if they switch door\n",
    "\n",
    "    # third scenario, i choose a car \n",
    "    if contestant_choice == 'car':\n",
    "        # randomly choose from first goat or second goat list, \n",
    "        # this informs which door monty hall will open to reveal a goat\n",
    "\n",
    "        # contestant will WIN if they choose to stay with first selection\n",
    "        monty_choice = np.random.choice(['first goat', 'second goat'])\n",
    "        if monty_choice == 'first goat':\n",
    "            remaining_choice = 'second goat' # Contestant LOSES if they switch door\n",
    "        elif monty_choice == 'second goat':\n",
    "            remaining_choice = 'first goat' # Contestant LOSES if they switch door        \n",
    "    \n",
    "        \n",
    "    return [contestant_choice, monty_choice, remaining_choice]"
   ]
  },
  {
   "cell_type": "code",
   "execution_count": 23,
   "metadata": {
    "tags": []
   },
   "outputs": [
    {
     "data": {
      "text/plain": [
       "['second goat', 'first goat', 'car']"
      ]
     },
     "execution_count": 23,
     "metadata": {},
     "output_type": "execute_result"
    }
   ],
   "source": [
    "monty_hall()"
   ]
  },
  {
   "cell_type": "code",
   "execution_count": 24,
   "metadata": {},
   "outputs": [
    {
     "data": {
      "text/html": [
       "<table border=\"1\" class=\"dataframe\">\n",
       "    <thead>\n",
       "        <tr>\n",
       "            <th>Guess</th> <th>Revealed</th> <th>Remaining</th>\n",
       "        </tr>\n",
       "    </thead>\n",
       "    <tbody>\n",
       "    </tbody>\n",
       "</table>"
      ],
      "text/plain": [
       "Guess | Revealed | Remaining"
      ]
     },
     "execution_count": 24,
     "metadata": {},
     "output_type": "execute_result"
    }
   ],
   "source": [
    "results = Table(['Guess', 'Revealed', 'Remaining'])\n",
    "results"
   ]
  },
  {
   "cell_type": "code",
   "execution_count": 28,
   "metadata": {},
   "outputs": [
    {
     "data": {
      "text/html": [
       "<table border=\"1\" class=\"dataframe\">\n",
       "    <thead>\n",
       "        <tr>\n",
       "            <th>Guess</th> <th>Revealed</th> <th>Remaining</th>\n",
       "        </tr>\n",
       "    </thead>\n",
       "    <tbody>\n",
       "        <tr>\n",
       "            <td>car        </td> <td>first goat</td> <td>second goat</td>\n",
       "        </tr>\n",
       "        <tr>\n",
       "            <td>second goat</td> <td>first goat</td> <td>car        </td>\n",
       "        </tr>\n",
       "        <tr>\n",
       "            <td>second goat</td> <td>first goat</td> <td>car        </td>\n",
       "        </tr>\n",
       "        <tr>\n",
       "            <td>car        </td> <td>first goat</td> <td>second goat</td>\n",
       "        </tr>\n",
       "    </tbody>\n",
       "</table>"
      ],
      "text/plain": [
       "Guess       | Revealed   | Remaining\n",
       "car         | first goat | second goat\n",
       "second goat | first goat | car\n",
       "second goat | first goat | car\n",
       "car         | first goat | second goat"
      ]
     },
     "execution_count": 28,
     "metadata": {},
     "output_type": "execute_result"
    }
   ],
   "source": [
    "results.append(monty_hall())\n",
    "# Table.append does not need an assignment statement to save the changes\n",
    "# here the changes are adding additional rows to our table"
   ]
  },
  {
   "cell_type": "code",
   "execution_count": 30,
   "metadata": {},
   "outputs": [
    {
     "data": {
      "text/html": [
       "<table border=\"1\" class=\"dataframe\">\n",
       "    <thead>\n",
       "        <tr>\n",
       "            <th>Guess</th> <th>Revealed</th> <th>Remaining</th>\n",
       "        </tr>\n",
       "    </thead>\n",
       "    <tbody>\n",
       "        <tr>\n",
       "            <td>car        </td> <td>first goat </td> <td>second goat</td>\n",
       "        </tr>\n",
       "        <tr>\n",
       "            <td>second goat</td> <td>first goat </td> <td>car        </td>\n",
       "        </tr>\n",
       "        <tr>\n",
       "            <td>second goat</td> <td>first goat </td> <td>car        </td>\n",
       "        </tr>\n",
       "        <tr>\n",
       "            <td>car        </td> <td>first goat </td> <td>second goat</td>\n",
       "        </tr>\n",
       "        <tr>\n",
       "            <td>car        </td> <td>second goat</td> <td>first goat </td>\n",
       "        </tr>\n",
       "        <tr>\n",
       "            <td>second goat</td> <td>first goat </td> <td>car        </td>\n",
       "        </tr>\n",
       "        <tr>\n",
       "            <td>second goat</td> <td>first goat </td> <td>car        </td>\n",
       "        </tr>\n",
       "        <tr>\n",
       "            <td>second goat</td> <td>first goat </td> <td>car        </td>\n",
       "        </tr>\n",
       "    </tbody>\n",
       "</table>"
      ],
      "text/plain": [
       "Guess       | Revealed    | Remaining\n",
       "car         | first goat  | second goat\n",
       "second goat | first goat  | car\n",
       "second goat | first goat  | car\n",
       "car         | first goat  | second goat\n",
       "car         | second goat | first goat\n",
       "second goat | first goat  | car\n",
       "second goat | first goat  | car\n",
       "second goat | first goat  | car"
      ]
     },
     "execution_count": 30,
     "metadata": {},
     "output_type": "execute_result"
    }
   ],
   "source": [
    "results\n",
    "results.append(monty_hall())\n",
    "results.append(monty_hall())\n",
    "results.append(monty_hall())\n",
    "results.append(monty_hall())\n"
   ]
  },
  {
   "cell_type": "code",
   "execution_count": 31,
   "metadata": {},
   "outputs": [
    {
     "data": {
      "text/html": [
       "<table border=\"1\" class=\"dataframe\">\n",
       "    <thead>\n",
       "        <tr>\n",
       "            <th>Guess</th> <th>Revealed</th> <th>Remaining</th>\n",
       "        </tr>\n",
       "    </thead>\n",
       "    <tbody>\n",
       "        <tr>\n",
       "            <td>car        </td> <td>first goat </td> <td>second goat</td>\n",
       "        </tr>\n",
       "        <tr>\n",
       "            <td>second goat</td> <td>first goat </td> <td>car        </td>\n",
       "        </tr>\n",
       "        <tr>\n",
       "            <td>second goat</td> <td>first goat </td> <td>car        </td>\n",
       "        </tr>\n",
       "        <tr>\n",
       "            <td>car        </td> <td>first goat </td> <td>second goat</td>\n",
       "        </tr>\n",
       "        <tr>\n",
       "            <td>car        </td> <td>second goat</td> <td>first goat </td>\n",
       "        </tr>\n",
       "        <tr>\n",
       "            <td>second goat</td> <td>first goat </td> <td>car        </td>\n",
       "        </tr>\n",
       "        <tr>\n",
       "            <td>second goat</td> <td>first goat </td> <td>car        </td>\n",
       "        </tr>\n",
       "        <tr>\n",
       "            <td>second goat</td> <td>first goat </td> <td>car        </td>\n",
       "        </tr>\n",
       "        <tr>\n",
       "            <td>car        </td> <td>first goat </td> <td>second goat</td>\n",
       "        </tr>\n",
       "        <tr>\n",
       "            <td>second goat</td> <td>first goat </td> <td>car        </td>\n",
       "        </tr>\n",
       "    </tbody>\n",
       "</table>\n",
       "<p>... (6 rows omitted)</p>"
      ],
      "text/plain": [
       "Guess       | Revealed    | Remaining\n",
       "car         | first goat  | second goat\n",
       "second goat | first goat  | car\n",
       "second goat | first goat  | car\n",
       "car         | first goat  | second goat\n",
       "car         | second goat | first goat\n",
       "second goat | first goat  | car\n",
       "second goat | first goat  | car\n",
       "second goat | first goat  | car\n",
       "car         | first goat  | second goat\n",
       "second goat | first goat  | car\n",
       "... (6 rows omitted)"
      ]
     },
     "execution_count": 31,
     "metadata": {},
     "output_type": "execute_result"
    }
   ],
   "source": [
    "results.append(monty_hall())\n",
    "results.append(monty_hall())\n",
    "results.append(monty_hall())\n",
    "results.append(monty_hall())\n",
    "results.append(monty_hall())\n",
    "results.append(monty_hall())\n",
    "results.append(monty_hall())\n",
    "results.append(monty_hall())\n"
   ]
  },
  {
   "cell_type": "code",
   "execution_count": 32,
   "metadata": {},
   "outputs": [
    {
     "data": {
      "text/html": [
       "<table border=\"1\" class=\"dataframe\">\n",
       "    <thead>\n",
       "        <tr>\n",
       "            <th>Guess</th> <th>Revealed</th> <th>Remaining</th>\n",
       "        </tr>\n",
       "    </thead>\n",
       "    <tbody>\n",
       "        <tr>\n",
       "            <td>car        </td> <td>first goat </td> <td>second goat</td>\n",
       "        </tr>\n",
       "        <tr>\n",
       "            <td>second goat</td> <td>first goat </td> <td>car        </td>\n",
       "        </tr>\n",
       "        <tr>\n",
       "            <td>second goat</td> <td>first goat </td> <td>car        </td>\n",
       "        </tr>\n",
       "        <tr>\n",
       "            <td>car        </td> <td>first goat </td> <td>second goat</td>\n",
       "        </tr>\n",
       "        <tr>\n",
       "            <td>car        </td> <td>second goat</td> <td>first goat </td>\n",
       "        </tr>\n",
       "        <tr>\n",
       "            <td>second goat</td> <td>first goat </td> <td>car        </td>\n",
       "        </tr>\n",
       "        <tr>\n",
       "            <td>second goat</td> <td>first goat </td> <td>car        </td>\n",
       "        </tr>\n",
       "        <tr>\n",
       "            <td>second goat</td> <td>first goat </td> <td>car        </td>\n",
       "        </tr>\n",
       "        <tr>\n",
       "            <td>car        </td> <td>first goat </td> <td>second goat</td>\n",
       "        </tr>\n",
       "        <tr>\n",
       "            <td>second goat</td> <td>first goat </td> <td>car        </td>\n",
       "        </tr>\n",
       "    </tbody>\n",
       "</table>\n",
       "<p>... (22 rows omitted)</p>"
      ],
      "text/plain": [
       "Guess       | Revealed    | Remaining\n",
       "car         | first goat  | second goat\n",
       "second goat | first goat  | car\n",
       "second goat | first goat  | car\n",
       "car         | first goat  | second goat\n",
       "car         | second goat | first goat\n",
       "second goat | first goat  | car\n",
       "second goat | first goat  | car\n",
       "second goat | first goat  | car\n",
       "car         | first goat  | second goat\n",
       "second goat | first goat  | car\n",
       "... (22 rows omitted)"
      ]
     },
     "execution_count": 32,
     "metadata": {},
     "output_type": "execute_result"
    }
   ],
   "source": [
    "# will add 16 more rows of our monty hall simulation\n",
    "results.append(monty_hall())\n",
    "results.append(monty_hall())\n",
    "results.append(monty_hall())\n",
    "results.append(monty_hall())\n",
    "results.append(monty_hall())\n",
    "results.append(monty_hall())\n",
    "results.append(monty_hall())\n",
    "results.append(monty_hall())\n",
    "results.append(monty_hall())\n",
    "results.append(monty_hall())\n",
    "results.append(monty_hall())\n",
    "results.append(monty_hall())\n",
    "results.append(monty_hall())\n",
    "results.append(monty_hall())\n",
    "results.append(monty_hall())\n",
    "results.append(monty_hall())\n",
    "# this is a signal that we may be able to do this MORE efficiently\n",
    "# with a for loop"
   ]
  },
  {
   "cell_type": "code",
   "execution_count": 38,
   "metadata": {},
   "outputs": [
    {
     "data": {
      "text/plain": [
       "10000"
      ]
     },
     "execution_count": 38,
     "metadata": {},
     "output_type": "execute_result"
    }
   ],
   "source": [
    "len(np.arange(10_000))"
   ]
  },
  {
   "cell_type": "code",
   "execution_count": 39,
   "metadata": {
    "tags": []
   },
   "outputs": [],
   "source": [
    "results = Table(['Guess', 'Revealed', 'Remaining'])\n",
    "results\n",
    "for i in np.arange(10_000): # for i (0, 1, 2, ... 9_999) \n",
    "    # notice there are 10_000 elements in the array (0, 1, 2, ..., 9_999)\n",
    "    # i will \"traverse\" through the array from i = 0, i = 1, ... i = 9_999\n",
    "    # because we don't use i in any of our calculations within the for loop, body \n",
    "    # i acts only as a counter, for how many times we will run the following code:\n",
    "    results.append(monty_hall())"
   ]
  },
  {
   "cell_type": "code",
   "execution_count": 40,
   "metadata": {
    "tags": []
   },
   "outputs": [
    {
     "data": {
      "text/html": [
       "<table border=\"1\" class=\"dataframe\">\n",
       "    <thead>\n",
       "        <tr>\n",
       "            <th>Guess</th> <th>Revealed</th> <th>Remaining</th>\n",
       "        </tr>\n",
       "    </thead>\n",
       "    <tbody>\n",
       "        <tr>\n",
       "            <td>second goat</td> <td>first goat </td> <td>car      </td>\n",
       "        </tr>\n",
       "        <tr>\n",
       "            <td>first goat </td> <td>second goat</td> <td>car      </td>\n",
       "        </tr>\n",
       "        <tr>\n",
       "            <td>first goat </td> <td>second goat</td> <td>car      </td>\n",
       "        </tr>\n",
       "    </tbody>\n",
       "</table>\n",
       "<p>... (9997 rows omitted)</p>"
      ],
      "text/plain": [
       "<IPython.core.display.HTML object>"
      ]
     },
     "metadata": {},
     "output_type": "display_data"
    }
   ],
   "source": [
    "results.show(3)"
   ]
  },
  {
   "cell_type": "code",
   "execution_count": 42,
   "metadata": {
    "tags": []
   },
   "outputs": [
    {
     "data": {
      "image/png": "[encoded data removed]",
      "text/plain": [
       "<Figure size 600x400 with 1 Axes>"
      ]
     },
     "metadata": {},
     "output_type": "display_data"
    }
   ],
   "source": [
    "results.group('Guess').barh('Guess')\n",
    "# probability of us selecting a goat on the first try is \n",
    "# using addition rule:\n",
    "# 1/3 + 1/3 = 2/3\n",
    "\n",
    "# probability of me selecting a car, if i switch doors is\n",
    "# probabiliyt of selecting goat first, then car:\n",
    "# 2/3 * 1/2 = 1/3\n",
    "\n",
    "# probabiliyt of us selecting a car on the first try is only\n",
    "# and then staying\n",
    "# 1/3 \n",
    "# and if we switch\n",
    "# 1/3 * 0 = 0"
   ]
  },
  {
   "cell_type": "code",
   "execution_count": 47,
   "metadata": {
    "tags": []
   },
   "outputs": [
    {
     "data": {
      "image/png": "[encoded data removed]",
      "text/plain": [
       "<Figure size 600x400 with 1 Axes>"
      ]
     },
     "metadata": {},
     "output_type": "display_data"
    }
   ],
   "source": [
    "results.group('Remaining').barh('Remaining')\n",
    "# why should we switch?"
   ]
  },
  {
   "cell_type": "code",
   "execution_count": 48,
   "metadata": {},
   "outputs": [
    {
     "data": {
      "text/plain": [
       "0.661"
      ]
     },
     "execution_count": 48,
     "metadata": {},
     "output_type": "execute_result"
    }
   ],
   "source": [
    "6610 / (6610 + 1683 + 1707) # 2/3 prob of my remaining door having a car behind it\n",
    "6610/ 10_000"
   ]
  },
  {
   "cell_type": "code",
   "execution_count": 49,
   "metadata": {},
   "outputs": [
    {
     "data": {
      "text/plain": [
       "0.339"
      ]
     },
     "execution_count": 49,
     "metadata": {},
     "output_type": "execute_result"
    }
   ],
   "source": [
    "(1683 + 1707) / (6610 + 1683 + 1707)\n",
    "(1683 + 1707)/10_000 # 1/3 prob of my remaining door having a goat behind it"
   ]
  },
  {
   "cell_type": "code",
   "execution_count": null,
   "metadata": {},
   "outputs": [],
   "source": []
  }
 ],
 "metadata": {
  "kernelspec": {
   "display_name": "Python 3 (ipykernel)",
   "language": "python",
   "name": "python3"
  },
  "language_info": {
   "codemirror_mode": {
    "name": "ipython",
    "version": 3
   },
   "file_extension": ".py",
   "mimetype": "text/x-python",
   "name": "python",
   "nbconvert_exporter": "python",
   "pygments_lexer": "ipython3",
   "version": "3.11.5"
  }
 },
 "nbformat": 4,
 "nbformat_minor": 4
}
